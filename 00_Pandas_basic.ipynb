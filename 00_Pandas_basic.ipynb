{
  "nbformat": 4,
  "nbformat_minor": 0,
  "metadata": {
    "colab": {
      "name": "00_Pandas_basic.ipynb",
      "provenance": [],
      "authorship_tag": "ABX9TyNmUp8FVYEM1+QKIZYeBRqO",
      "include_colab_link": true
    },
    "kernelspec": {
      "name": "python3",
      "display_name": "Python 3"
    }
  },
  "cells": [
    {
      "cell_type": "markdown",
      "metadata": {
        "id": "view-in-github",
        "colab_type": "text"
      },
      "source": [
        "<a href=\"https://colab.research.google.com/github/mohd-faizy/Lib_Pandas/blob/master/00_Pandas_basic.ipynb\" target=\"_parent\"><img src=\"https://colab.research.google.com/assets/colab-badge.svg\" alt=\"Open In Colab\"/></a>"
      ]
    },
    {
      "cell_type": "markdown",
      "metadata": {
        "id": "q9GIkMZ1BxYn",
        "colab_type": "text"
      },
      "source": [
        "# __Pandas Basics__\n",
        "\n"
      ]
    },
    {
      "cell_type": "code",
      "metadata": {
        "id": "4VmIUyuE7T1w",
        "colab_type": "code",
        "colab": {}
      },
      "source": [
        "import numpy as np\n",
        "import pandas as pd"
      ],
      "execution_count": 1,
      "outputs": []
    },
    {
      "cell_type": "code",
      "metadata": {
        "id": "LJ-xctnc7eng",
        "colab_type": "code",
        "colab": {}
      },
      "source": [
        "dict_1 = {\n",
        "    'name':['faizy', 'rahul', 'arjun', 'mike'], \n",
        "    'marks':[70, 50, 30, 20],\n",
        "    'city':['bijnor', 'delhi', 'noida', 'antartica']\n",
        "}"
      ],
      "execution_count": 2,
      "outputs": []
    },
    {
      "cell_type": "code",
      "metadata": {
        "id": "Zbc3iILf8Q4S",
        "colab_type": "code",
        "colab": {}
      },
      "source": [
        "# Changing it to a pandas dataframe\n",
        "df = pd.DataFrame(dict_1)   # Check: DataFrame should be in camel case  "
      ],
      "execution_count": 3,
      "outputs": []
    },
    {
      "cell_type": "code",
      "metadata": {
        "id": "JA0CgpS89Mzg",
        "colab_type": "code",
        "colab": {}
      },
      "source": [
        "# Changing it to a CSV format \n",
        "df.to_csv('classmates.csv')"
      ],
      "execution_count": 4,
      "outputs": []
    },
    {
      "cell_type": "code",
      "metadata": {
        "id": "LUP_tZjq-j7P",
        "colab_type": "code",
        "colab": {}
      },
      "source": [
        "df.to_csv('classmates_index_false.csv', index =  False)"
      ],
      "execution_count": 5,
      "outputs": []
    },
    {
      "cell_type": "code",
      "metadata": {
        "id": "oWiGwAgS8aA2",
        "colab_type": "code",
        "colab": {
          "base_uri": "https://localhost:8080/",
          "height": 107
        },
        "outputId": "39d6578b-93e5-4e57-d939-7b7df1ad3d0d"
      },
      "source": [
        "df.head(2)"
      ],
      "execution_count": 6,
      "outputs": [
        {
          "output_type": "execute_result",
          "data": {
            "text/html": [
              "<div>\n",
              "<style scoped>\n",
              "    .dataframe tbody tr th:only-of-type {\n",
              "        vertical-align: middle;\n",
              "    }\n",
              "\n",
              "    .dataframe tbody tr th {\n",
              "        vertical-align: top;\n",
              "    }\n",
              "\n",
              "    .dataframe thead th {\n",
              "        text-align: right;\n",
              "    }\n",
              "</style>\n",
              "<table border=\"1\" class=\"dataframe\">\n",
              "  <thead>\n",
              "    <tr style=\"text-align: right;\">\n",
              "      <th></th>\n",
              "      <th>name</th>\n",
              "      <th>marks</th>\n",
              "      <th>city</th>\n",
              "    </tr>\n",
              "  </thead>\n",
              "  <tbody>\n",
              "    <tr>\n",
              "      <th>0</th>\n",
              "      <td>faizy</td>\n",
              "      <td>70</td>\n",
              "      <td>bijnor</td>\n",
              "    </tr>\n",
              "    <tr>\n",
              "      <th>1</th>\n",
              "      <td>rahul</td>\n",
              "      <td>50</td>\n",
              "      <td>delhi</td>\n",
              "    </tr>\n",
              "  </tbody>\n",
              "</table>\n",
              "</div>"
            ],
            "text/plain": [
              "    name  marks    city\n",
              "0  faizy     70  bijnor\n",
              "1  rahul     50   delhi"
            ]
          },
          "metadata": {
            "tags": []
          },
          "execution_count": 6
        }
      ]
    },
    {
      "cell_type": "code",
      "metadata": {
        "id": "qtQnU7DI_tml",
        "colab_type": "code",
        "colab": {
          "base_uri": "https://localhost:8080/",
          "height": 107
        },
        "outputId": "d2f37839-97c7-484a-d738-554aef92028f"
      },
      "source": [
        "df.tail(2)"
      ],
      "execution_count": 7,
      "outputs": [
        {
          "output_type": "execute_result",
          "data": {
            "text/html": [
              "<div>\n",
              "<style scoped>\n",
              "    .dataframe tbody tr th:only-of-type {\n",
              "        vertical-align: middle;\n",
              "    }\n",
              "\n",
              "    .dataframe tbody tr th {\n",
              "        vertical-align: top;\n",
              "    }\n",
              "\n",
              "    .dataframe thead th {\n",
              "        text-align: right;\n",
              "    }\n",
              "</style>\n",
              "<table border=\"1\" class=\"dataframe\">\n",
              "  <thead>\n",
              "    <tr style=\"text-align: right;\">\n",
              "      <th></th>\n",
              "      <th>name</th>\n",
              "      <th>marks</th>\n",
              "      <th>city</th>\n",
              "    </tr>\n",
              "  </thead>\n",
              "  <tbody>\n",
              "    <tr>\n",
              "      <th>2</th>\n",
              "      <td>arjun</td>\n",
              "      <td>30</td>\n",
              "      <td>noida</td>\n",
              "    </tr>\n",
              "    <tr>\n",
              "      <th>3</th>\n",
              "      <td>mike</td>\n",
              "      <td>20</td>\n",
              "      <td>antartica</td>\n",
              "    </tr>\n",
              "  </tbody>\n",
              "</table>\n",
              "</div>"
            ],
            "text/plain": [
              "    name  marks       city\n",
              "2  arjun     30      noida\n",
              "3   mike     20  antartica"
            ]
          },
          "metadata": {
            "tags": []
          },
          "execution_count": 7
        }
      ]
    },
    {
      "cell_type": "code",
      "metadata": {
        "id": "QR6vb08d_ys6",
        "colab_type": "code",
        "colab": {
          "base_uri": "https://localhost:8080/",
          "height": 287
        },
        "outputId": "d566acb4-c0f0-47e2-a5a2-74c8190f2050"
      },
      "source": [
        "df.describe()"
      ],
      "execution_count": 8,
      "outputs": [
        {
          "output_type": "execute_result",
          "data": {
            "text/html": [
              "<div>\n",
              "<style scoped>\n",
              "    .dataframe tbody tr th:only-of-type {\n",
              "        vertical-align: middle;\n",
              "    }\n",
              "\n",
              "    .dataframe tbody tr th {\n",
              "        vertical-align: top;\n",
              "    }\n",
              "\n",
              "    .dataframe thead th {\n",
              "        text-align: right;\n",
              "    }\n",
              "</style>\n",
              "<table border=\"1\" class=\"dataframe\">\n",
              "  <thead>\n",
              "    <tr style=\"text-align: right;\">\n",
              "      <th></th>\n",
              "      <th>marks</th>\n",
              "    </tr>\n",
              "  </thead>\n",
              "  <tbody>\n",
              "    <tr>\n",
              "      <th>count</th>\n",
              "      <td>4.000000</td>\n",
              "    </tr>\n",
              "    <tr>\n",
              "      <th>mean</th>\n",
              "      <td>42.500000</td>\n",
              "    </tr>\n",
              "    <tr>\n",
              "      <th>std</th>\n",
              "      <td>22.173558</td>\n",
              "    </tr>\n",
              "    <tr>\n",
              "      <th>min</th>\n",
              "      <td>20.000000</td>\n",
              "    </tr>\n",
              "    <tr>\n",
              "      <th>25%</th>\n",
              "      <td>27.500000</td>\n",
              "    </tr>\n",
              "    <tr>\n",
              "      <th>50%</th>\n",
              "      <td>40.000000</td>\n",
              "    </tr>\n",
              "    <tr>\n",
              "      <th>75%</th>\n",
              "      <td>55.000000</td>\n",
              "    </tr>\n",
              "    <tr>\n",
              "      <th>max</th>\n",
              "      <td>70.000000</td>\n",
              "    </tr>\n",
              "  </tbody>\n",
              "</table>\n",
              "</div>"
            ],
            "text/plain": [
              "           marks\n",
              "count   4.000000\n",
              "mean   42.500000\n",
              "std    22.173558\n",
              "min    20.000000\n",
              "25%    27.500000\n",
              "50%    40.000000\n",
              "75%    55.000000\n",
              "max    70.000000"
            ]
          },
          "metadata": {
            "tags": []
          },
          "execution_count": 8
        }
      ]
    },
    {
      "cell_type": "code",
      "metadata": {
        "id": "-sjgoTOlCyTe",
        "colab_type": "code",
        "colab": {}
      },
      "source": [
        "data = pd.read_csv('/content/classmates_index_false.csv')"
      ],
      "execution_count": 9,
      "outputs": []
    },
    {
      "cell_type": "code",
      "metadata": {
        "id": "NDF6DcdfDPH4",
        "colab_type": "code",
        "colab": {
          "base_uri": "https://localhost:8080/",
          "height": 167
        },
        "outputId": "3026113a-84fa-4f10-91e6-709e7240ee36"
      },
      "source": [
        "data"
      ],
      "execution_count": 10,
      "outputs": [
        {
          "output_type": "execute_result",
          "data": {
            "text/html": [
              "<div>\n",
              "<style scoped>\n",
              "    .dataframe tbody tr th:only-of-type {\n",
              "        vertical-align: middle;\n",
              "    }\n",
              "\n",
              "    .dataframe tbody tr th {\n",
              "        vertical-align: top;\n",
              "    }\n",
              "\n",
              "    .dataframe thead th {\n",
              "        text-align: right;\n",
              "    }\n",
              "</style>\n",
              "<table border=\"1\" class=\"dataframe\">\n",
              "  <thead>\n",
              "    <tr style=\"text-align: right;\">\n",
              "      <th></th>\n",
              "      <th>name</th>\n",
              "      <th>marks</th>\n",
              "      <th>city</th>\n",
              "    </tr>\n",
              "  </thead>\n",
              "  <tbody>\n",
              "    <tr>\n",
              "      <th>0</th>\n",
              "      <td>faizy</td>\n",
              "      <td>70</td>\n",
              "      <td>bijnor</td>\n",
              "    </tr>\n",
              "    <tr>\n",
              "      <th>1</th>\n",
              "      <td>rahul</td>\n",
              "      <td>50</td>\n",
              "      <td>delhi</td>\n",
              "    </tr>\n",
              "    <tr>\n",
              "      <th>2</th>\n",
              "      <td>arjun</td>\n",
              "      <td>30</td>\n",
              "      <td>noida</td>\n",
              "    </tr>\n",
              "    <tr>\n",
              "      <th>3</th>\n",
              "      <td>mike</td>\n",
              "      <td>20</td>\n",
              "      <td>antartica</td>\n",
              "    </tr>\n",
              "  </tbody>\n",
              "</table>\n",
              "</div>"
            ],
            "text/plain": [
              "    name  marks       city\n",
              "0  faizy     70     bijnor\n",
              "1  rahul     50      delhi\n",
              "2  arjun     30      noida\n",
              "3   mike     20  antartica"
            ]
          },
          "metadata": {
            "tags": []
          },
          "execution_count": 10
        }
      ]
    },
    {
      "cell_type": "code",
      "metadata": {
        "id": "Ax43dxTZDVSO",
        "colab_type": "code",
        "colab": {
          "base_uri": "https://localhost:8080/",
          "height": 105
        },
        "outputId": "80454076-b8e9-48ac-912f-f7c54e474906"
      },
      "source": [
        "data['marks'][1] = 60"
      ],
      "execution_count": 11,
      "outputs": [
        {
          "output_type": "stream",
          "text": [
            "/usr/local/lib/python3.6/dist-packages/ipykernel_launcher.py:1: SettingWithCopyWarning: \n",
            "A value is trying to be set on a copy of a slice from a DataFrame\n",
            "\n",
            "See the caveats in the documentation: https://pandas.pydata.org/pandas-docs/stable/user_guide/indexing.html#returning-a-view-versus-a-copy\n",
            "  \"\"\"Entry point for launching an IPython kernel.\n"
          ],
          "name": "stderr"
        }
      ]
    },
    {
      "cell_type": "code",
      "metadata": {
        "id": "Bfe5TWS7D9jm",
        "colab_type": "code",
        "colab": {
          "base_uri": "https://localhost:8080/",
          "height": 167
        },
        "outputId": "0ff48ffd-605c-4b09-b54f-80b9f5d0d44d"
      },
      "source": [
        "data"
      ],
      "execution_count": 12,
      "outputs": [
        {
          "output_type": "execute_result",
          "data": {
            "text/html": [
              "<div>\n",
              "<style scoped>\n",
              "    .dataframe tbody tr th:only-of-type {\n",
              "        vertical-align: middle;\n",
              "    }\n",
              "\n",
              "    .dataframe tbody tr th {\n",
              "        vertical-align: top;\n",
              "    }\n",
              "\n",
              "    .dataframe thead th {\n",
              "        text-align: right;\n",
              "    }\n",
              "</style>\n",
              "<table border=\"1\" class=\"dataframe\">\n",
              "  <thead>\n",
              "    <tr style=\"text-align: right;\">\n",
              "      <th></th>\n",
              "      <th>name</th>\n",
              "      <th>marks</th>\n",
              "      <th>city</th>\n",
              "    </tr>\n",
              "  </thead>\n",
              "  <tbody>\n",
              "    <tr>\n",
              "      <th>0</th>\n",
              "      <td>faizy</td>\n",
              "      <td>70</td>\n",
              "      <td>bijnor</td>\n",
              "    </tr>\n",
              "    <tr>\n",
              "      <th>1</th>\n",
              "      <td>rahul</td>\n",
              "      <td>60</td>\n",
              "      <td>delhi</td>\n",
              "    </tr>\n",
              "    <tr>\n",
              "      <th>2</th>\n",
              "      <td>arjun</td>\n",
              "      <td>30</td>\n",
              "      <td>noida</td>\n",
              "    </tr>\n",
              "    <tr>\n",
              "      <th>3</th>\n",
              "      <td>mike</td>\n",
              "      <td>20</td>\n",
              "      <td>antartica</td>\n",
              "    </tr>\n",
              "  </tbody>\n",
              "</table>\n",
              "</div>"
            ],
            "text/plain": [
              "    name  marks       city\n",
              "0  faizy     70     bijnor\n",
              "1  rahul     60      delhi\n",
              "2  arjun     30      noida\n",
              "3   mike     20  antartica"
            ]
          },
          "metadata": {
            "tags": []
          },
          "execution_count": 12
        }
      ]
    },
    {
      "cell_type": "code",
      "metadata": {
        "id": "MTnawBf5ENLj",
        "colab_type": "code",
        "colab": {}
      },
      "source": [
        "data.index = ['first', 'second', 'third', 'fourth']"
      ],
      "execution_count": 13,
      "outputs": []
    },
    {
      "cell_type": "code",
      "metadata": {
        "id": "4BH16KlhNusB",
        "colab_type": "code",
        "colab": {
          "base_uri": "https://localhost:8080/",
          "height": 167
        },
        "outputId": "9c465bd3-59b9-400a-b679-d6efe5f01fa4"
      },
      "source": [
        "data"
      ],
      "execution_count": 14,
      "outputs": [
        {
          "output_type": "execute_result",
          "data": {
            "text/html": [
              "<div>\n",
              "<style scoped>\n",
              "    .dataframe tbody tr th:only-of-type {\n",
              "        vertical-align: middle;\n",
              "    }\n",
              "\n",
              "    .dataframe tbody tr th {\n",
              "        vertical-align: top;\n",
              "    }\n",
              "\n",
              "    .dataframe thead th {\n",
              "        text-align: right;\n",
              "    }\n",
              "</style>\n",
              "<table border=\"1\" class=\"dataframe\">\n",
              "  <thead>\n",
              "    <tr style=\"text-align: right;\">\n",
              "      <th></th>\n",
              "      <th>name</th>\n",
              "      <th>marks</th>\n",
              "      <th>city</th>\n",
              "    </tr>\n",
              "  </thead>\n",
              "  <tbody>\n",
              "    <tr>\n",
              "      <th>first</th>\n",
              "      <td>faizy</td>\n",
              "      <td>70</td>\n",
              "      <td>bijnor</td>\n",
              "    </tr>\n",
              "    <tr>\n",
              "      <th>second</th>\n",
              "      <td>rahul</td>\n",
              "      <td>60</td>\n",
              "      <td>delhi</td>\n",
              "    </tr>\n",
              "    <tr>\n",
              "      <th>third</th>\n",
              "      <td>arjun</td>\n",
              "      <td>30</td>\n",
              "      <td>noida</td>\n",
              "    </tr>\n",
              "    <tr>\n",
              "      <th>fourth</th>\n",
              "      <td>mike</td>\n",
              "      <td>20</td>\n",
              "      <td>antartica</td>\n",
              "    </tr>\n",
              "  </tbody>\n",
              "</table>\n",
              "</div>"
            ],
            "text/plain": [
              "         name  marks       city\n",
              "first   faizy     70     bijnor\n",
              "second  rahul     60      delhi\n",
              "third   arjun     30      noida\n",
              "fourth   mike     20  antartica"
            ]
          },
          "metadata": {
            "tags": []
          },
          "execution_count": 14
        }
      ]
    },
    {
      "cell_type": "code",
      "metadata": {
        "id": "sFlXivpMNwuM",
        "colab_type": "code",
        "colab": {
          "base_uri": "https://localhost:8080/",
          "height": 34
        },
        "outputId": "b3d4cab2-185c-43e5-84b5-bc27ba93d687"
      },
      "source": [
        "type(data)"
      ],
      "execution_count": 15,
      "outputs": [
        {
          "output_type": "execute_result",
          "data": {
            "text/plain": [
              "pandas.core.frame.DataFrame"
            ]
          },
          "metadata": {
            "tags": []
          },
          "execution_count": 15
        }
      ]
    },
    {
      "cell_type": "code",
      "metadata": {
        "id": "TBiDVAMsPj_R",
        "colab_type": "code",
        "colab": {}
      },
      "source": [
        "dataframe_series = pd.Series(np.random.rand(30))"
      ],
      "execution_count": 16,
      "outputs": []
    },
    {
      "cell_type": "code",
      "metadata": {
        "id": "2f7gAZF-QG_I",
        "colab_type": "code",
        "colab": {
          "base_uri": "https://localhost:8080/",
          "height": 567
        },
        "outputId": "c23441a6-f1b8-4ee0-c98d-d24a2e4a7ae1"
      },
      "source": [
        "dataframe_series"
      ],
      "execution_count": 17,
      "outputs": [
        {
          "output_type": "execute_result",
          "data": {
            "text/plain": [
              "0     0.038125\n",
              "1     0.892151\n",
              "2     0.252819\n",
              "3     0.412964\n",
              "4     0.283194\n",
              "5     0.788055\n",
              "6     0.282857\n",
              "7     0.916398\n",
              "8     0.118778\n",
              "9     0.570749\n",
              "10    0.344149\n",
              "11    0.638034\n",
              "12    0.959320\n",
              "13    0.509562\n",
              "14    0.621065\n",
              "15    0.972449\n",
              "16    0.579233\n",
              "17    0.171236\n",
              "18    0.424634\n",
              "19    0.741177\n",
              "20    0.086229\n",
              "21    0.897127\n",
              "22    0.416209\n",
              "23    0.658531\n",
              "24    0.967740\n",
              "25    0.451948\n",
              "26    0.553707\n",
              "27    0.075519\n",
              "28    0.370638\n",
              "29    0.525187\n",
              "dtype: float64"
            ]
          },
          "metadata": {
            "tags": []
          },
          "execution_count": 17
        }
      ]
    },
    {
      "cell_type": "code",
      "metadata": {
        "id": "54DuKrJiQKWu",
        "colab_type": "code",
        "colab": {
          "base_uri": "https://localhost:8080/",
          "height": 34
        },
        "outputId": "80f975d3-a435-4137-fbb3-9d2f0f7adba4"
      },
      "source": [
        "type(dataframe_series)"
      ],
      "execution_count": 18,
      "outputs": [
        {
          "output_type": "execute_result",
          "data": {
            "text/plain": [
              "pandas.core.series.Series"
            ]
          },
          "metadata": {
            "tags": []
          },
          "execution_count": 18
        }
      ]
    },
    {
      "cell_type": "code",
      "metadata": {
        "id": "UlI370wFQkCY",
        "colab_type": "code",
        "colab": {}
      },
      "source": [
        "new_df = pd.DataFrame(np.random.rand(300, 5), index = np.arange(300))"
      ],
      "execution_count": 19,
      "outputs": []
    },
    {
      "cell_type": "code",
      "metadata": {
        "id": "5cQr91CzRPlt",
        "colab_type": "code",
        "colab": {
          "base_uri": "https://localhost:8080/",
          "height": 406
        },
        "outputId": "d47762f3-666d-427a-cf5d-4af2ef32fcbd"
      },
      "source": [
        "new_df"
      ],
      "execution_count": 20,
      "outputs": [
        {
          "output_type": "execute_result",
          "data": {
            "text/html": [
              "<div>\n",
              "<style scoped>\n",
              "    .dataframe tbody tr th:only-of-type {\n",
              "        vertical-align: middle;\n",
              "    }\n",
              "\n",
              "    .dataframe tbody tr th {\n",
              "        vertical-align: top;\n",
              "    }\n",
              "\n",
              "    .dataframe thead th {\n",
              "        text-align: right;\n",
              "    }\n",
              "</style>\n",
              "<table border=\"1\" class=\"dataframe\">\n",
              "  <thead>\n",
              "    <tr style=\"text-align: right;\">\n",
              "      <th></th>\n",
              "      <th>0</th>\n",
              "      <th>1</th>\n",
              "      <th>2</th>\n",
              "      <th>3</th>\n",
              "      <th>4</th>\n",
              "    </tr>\n",
              "  </thead>\n",
              "  <tbody>\n",
              "    <tr>\n",
              "      <th>0</th>\n",
              "      <td>0.325324</td>\n",
              "      <td>0.351516</td>\n",
              "      <td>0.747502</td>\n",
              "      <td>0.252251</td>\n",
              "      <td>0.063048</td>\n",
              "    </tr>\n",
              "    <tr>\n",
              "      <th>1</th>\n",
              "      <td>0.560306</td>\n",
              "      <td>0.761380</td>\n",
              "      <td>0.739760</td>\n",
              "      <td>0.060856</td>\n",
              "      <td>0.165792</td>\n",
              "    </tr>\n",
              "    <tr>\n",
              "      <th>2</th>\n",
              "      <td>0.482958</td>\n",
              "      <td>0.879773</td>\n",
              "      <td>0.755738</td>\n",
              "      <td>0.736851</td>\n",
              "      <td>0.203240</td>\n",
              "    </tr>\n",
              "    <tr>\n",
              "      <th>3</th>\n",
              "      <td>0.965470</td>\n",
              "      <td>0.957761</td>\n",
              "      <td>0.214800</td>\n",
              "      <td>0.884814</td>\n",
              "      <td>0.887049</td>\n",
              "    </tr>\n",
              "    <tr>\n",
              "      <th>4</th>\n",
              "      <td>0.946059</td>\n",
              "      <td>0.005710</td>\n",
              "      <td>0.167932</td>\n",
              "      <td>0.180200</td>\n",
              "      <td>0.388442</td>\n",
              "    </tr>\n",
              "    <tr>\n",
              "      <th>...</th>\n",
              "      <td>...</td>\n",
              "      <td>...</td>\n",
              "      <td>...</td>\n",
              "      <td>...</td>\n",
              "      <td>...</td>\n",
              "    </tr>\n",
              "    <tr>\n",
              "      <th>295</th>\n",
              "      <td>0.607624</td>\n",
              "      <td>0.940568</td>\n",
              "      <td>0.854900</td>\n",
              "      <td>0.114394</td>\n",
              "      <td>0.821349</td>\n",
              "    </tr>\n",
              "    <tr>\n",
              "      <th>296</th>\n",
              "      <td>0.840378</td>\n",
              "      <td>0.791238</td>\n",
              "      <td>0.029959</td>\n",
              "      <td>0.341883</td>\n",
              "      <td>0.332195</td>\n",
              "    </tr>\n",
              "    <tr>\n",
              "      <th>297</th>\n",
              "      <td>0.420904</td>\n",
              "      <td>0.209322</td>\n",
              "      <td>0.322336</td>\n",
              "      <td>0.504221</td>\n",
              "      <td>0.694428</td>\n",
              "    </tr>\n",
              "    <tr>\n",
              "      <th>298</th>\n",
              "      <td>0.306647</td>\n",
              "      <td>0.221617</td>\n",
              "      <td>0.113838</td>\n",
              "      <td>0.074223</td>\n",
              "      <td>0.946116</td>\n",
              "    </tr>\n",
              "    <tr>\n",
              "      <th>299</th>\n",
              "      <td>0.978009</td>\n",
              "      <td>0.063214</td>\n",
              "      <td>0.930707</td>\n",
              "      <td>0.242679</td>\n",
              "      <td>0.443807</td>\n",
              "    </tr>\n",
              "  </tbody>\n",
              "</table>\n",
              "<p>300 rows × 5 columns</p>\n",
              "</div>"
            ],
            "text/plain": [
              "            0         1         2         3         4\n",
              "0    0.325324  0.351516  0.747502  0.252251  0.063048\n",
              "1    0.560306  0.761380  0.739760  0.060856  0.165792\n",
              "2    0.482958  0.879773  0.755738  0.736851  0.203240\n",
              "3    0.965470  0.957761  0.214800  0.884814  0.887049\n",
              "4    0.946059  0.005710  0.167932  0.180200  0.388442\n",
              "..        ...       ...       ...       ...       ...\n",
              "295  0.607624  0.940568  0.854900  0.114394  0.821349\n",
              "296  0.840378  0.791238  0.029959  0.341883  0.332195\n",
              "297  0.420904  0.209322  0.322336  0.504221  0.694428\n",
              "298  0.306647  0.221617  0.113838  0.074223  0.946116\n",
              "299  0.978009  0.063214  0.930707  0.242679  0.443807\n",
              "\n",
              "[300 rows x 5 columns]"
            ]
          },
          "metadata": {
            "tags": []
          },
          "execution_count": 20
        }
      ]
    },
    {
      "cell_type": "code",
      "metadata": {
        "id": "HGPSbj5TRQ9t",
        "colab_type": "code",
        "colab": {
          "base_uri": "https://localhost:8080/",
          "height": 34
        },
        "outputId": "fee5a40c-93be-4ef6-94d6-c5829b4650b5"
      },
      "source": [
        "type(new_df)"
      ],
      "execution_count": 21,
      "outputs": [
        {
          "output_type": "execute_result",
          "data": {
            "text/plain": [
              "pandas.core.frame.DataFrame"
            ]
          },
          "metadata": {
            "tags": []
          },
          "execution_count": 21
        }
      ]
    },
    {
      "cell_type": "code",
      "metadata": {
        "id": "6ll-iHb2R25z",
        "colab_type": "code",
        "colab": {
          "base_uri": "https://localhost:8080/",
          "height": 287
        },
        "outputId": "fd98c9f3-5976-4f08-cfb7-f89c8f571e1a"
      },
      "source": [
        "new_df.describe()"
      ],
      "execution_count": 22,
      "outputs": [
        {
          "output_type": "execute_result",
          "data": {
            "text/html": [
              "<div>\n",
              "<style scoped>\n",
              "    .dataframe tbody tr th:only-of-type {\n",
              "        vertical-align: middle;\n",
              "    }\n",
              "\n",
              "    .dataframe tbody tr th {\n",
              "        vertical-align: top;\n",
              "    }\n",
              "\n",
              "    .dataframe thead th {\n",
              "        text-align: right;\n",
              "    }\n",
              "</style>\n",
              "<table border=\"1\" class=\"dataframe\">\n",
              "  <thead>\n",
              "    <tr style=\"text-align: right;\">\n",
              "      <th></th>\n",
              "      <th>0</th>\n",
              "      <th>1</th>\n",
              "      <th>2</th>\n",
              "      <th>3</th>\n",
              "      <th>4</th>\n",
              "    </tr>\n",
              "  </thead>\n",
              "  <tbody>\n",
              "    <tr>\n",
              "      <th>count</th>\n",
              "      <td>300.000000</td>\n",
              "      <td>300.000000</td>\n",
              "      <td>300.000000</td>\n",
              "      <td>300.000000</td>\n",
              "      <td>300.000000</td>\n",
              "    </tr>\n",
              "    <tr>\n",
              "      <th>mean</th>\n",
              "      <td>0.491065</td>\n",
              "      <td>0.476691</td>\n",
              "      <td>0.520085</td>\n",
              "      <td>0.510799</td>\n",
              "      <td>0.492415</td>\n",
              "    </tr>\n",
              "    <tr>\n",
              "      <th>std</th>\n",
              "      <td>0.284702</td>\n",
              "      <td>0.300902</td>\n",
              "      <td>0.288945</td>\n",
              "      <td>0.294422</td>\n",
              "      <td>0.277200</td>\n",
              "    </tr>\n",
              "    <tr>\n",
              "      <th>min</th>\n",
              "      <td>0.000113</td>\n",
              "      <td>0.004334</td>\n",
              "      <td>0.002997</td>\n",
              "      <td>0.000664</td>\n",
              "      <td>0.000236</td>\n",
              "    </tr>\n",
              "    <tr>\n",
              "      <th>25%</th>\n",
              "      <td>0.276592</td>\n",
              "      <td>0.210468</td>\n",
              "      <td>0.260371</td>\n",
              "      <td>0.236662</td>\n",
              "      <td>0.273237</td>\n",
              "    </tr>\n",
              "    <tr>\n",
              "      <th>50%</th>\n",
              "      <td>0.471016</td>\n",
              "      <td>0.465465</td>\n",
              "      <td>0.559810</td>\n",
              "      <td>0.541988</td>\n",
              "      <td>0.489698</td>\n",
              "    </tr>\n",
              "    <tr>\n",
              "      <th>75%</th>\n",
              "      <td>0.732006</td>\n",
              "      <td>0.752242</td>\n",
              "      <td>0.769350</td>\n",
              "      <td>0.764119</td>\n",
              "      <td>0.722180</td>\n",
              "    </tr>\n",
              "    <tr>\n",
              "      <th>max</th>\n",
              "      <td>0.999886</td>\n",
              "      <td>0.998731</td>\n",
              "      <td>0.988223</td>\n",
              "      <td>0.996340</td>\n",
              "      <td>0.998252</td>\n",
              "    </tr>\n",
              "  </tbody>\n",
              "</table>\n",
              "</div>"
            ],
            "text/plain": [
              "                0           1           2           3           4\n",
              "count  300.000000  300.000000  300.000000  300.000000  300.000000\n",
              "mean     0.491065    0.476691    0.520085    0.510799    0.492415\n",
              "std      0.284702    0.300902    0.288945    0.294422    0.277200\n",
              "min      0.000113    0.004334    0.002997    0.000664    0.000236\n",
              "25%      0.276592    0.210468    0.260371    0.236662    0.273237\n",
              "50%      0.471016    0.465465    0.559810    0.541988    0.489698\n",
              "75%      0.732006    0.752242    0.769350    0.764119    0.722180\n",
              "max      0.999886    0.998731    0.988223    0.996340    0.998252"
            ]
          },
          "metadata": {
            "tags": []
          },
          "execution_count": 22
        }
      ]
    },
    {
      "cell_type": "code",
      "metadata": {
        "id": "tO7vPOpJR5gz",
        "colab_type": "code",
        "colab": {
          "base_uri": "https://localhost:8080/",
          "height": 123
        },
        "outputId": "ce3a9896-8ed1-489b-ff59-5b452e3337da"
      },
      "source": [
        "new_df.dtypes"
      ],
      "execution_count": 23,
      "outputs": [
        {
          "output_type": "execute_result",
          "data": {
            "text/plain": [
              "0    float64\n",
              "1    float64\n",
              "2    float64\n",
              "3    float64\n",
              "4    float64\n",
              "dtype: object"
            ]
          },
          "metadata": {
            "tags": []
          },
          "execution_count": 23
        }
      ]
    },
    {
      "cell_type": "code",
      "metadata": {
        "id": "Qj71gbhuSGXS",
        "colab_type": "code",
        "colab": {}
      },
      "source": [
        "new_df[0][0] = 'faizy'"
      ],
      "execution_count": 24,
      "outputs": []
    },
    {
      "cell_type": "code",
      "metadata": {
        "id": "f7Py-rsUSYEh",
        "colab_type": "code",
        "colab": {
          "base_uri": "https://localhost:8080/",
          "height": 123
        },
        "outputId": "60ce1d2b-45a6-4f0a-cc70-ce97de28ea66"
      },
      "source": [
        "new_df.dtypes"
      ],
      "execution_count": 25,
      "outputs": [
        {
          "output_type": "execute_result",
          "data": {
            "text/plain": [
              "0     object\n",
              "1    float64\n",
              "2    float64\n",
              "3    float64\n",
              "4    float64\n",
              "dtype: object"
            ]
          },
          "metadata": {
            "tags": []
          },
          "execution_count": 25
        }
      ]
    },
    {
      "cell_type": "code",
      "metadata": {
        "id": "rtVLuRc8ScTh",
        "colab_type": "code",
        "colab": {
          "base_uri": "https://localhost:8080/",
          "height": 197
        },
        "outputId": "6a43b00d-dd30-426a-ff68-a9614ad5d14e"
      },
      "source": [
        "new_df.head()"
      ],
      "execution_count": 26,
      "outputs": [
        {
          "output_type": "execute_result",
          "data": {
            "text/html": [
              "<div>\n",
              "<style scoped>\n",
              "    .dataframe tbody tr th:only-of-type {\n",
              "        vertical-align: middle;\n",
              "    }\n",
              "\n",
              "    .dataframe tbody tr th {\n",
              "        vertical-align: top;\n",
              "    }\n",
              "\n",
              "    .dataframe thead th {\n",
              "        text-align: right;\n",
              "    }\n",
              "</style>\n",
              "<table border=\"1\" class=\"dataframe\">\n",
              "  <thead>\n",
              "    <tr style=\"text-align: right;\">\n",
              "      <th></th>\n",
              "      <th>0</th>\n",
              "      <th>1</th>\n",
              "      <th>2</th>\n",
              "      <th>3</th>\n",
              "      <th>4</th>\n",
              "    </tr>\n",
              "  </thead>\n",
              "  <tbody>\n",
              "    <tr>\n",
              "      <th>0</th>\n",
              "      <td>faizy</td>\n",
              "      <td>0.351516</td>\n",
              "      <td>0.747502</td>\n",
              "      <td>0.252251</td>\n",
              "      <td>0.063048</td>\n",
              "    </tr>\n",
              "    <tr>\n",
              "      <th>1</th>\n",
              "      <td>0.560306</td>\n",
              "      <td>0.761380</td>\n",
              "      <td>0.739760</td>\n",
              "      <td>0.060856</td>\n",
              "      <td>0.165792</td>\n",
              "    </tr>\n",
              "    <tr>\n",
              "      <th>2</th>\n",
              "      <td>0.482958</td>\n",
              "      <td>0.879773</td>\n",
              "      <td>0.755738</td>\n",
              "      <td>0.736851</td>\n",
              "      <td>0.203240</td>\n",
              "    </tr>\n",
              "    <tr>\n",
              "      <th>3</th>\n",
              "      <td>0.96547</td>\n",
              "      <td>0.957761</td>\n",
              "      <td>0.214800</td>\n",
              "      <td>0.884814</td>\n",
              "      <td>0.887049</td>\n",
              "    </tr>\n",
              "    <tr>\n",
              "      <th>4</th>\n",
              "      <td>0.946059</td>\n",
              "      <td>0.005710</td>\n",
              "      <td>0.167932</td>\n",
              "      <td>0.180200</td>\n",
              "      <td>0.388442</td>\n",
              "    </tr>\n",
              "  </tbody>\n",
              "</table>\n",
              "</div>"
            ],
            "text/plain": [
              "          0         1         2         3         4\n",
              "0     faizy  0.351516  0.747502  0.252251  0.063048\n",
              "1  0.560306  0.761380  0.739760  0.060856  0.165792\n",
              "2  0.482958  0.879773  0.755738  0.736851  0.203240\n",
              "3   0.96547  0.957761  0.214800  0.884814  0.887049\n",
              "4  0.946059  0.005710  0.167932  0.180200  0.388442"
            ]
          },
          "metadata": {
            "tags": []
          },
          "execution_count": 26
        }
      ]
    },
    {
      "cell_type": "code",
      "metadata": {
        "id": "VE3k8Ai8SiYy",
        "colab_type": "code",
        "colab": {
          "base_uri": "https://localhost:8080/",
          "height": 87
        },
        "outputId": "46975b6c-bc2f-4e6d-c16e-d93ac568b13d"
      },
      "source": [
        "new_df.index"
      ],
      "execution_count": 27,
      "outputs": [
        {
          "output_type": "execute_result",
          "data": {
            "text/plain": [
              "Int64Index([  0,   1,   2,   3,   4,   5,   6,   7,   8,   9,\n",
              "            ...\n",
              "            290, 291, 292, 293, 294, 295, 296, 297, 298, 299],\n",
              "           dtype='int64', length=300)"
            ]
          },
          "metadata": {
            "tags": []
          },
          "execution_count": 27
        }
      ]
    },
    {
      "cell_type": "code",
      "metadata": {
        "id": "hkPhL-IBSr15",
        "colab_type": "code",
        "colab": {
          "base_uri": "https://localhost:8080/",
          "height": 34
        },
        "outputId": "ff1d6001-7e1b-48fe-d289-58888ac4c51a"
      },
      "source": [
        "new_df.columns"
      ],
      "execution_count": 28,
      "outputs": [
        {
          "output_type": "execute_result",
          "data": {
            "text/plain": [
              "RangeIndex(start=0, stop=5, step=1)"
            ]
          },
          "metadata": {
            "tags": []
          },
          "execution_count": 28
        }
      ]
    },
    {
      "cell_type": "code",
      "metadata": {
        "id": "mFNZWbsKSvj5",
        "colab_type": "code",
        "colab": {
          "base_uri": "https://localhost:8080/",
          "height": 247
        },
        "outputId": "e574a3b0-a28f-49e7-b377-3923ffe3302f"
      },
      "source": [
        "new_df.to_numpy()"
      ],
      "execution_count": 29,
      "outputs": [
        {
          "output_type": "execute_result",
          "data": {
            "text/plain": [
              "array([['faizy', 0.35151614917123497, 0.7475020073070875,\n",
              "        0.2522511354492333, 0.06304827733550167],\n",
              "       [0.5603058921969208, 0.7613796423652764, 0.7397602118142523,\n",
              "        0.06085602797445655, 0.16579227704054156],\n",
              "       [0.48295760770977647, 0.8797725686187234, 0.7557381817574069,\n",
              "        0.7368509622197236, 0.20323968160499972],\n",
              "       ...,\n",
              "       [0.42090376069087143, 0.2093221308451153, 0.32233584755954936,\n",
              "        0.5042214467701293, 0.6944275225391867],\n",
              "       [0.3066469699894766, 0.22161676080021975, 0.11383797189914335,\n",
              "        0.07422288737814497, 0.946116354400893],\n",
              "       [0.9780086472107105, 0.06321366949400431, 0.9307069795319706,\n",
              "        0.24267938010656853, 0.4438068190684925]], dtype=object)"
            ]
          },
          "metadata": {
            "tags": []
          },
          "execution_count": 29
        }
      ]
    },
    {
      "cell_type": "code",
      "metadata": {
        "id": "aFacLqjtTAJw",
        "colab_type": "code",
        "colab": {
          "base_uri": "https://localhost:8080/",
          "height": 105
        },
        "outputId": "7f03351c-1d0b-46ac-b4d3-96ceb2613e2f"
      },
      "source": [
        "new_df[0][0] = 0.3982178349281"
      ],
      "execution_count": 30,
      "outputs": [
        {
          "output_type": "stream",
          "text": [
            "/usr/local/lib/python3.6/dist-packages/ipykernel_launcher.py:1: SettingWithCopyWarning: \n",
            "A value is trying to be set on a copy of a slice from a DataFrame\n",
            "\n",
            "See the caveats in the documentation: https://pandas.pydata.org/pandas-docs/stable/user_guide/indexing.html#returning-a-view-versus-a-copy\n",
            "  \"\"\"Entry point for launching an IPython kernel.\n"
          ],
          "name": "stderr"
        }
      ]
    },
    {
      "cell_type": "code",
      "metadata": {
        "id": "HrZ0DAzFTQfK",
        "colab_type": "code",
        "colab": {
          "base_uri": "https://localhost:8080/",
          "height": 246
        },
        "outputId": "4e937503-8da1-4279-ff83-e287b71ce3aa"
      },
      "source": [
        "# DataFrame Transpose\n",
        "new_df.T "
      ],
      "execution_count": 31,
      "outputs": [
        {
          "output_type": "execute_result",
          "data": {
            "text/html": [
              "<div>\n",
              "<style scoped>\n",
              "    .dataframe tbody tr th:only-of-type {\n",
              "        vertical-align: middle;\n",
              "    }\n",
              "\n",
              "    .dataframe tbody tr th {\n",
              "        vertical-align: top;\n",
              "    }\n",
              "\n",
              "    .dataframe thead th {\n",
              "        text-align: right;\n",
              "    }\n",
              "</style>\n",
              "<table border=\"1\" class=\"dataframe\">\n",
              "  <thead>\n",
              "    <tr style=\"text-align: right;\">\n",
              "      <th></th>\n",
              "      <th>0</th>\n",
              "      <th>1</th>\n",
              "      <th>2</th>\n",
              "      <th>3</th>\n",
              "      <th>4</th>\n",
              "      <th>5</th>\n",
              "      <th>6</th>\n",
              "      <th>7</th>\n",
              "      <th>8</th>\n",
              "      <th>9</th>\n",
              "      <th>10</th>\n",
              "      <th>11</th>\n",
              "      <th>12</th>\n",
              "      <th>13</th>\n",
              "      <th>14</th>\n",
              "      <th>15</th>\n",
              "      <th>16</th>\n",
              "      <th>17</th>\n",
              "      <th>18</th>\n",
              "      <th>19</th>\n",
              "      <th>20</th>\n",
              "      <th>21</th>\n",
              "      <th>22</th>\n",
              "      <th>23</th>\n",
              "      <th>24</th>\n",
              "      <th>25</th>\n",
              "      <th>26</th>\n",
              "      <th>27</th>\n",
              "      <th>28</th>\n",
              "      <th>29</th>\n",
              "      <th>30</th>\n",
              "      <th>31</th>\n",
              "      <th>32</th>\n",
              "      <th>33</th>\n",
              "      <th>34</th>\n",
              "      <th>35</th>\n",
              "      <th>36</th>\n",
              "      <th>37</th>\n",
              "      <th>38</th>\n",
              "      <th>39</th>\n",
              "      <th>...</th>\n",
              "      <th>260</th>\n",
              "      <th>261</th>\n",
              "      <th>262</th>\n",
              "      <th>263</th>\n",
              "      <th>264</th>\n",
              "      <th>265</th>\n",
              "      <th>266</th>\n",
              "      <th>267</th>\n",
              "      <th>268</th>\n",
              "      <th>269</th>\n",
              "      <th>270</th>\n",
              "      <th>271</th>\n",
              "      <th>272</th>\n",
              "      <th>273</th>\n",
              "      <th>274</th>\n",
              "      <th>275</th>\n",
              "      <th>276</th>\n",
              "      <th>277</th>\n",
              "      <th>278</th>\n",
              "      <th>279</th>\n",
              "      <th>280</th>\n",
              "      <th>281</th>\n",
              "      <th>282</th>\n",
              "      <th>283</th>\n",
              "      <th>284</th>\n",
              "      <th>285</th>\n",
              "      <th>286</th>\n",
              "      <th>287</th>\n",
              "      <th>288</th>\n",
              "      <th>289</th>\n",
              "      <th>290</th>\n",
              "      <th>291</th>\n",
              "      <th>292</th>\n",
              "      <th>293</th>\n",
              "      <th>294</th>\n",
              "      <th>295</th>\n",
              "      <th>296</th>\n",
              "      <th>297</th>\n",
              "      <th>298</th>\n",
              "      <th>299</th>\n",
              "    </tr>\n",
              "  </thead>\n",
              "  <tbody>\n",
              "    <tr>\n",
              "      <th>0</th>\n",
              "      <td>0.398218</td>\n",
              "      <td>0.560306</td>\n",
              "      <td>0.482958</td>\n",
              "      <td>0.96547</td>\n",
              "      <td>0.946059</td>\n",
              "      <td>0.312122</td>\n",
              "      <td>0.204775</td>\n",
              "      <td>0.496906</td>\n",
              "      <td>0.78169</td>\n",
              "      <td>0.326407</td>\n",
              "      <td>0.681891</td>\n",
              "      <td>0.551709</td>\n",
              "      <td>0.283021</td>\n",
              "      <td>0.0910522</td>\n",
              "      <td>0.285989</td>\n",
              "      <td>0.613584</td>\n",
              "      <td>0.460657</td>\n",
              "      <td>0.136488</td>\n",
              "      <td>0.963344</td>\n",
              "      <td>0.917689</td>\n",
              "      <td>0.692984</td>\n",
              "      <td>0.673006</td>\n",
              "      <td>0.404391</td>\n",
              "      <td>0.364625</td>\n",
              "      <td>0.125835</td>\n",
              "      <td>0.0626062</td>\n",
              "      <td>0.204468</td>\n",
              "      <td>0.725978</td>\n",
              "      <td>0.44846</td>\n",
              "      <td>0.704778</td>\n",
              "      <td>0.236242</td>\n",
              "      <td>0.284835</td>\n",
              "      <td>0.124973</td>\n",
              "      <td>0.449659</td>\n",
              "      <td>0.659903</td>\n",
              "      <td>0.0221962</td>\n",
              "      <td>0.199823</td>\n",
              "      <td>0.130675</td>\n",
              "      <td>0.637238</td>\n",
              "      <td>0.861125</td>\n",
              "      <td>...</td>\n",
              "      <td>0.731652</td>\n",
              "      <td>0.718506</td>\n",
              "      <td>0.121281</td>\n",
              "      <td>0.0001129</td>\n",
              "      <td>0.944808</td>\n",
              "      <td>0.0593056</td>\n",
              "      <td>0.643743</td>\n",
              "      <td>0.475528</td>\n",
              "      <td>0.166853</td>\n",
              "      <td>0.0110916</td>\n",
              "      <td>0.899925</td>\n",
              "      <td>0.0422598</td>\n",
              "      <td>0.0315656</td>\n",
              "      <td>0.162782</td>\n",
              "      <td>0.364673</td>\n",
              "      <td>0.278568</td>\n",
              "      <td>0.775769</td>\n",
              "      <td>0.958122</td>\n",
              "      <td>0.678636</td>\n",
              "      <td>0.181325</td>\n",
              "      <td>0.46034</td>\n",
              "      <td>0.218638</td>\n",
              "      <td>0.401967</td>\n",
              "      <td>0.70122</td>\n",
              "      <td>0.636051</td>\n",
              "      <td>0.781257</td>\n",
              "      <td>0.973834</td>\n",
              "      <td>0.538244</td>\n",
              "      <td>0.92351</td>\n",
              "      <td>0.566443</td>\n",
              "      <td>0.613159</td>\n",
              "      <td>0.75116</td>\n",
              "      <td>0.887362</td>\n",
              "      <td>0.68784</td>\n",
              "      <td>0.352999</td>\n",
              "      <td>0.607624</td>\n",
              "      <td>0.840378</td>\n",
              "      <td>0.420904</td>\n",
              "      <td>0.306647</td>\n",
              "      <td>0.978009</td>\n",
              "    </tr>\n",
              "    <tr>\n",
              "      <th>1</th>\n",
              "      <td>0.351516</td>\n",
              "      <td>0.76138</td>\n",
              "      <td>0.879773</td>\n",
              "      <td>0.957761</td>\n",
              "      <td>0.00571022</td>\n",
              "      <td>0.5459</td>\n",
              "      <td>0.0474168</td>\n",
              "      <td>0.346666</td>\n",
              "      <td>0.874851</td>\n",
              "      <td>0.827338</td>\n",
              "      <td>0.906919</td>\n",
              "      <td>0.9182</td>\n",
              "      <td>0.722518</td>\n",
              "      <td>0.432797</td>\n",
              "      <td>0.34849</td>\n",
              "      <td>0.0178674</td>\n",
              "      <td>0.968087</td>\n",
              "      <td>0.126997</td>\n",
              "      <td>0.558653</td>\n",
              "      <td>0.90194</td>\n",
              "      <td>0.0507413</td>\n",
              "      <td>0.665852</td>\n",
              "      <td>0.687667</td>\n",
              "      <td>0.364192</td>\n",
              "      <td>0.665788</td>\n",
              "      <td>0.480589</td>\n",
              "      <td>0.866767</td>\n",
              "      <td>0.555773</td>\n",
              "      <td>0.695675</td>\n",
              "      <td>0.484206</td>\n",
              "      <td>0.927385</td>\n",
              "      <td>0.478809</td>\n",
              "      <td>0.108729</td>\n",
              "      <td>0.703252</td>\n",
              "      <td>0.660026</td>\n",
              "      <td>0.746814</td>\n",
              "      <td>0.30534</td>\n",
              "      <td>0.725793</td>\n",
              "      <td>0.299186</td>\n",
              "      <td>0.972781</td>\n",
              "      <td>...</td>\n",
              "      <td>0.500062</td>\n",
              "      <td>0.494621</td>\n",
              "      <td>0.142885</td>\n",
              "      <td>0.470363</td>\n",
              "      <td>0.897229</td>\n",
              "      <td>0.0396253</td>\n",
              "      <td>0.137867</td>\n",
              "      <td>0.00712708</td>\n",
              "      <td>0.583773</td>\n",
              "      <td>0.857285</td>\n",
              "      <td>0.225738</td>\n",
              "      <td>0.89004</td>\n",
              "      <td>0.21085</td>\n",
              "      <td>0.241973</td>\n",
              "      <td>0.0828669</td>\n",
              "      <td>0.510477</td>\n",
              "      <td>0.89666</td>\n",
              "      <td>0.310854</td>\n",
              "      <td>0.0937791</td>\n",
              "      <td>0.241134</td>\n",
              "      <td>0.29654</td>\n",
              "      <td>0.228977</td>\n",
              "      <td>0.394344</td>\n",
              "      <td>0.624178</td>\n",
              "      <td>0.537468</td>\n",
              "      <td>0.0693321</td>\n",
              "      <td>0.942689</td>\n",
              "      <td>0.929649</td>\n",
              "      <td>0.460826</td>\n",
              "      <td>0.1642</td>\n",
              "      <td>0.570334</td>\n",
              "      <td>0.742962</td>\n",
              "      <td>0.508751</td>\n",
              "      <td>0.753273</td>\n",
              "      <td>0.863134</td>\n",
              "      <td>0.940568</td>\n",
              "      <td>0.791238</td>\n",
              "      <td>0.209322</td>\n",
              "      <td>0.221617</td>\n",
              "      <td>0.0632137</td>\n",
              "    </tr>\n",
              "    <tr>\n",
              "      <th>2</th>\n",
              "      <td>0.747502</td>\n",
              "      <td>0.73976</td>\n",
              "      <td>0.755738</td>\n",
              "      <td>0.2148</td>\n",
              "      <td>0.167932</td>\n",
              "      <td>0.976535</td>\n",
              "      <td>0.301695</td>\n",
              "      <td>0.622274</td>\n",
              "      <td>0.749604</td>\n",
              "      <td>0.775798</td>\n",
              "      <td>0.363805</td>\n",
              "      <td>0.963213</td>\n",
              "      <td>0.235459</td>\n",
              "      <td>0.553673</td>\n",
              "      <td>0.865556</td>\n",
              "      <td>0.367616</td>\n",
              "      <td>0.827838</td>\n",
              "      <td>0.895983</td>\n",
              "      <td>0.16786</td>\n",
              "      <td>0.448957</td>\n",
              "      <td>0.374167</td>\n",
              "      <td>0.806415</td>\n",
              "      <td>0.661758</td>\n",
              "      <td>0.871418</td>\n",
              "      <td>0.561232</td>\n",
              "      <td>0.162225</td>\n",
              "      <td>0.436225</td>\n",
              "      <td>0.715511</td>\n",
              "      <td>0.979836</td>\n",
              "      <td>0.428824</td>\n",
              "      <td>0.85472</td>\n",
              "      <td>0.212316</td>\n",
              "      <td>0.185056</td>\n",
              "      <td>0.744377</td>\n",
              "      <td>0.412542</td>\n",
              "      <td>0.752026</td>\n",
              "      <td>0.506203</td>\n",
              "      <td>0.927132</td>\n",
              "      <td>0.449215</td>\n",
              "      <td>0.426647</td>\n",
              "      <td>...</td>\n",
              "      <td>0.651343</td>\n",
              "      <td>0.133134</td>\n",
              "      <td>0.967234</td>\n",
              "      <td>0.141137</td>\n",
              "      <td>0.195516</td>\n",
              "      <td>0.0952621</td>\n",
              "      <td>0.910639</td>\n",
              "      <td>0.567393</td>\n",
              "      <td>0.946562</td>\n",
              "      <td>0.916879</td>\n",
              "      <td>0.120911</td>\n",
              "      <td>0.880272</td>\n",
              "      <td>0.171349</td>\n",
              "      <td>0.333758</td>\n",
              "      <td>0.620532</td>\n",
              "      <td>0.0744538</td>\n",
              "      <td>0.745913</td>\n",
              "      <td>0.762759</td>\n",
              "      <td>0.765571</td>\n",
              "      <td>0.81638</td>\n",
              "      <td>0.165507</td>\n",
              "      <td>0.735761</td>\n",
              "      <td>0.67155</td>\n",
              "      <td>0.0704991</td>\n",
              "      <td>0.381859</td>\n",
              "      <td>0.660215</td>\n",
              "      <td>0.760383</td>\n",
              "      <td>0.878753</td>\n",
              "      <td>0.359331</td>\n",
              "      <td>0.771047</td>\n",
              "      <td>0.935884</td>\n",
              "      <td>0.71282</td>\n",
              "      <td>0.320914</td>\n",
              "      <td>0.427631</td>\n",
              "      <td>0.551231</td>\n",
              "      <td>0.8549</td>\n",
              "      <td>0.0299587</td>\n",
              "      <td>0.322336</td>\n",
              "      <td>0.113838</td>\n",
              "      <td>0.930707</td>\n",
              "    </tr>\n",
              "    <tr>\n",
              "      <th>3</th>\n",
              "      <td>0.252251</td>\n",
              "      <td>0.060856</td>\n",
              "      <td>0.736851</td>\n",
              "      <td>0.884814</td>\n",
              "      <td>0.1802</td>\n",
              "      <td>0.880047</td>\n",
              "      <td>0.682086</td>\n",
              "      <td>0.460057</td>\n",
              "      <td>0.188263</td>\n",
              "      <td>0.282285</td>\n",
              "      <td>0.899254</td>\n",
              "      <td>0.96816</td>\n",
              "      <td>0.172903</td>\n",
              "      <td>0.935978</td>\n",
              "      <td>0.872858</td>\n",
              "      <td>0.0829128</td>\n",
              "      <td>0.813065</td>\n",
              "      <td>0.755559</td>\n",
              "      <td>0.379226</td>\n",
              "      <td>0.531042</td>\n",
              "      <td>0.454608</td>\n",
              "      <td>0.0622226</td>\n",
              "      <td>0.499863</td>\n",
              "      <td>0.152383</td>\n",
              "      <td>0.836257</td>\n",
              "      <td>0.731971</td>\n",
              "      <td>0.71958</td>\n",
              "      <td>0.542012</td>\n",
              "      <td>0.00416351</td>\n",
              "      <td>0.195131</td>\n",
              "      <td>0.0851613</td>\n",
              "      <td>0.577726</td>\n",
              "      <td>0.0269674</td>\n",
              "      <td>0.835961</td>\n",
              "      <td>0.942195</td>\n",
              "      <td>0.244813</td>\n",
              "      <td>0.963448</td>\n",
              "      <td>0.266687</td>\n",
              "      <td>0.629417</td>\n",
              "      <td>0.884118</td>\n",
              "      <td>...</td>\n",
              "      <td>0.211597</td>\n",
              "      <td>0.634826</td>\n",
              "      <td>0.327203</td>\n",
              "      <td>0.552484</td>\n",
              "      <td>0.303507</td>\n",
              "      <td>0.718413</td>\n",
              "      <td>0.0844784</td>\n",
              "      <td>0.742025</td>\n",
              "      <td>0.634587</td>\n",
              "      <td>0.963622</td>\n",
              "      <td>0.627717</td>\n",
              "      <td>0.612968</td>\n",
              "      <td>0.842085</td>\n",
              "      <td>0.41997</td>\n",
              "      <td>0.17221</td>\n",
              "      <td>0.427269</td>\n",
              "      <td>0.270013</td>\n",
              "      <td>0.687311</td>\n",
              "      <td>0.622374</td>\n",
              "      <td>0.782861</td>\n",
              "      <td>0.965212</td>\n",
              "      <td>0.70016</td>\n",
              "      <td>0.23716</td>\n",
              "      <td>0.699844</td>\n",
              "      <td>0.356853</td>\n",
              "      <td>0.82225</td>\n",
              "      <td>0.809815</td>\n",
              "      <td>0.469611</td>\n",
              "      <td>0.796102</td>\n",
              "      <td>0.622229</td>\n",
              "      <td>0.249076</td>\n",
              "      <td>0.638056</td>\n",
              "      <td>0.235167</td>\n",
              "      <td>0.491808</td>\n",
              "      <td>0.562733</td>\n",
              "      <td>0.114394</td>\n",
              "      <td>0.341883</td>\n",
              "      <td>0.504221</td>\n",
              "      <td>0.0742229</td>\n",
              "      <td>0.242679</td>\n",
              "    </tr>\n",
              "    <tr>\n",
              "      <th>4</th>\n",
              "      <td>0.0630483</td>\n",
              "      <td>0.165792</td>\n",
              "      <td>0.20324</td>\n",
              "      <td>0.887049</td>\n",
              "      <td>0.388442</td>\n",
              "      <td>0.440441</td>\n",
              "      <td>0.285437</td>\n",
              "      <td>0.453879</td>\n",
              "      <td>0.634419</td>\n",
              "      <td>0.146141</td>\n",
              "      <td>0.51001</td>\n",
              "      <td>0.327077</td>\n",
              "      <td>0.000236006</td>\n",
              "      <td>0.620497</td>\n",
              "      <td>0.0136582</td>\n",
              "      <td>0.343501</td>\n",
              "      <td>0.0957522</td>\n",
              "      <td>0.583856</td>\n",
              "      <td>0.889201</td>\n",
              "      <td>0.882228</td>\n",
              "      <td>0.339128</td>\n",
              "      <td>0.603211</td>\n",
              "      <td>0.85331</td>\n",
              "      <td>0.67683</td>\n",
              "      <td>0.444332</td>\n",
              "      <td>0.76187</td>\n",
              "      <td>0.40672</td>\n",
              "      <td>0.605184</td>\n",
              "      <td>0.820217</td>\n",
              "      <td>0.846489</td>\n",
              "      <td>0.834203</td>\n",
              "      <td>0.522623</td>\n",
              "      <td>0.233794</td>\n",
              "      <td>0.630676</td>\n",
              "      <td>0.138357</td>\n",
              "      <td>0.69082</td>\n",
              "      <td>0.345606</td>\n",
              "      <td>0.812205</td>\n",
              "      <td>0.784725</td>\n",
              "      <td>0.641151</td>\n",
              "      <td>...</td>\n",
              "      <td>0.454123</td>\n",
              "      <td>0.297777</td>\n",
              "      <td>0.439775</td>\n",
              "      <td>0.5712</td>\n",
              "      <td>0.607202</td>\n",
              "      <td>0.407334</td>\n",
              "      <td>0.470361</td>\n",
              "      <td>0.283207</td>\n",
              "      <td>0.215299</td>\n",
              "      <td>0.0386314</td>\n",
              "      <td>0.697678</td>\n",
              "      <td>0.523835</td>\n",
              "      <td>0.457094</td>\n",
              "      <td>0.279739</td>\n",
              "      <td>0.820306</td>\n",
              "      <td>0.560143</td>\n",
              "      <td>0.234086</td>\n",
              "      <td>0.538714</td>\n",
              "      <td>0.988574</td>\n",
              "      <td>0.781967</td>\n",
              "      <td>0.166833</td>\n",
              "      <td>0.604609</td>\n",
              "      <td>0.0618999</td>\n",
              "      <td>0.166096</td>\n",
              "      <td>0.500329</td>\n",
              "      <td>0.283384</td>\n",
              "      <td>0.883922</td>\n",
              "      <td>0.38674</td>\n",
              "      <td>0.441704</td>\n",
              "      <td>0.017501</td>\n",
              "      <td>0.372174</td>\n",
              "      <td>0.582061</td>\n",
              "      <td>0.953125</td>\n",
              "      <td>0.12558</td>\n",
              "      <td>0.350128</td>\n",
              "      <td>0.821349</td>\n",
              "      <td>0.332195</td>\n",
              "      <td>0.694428</td>\n",
              "      <td>0.946116</td>\n",
              "      <td>0.443807</td>\n",
              "    </tr>\n",
              "  </tbody>\n",
              "</table>\n",
              "<p>5 rows × 300 columns</p>\n",
              "</div>"
            ],
            "text/plain": [
              "         0         1         2    ...       297        298        299\n",
              "0   0.398218  0.560306  0.482958  ...  0.420904   0.306647   0.978009\n",
              "1   0.351516   0.76138  0.879773  ...  0.209322   0.221617  0.0632137\n",
              "2   0.747502   0.73976  0.755738  ...  0.322336   0.113838   0.930707\n",
              "3   0.252251  0.060856  0.736851  ...  0.504221  0.0742229   0.242679\n",
              "4  0.0630483  0.165792   0.20324  ...  0.694428   0.946116   0.443807\n",
              "\n",
              "[5 rows x 300 columns]"
            ]
          },
          "metadata": {
            "tags": []
          },
          "execution_count": 31
        }
      ]
    },
    {
      "cell_type": "code",
      "metadata": {
        "id": "OYx88dkUTVR-",
        "colab_type": "code",
        "colab": {
          "base_uri": "https://localhost:8080/",
          "height": 197
        },
        "outputId": "a8c96147-df1d-4961-97a3-67e9d349d6f4"
      },
      "source": [
        "new_df.head()"
      ],
      "execution_count": 32,
      "outputs": [
        {
          "output_type": "execute_result",
          "data": {
            "text/html": [
              "<div>\n",
              "<style scoped>\n",
              "    .dataframe tbody tr th:only-of-type {\n",
              "        vertical-align: middle;\n",
              "    }\n",
              "\n",
              "    .dataframe tbody tr th {\n",
              "        vertical-align: top;\n",
              "    }\n",
              "\n",
              "    .dataframe thead th {\n",
              "        text-align: right;\n",
              "    }\n",
              "</style>\n",
              "<table border=\"1\" class=\"dataframe\">\n",
              "  <thead>\n",
              "    <tr style=\"text-align: right;\">\n",
              "      <th></th>\n",
              "      <th>0</th>\n",
              "      <th>1</th>\n",
              "      <th>2</th>\n",
              "      <th>3</th>\n",
              "      <th>4</th>\n",
              "    </tr>\n",
              "  </thead>\n",
              "  <tbody>\n",
              "    <tr>\n",
              "      <th>0</th>\n",
              "      <td>0.398218</td>\n",
              "      <td>0.351516</td>\n",
              "      <td>0.747502</td>\n",
              "      <td>0.252251</td>\n",
              "      <td>0.063048</td>\n",
              "    </tr>\n",
              "    <tr>\n",
              "      <th>1</th>\n",
              "      <td>0.560306</td>\n",
              "      <td>0.761380</td>\n",
              "      <td>0.739760</td>\n",
              "      <td>0.060856</td>\n",
              "      <td>0.165792</td>\n",
              "    </tr>\n",
              "    <tr>\n",
              "      <th>2</th>\n",
              "      <td>0.482958</td>\n",
              "      <td>0.879773</td>\n",
              "      <td>0.755738</td>\n",
              "      <td>0.736851</td>\n",
              "      <td>0.203240</td>\n",
              "    </tr>\n",
              "    <tr>\n",
              "      <th>3</th>\n",
              "      <td>0.96547</td>\n",
              "      <td>0.957761</td>\n",
              "      <td>0.214800</td>\n",
              "      <td>0.884814</td>\n",
              "      <td>0.887049</td>\n",
              "    </tr>\n",
              "    <tr>\n",
              "      <th>4</th>\n",
              "      <td>0.946059</td>\n",
              "      <td>0.005710</td>\n",
              "      <td>0.167932</td>\n",
              "      <td>0.180200</td>\n",
              "      <td>0.388442</td>\n",
              "    </tr>\n",
              "  </tbody>\n",
              "</table>\n",
              "</div>"
            ],
            "text/plain": [
              "          0         1         2         3         4\n",
              "0  0.398218  0.351516  0.747502  0.252251  0.063048\n",
              "1  0.560306  0.761380  0.739760  0.060856  0.165792\n",
              "2  0.482958  0.879773  0.755738  0.736851  0.203240\n",
              "3   0.96547  0.957761  0.214800  0.884814  0.887049\n",
              "4  0.946059  0.005710  0.167932  0.180200  0.388442"
            ]
          },
          "metadata": {
            "tags": []
          },
          "execution_count": 32
        }
      ]
    },
    {
      "cell_type": "code",
      "metadata": {
        "id": "yRIKOeCRTk-N",
        "colab_type": "code",
        "colab": {
          "base_uri": "https://localhost:8080/",
          "height": 406
        },
        "outputId": "67f74b7b-b19d-4f2e-bbf9-e8db899cfb1b"
      },
      "source": [
        "new_df.sort_index(axis=0, ascending=False)"
      ],
      "execution_count": 33,
      "outputs": [
        {
          "output_type": "execute_result",
          "data": {
            "text/html": [
              "<div>\n",
              "<style scoped>\n",
              "    .dataframe tbody tr th:only-of-type {\n",
              "        vertical-align: middle;\n",
              "    }\n",
              "\n",
              "    .dataframe tbody tr th {\n",
              "        vertical-align: top;\n",
              "    }\n",
              "\n",
              "    .dataframe thead th {\n",
              "        text-align: right;\n",
              "    }\n",
              "</style>\n",
              "<table border=\"1\" class=\"dataframe\">\n",
              "  <thead>\n",
              "    <tr style=\"text-align: right;\">\n",
              "      <th></th>\n",
              "      <th>0</th>\n",
              "      <th>1</th>\n",
              "      <th>2</th>\n",
              "      <th>3</th>\n",
              "      <th>4</th>\n",
              "    </tr>\n",
              "  </thead>\n",
              "  <tbody>\n",
              "    <tr>\n",
              "      <th>299</th>\n",
              "      <td>0.978009</td>\n",
              "      <td>0.063214</td>\n",
              "      <td>0.930707</td>\n",
              "      <td>0.242679</td>\n",
              "      <td>0.443807</td>\n",
              "    </tr>\n",
              "    <tr>\n",
              "      <th>298</th>\n",
              "      <td>0.306647</td>\n",
              "      <td>0.221617</td>\n",
              "      <td>0.113838</td>\n",
              "      <td>0.074223</td>\n",
              "      <td>0.946116</td>\n",
              "    </tr>\n",
              "    <tr>\n",
              "      <th>297</th>\n",
              "      <td>0.420904</td>\n",
              "      <td>0.209322</td>\n",
              "      <td>0.322336</td>\n",
              "      <td>0.504221</td>\n",
              "      <td>0.694428</td>\n",
              "    </tr>\n",
              "    <tr>\n",
              "      <th>296</th>\n",
              "      <td>0.840378</td>\n",
              "      <td>0.791238</td>\n",
              "      <td>0.029959</td>\n",
              "      <td>0.341883</td>\n",
              "      <td>0.332195</td>\n",
              "    </tr>\n",
              "    <tr>\n",
              "      <th>295</th>\n",
              "      <td>0.607624</td>\n",
              "      <td>0.940568</td>\n",
              "      <td>0.854900</td>\n",
              "      <td>0.114394</td>\n",
              "      <td>0.821349</td>\n",
              "    </tr>\n",
              "    <tr>\n",
              "      <th>...</th>\n",
              "      <td>...</td>\n",
              "      <td>...</td>\n",
              "      <td>...</td>\n",
              "      <td>...</td>\n",
              "      <td>...</td>\n",
              "    </tr>\n",
              "    <tr>\n",
              "      <th>4</th>\n",
              "      <td>0.946059</td>\n",
              "      <td>0.005710</td>\n",
              "      <td>0.167932</td>\n",
              "      <td>0.180200</td>\n",
              "      <td>0.388442</td>\n",
              "    </tr>\n",
              "    <tr>\n",
              "      <th>3</th>\n",
              "      <td>0.96547</td>\n",
              "      <td>0.957761</td>\n",
              "      <td>0.214800</td>\n",
              "      <td>0.884814</td>\n",
              "      <td>0.887049</td>\n",
              "    </tr>\n",
              "    <tr>\n",
              "      <th>2</th>\n",
              "      <td>0.482958</td>\n",
              "      <td>0.879773</td>\n",
              "      <td>0.755738</td>\n",
              "      <td>0.736851</td>\n",
              "      <td>0.203240</td>\n",
              "    </tr>\n",
              "    <tr>\n",
              "      <th>1</th>\n",
              "      <td>0.560306</td>\n",
              "      <td>0.761380</td>\n",
              "      <td>0.739760</td>\n",
              "      <td>0.060856</td>\n",
              "      <td>0.165792</td>\n",
              "    </tr>\n",
              "    <tr>\n",
              "      <th>0</th>\n",
              "      <td>0.398218</td>\n",
              "      <td>0.351516</td>\n",
              "      <td>0.747502</td>\n",
              "      <td>0.252251</td>\n",
              "      <td>0.063048</td>\n",
              "    </tr>\n",
              "  </tbody>\n",
              "</table>\n",
              "<p>300 rows × 5 columns</p>\n",
              "</div>"
            ],
            "text/plain": [
              "            0         1         2         3         4\n",
              "299  0.978009  0.063214  0.930707  0.242679  0.443807\n",
              "298  0.306647  0.221617  0.113838  0.074223  0.946116\n",
              "297  0.420904  0.209322  0.322336  0.504221  0.694428\n",
              "296  0.840378  0.791238  0.029959  0.341883  0.332195\n",
              "295  0.607624  0.940568  0.854900  0.114394  0.821349\n",
              "..        ...       ...       ...       ...       ...\n",
              "4    0.946059  0.005710  0.167932  0.180200  0.388442\n",
              "3     0.96547  0.957761  0.214800  0.884814  0.887049\n",
              "2    0.482958  0.879773  0.755738  0.736851  0.203240\n",
              "1    0.560306  0.761380  0.739760  0.060856  0.165792\n",
              "0    0.398218  0.351516  0.747502  0.252251  0.063048\n",
              "\n",
              "[300 rows x 5 columns]"
            ]
          },
          "metadata": {
            "tags": []
          },
          "execution_count": 33
        }
      ]
    },
    {
      "cell_type": "code",
      "metadata": {
        "id": "UDeQ8GIaT6Xh",
        "colab_type": "code",
        "colab": {
          "base_uri": "https://localhost:8080/",
          "height": 406
        },
        "outputId": "84dec421-c4c9-49d8-ed0d-7b52110ac1b3"
      },
      "source": [
        "new_df.sort_index(axis=1, ascending=False)"
      ],
      "execution_count": 34,
      "outputs": [
        {
          "output_type": "execute_result",
          "data": {
            "text/html": [
              "<div>\n",
              "<style scoped>\n",
              "    .dataframe tbody tr th:only-of-type {\n",
              "        vertical-align: middle;\n",
              "    }\n",
              "\n",
              "    .dataframe tbody tr th {\n",
              "        vertical-align: top;\n",
              "    }\n",
              "\n",
              "    .dataframe thead th {\n",
              "        text-align: right;\n",
              "    }\n",
              "</style>\n",
              "<table border=\"1\" class=\"dataframe\">\n",
              "  <thead>\n",
              "    <tr style=\"text-align: right;\">\n",
              "      <th></th>\n",
              "      <th>4</th>\n",
              "      <th>3</th>\n",
              "      <th>2</th>\n",
              "      <th>1</th>\n",
              "      <th>0</th>\n",
              "    </tr>\n",
              "  </thead>\n",
              "  <tbody>\n",
              "    <tr>\n",
              "      <th>0</th>\n",
              "      <td>0.063048</td>\n",
              "      <td>0.252251</td>\n",
              "      <td>0.747502</td>\n",
              "      <td>0.351516</td>\n",
              "      <td>0.398218</td>\n",
              "    </tr>\n",
              "    <tr>\n",
              "      <th>1</th>\n",
              "      <td>0.165792</td>\n",
              "      <td>0.060856</td>\n",
              "      <td>0.739760</td>\n",
              "      <td>0.761380</td>\n",
              "      <td>0.560306</td>\n",
              "    </tr>\n",
              "    <tr>\n",
              "      <th>2</th>\n",
              "      <td>0.203240</td>\n",
              "      <td>0.736851</td>\n",
              "      <td>0.755738</td>\n",
              "      <td>0.879773</td>\n",
              "      <td>0.482958</td>\n",
              "    </tr>\n",
              "    <tr>\n",
              "      <th>3</th>\n",
              "      <td>0.887049</td>\n",
              "      <td>0.884814</td>\n",
              "      <td>0.214800</td>\n",
              "      <td>0.957761</td>\n",
              "      <td>0.96547</td>\n",
              "    </tr>\n",
              "    <tr>\n",
              "      <th>4</th>\n",
              "      <td>0.388442</td>\n",
              "      <td>0.180200</td>\n",
              "      <td>0.167932</td>\n",
              "      <td>0.005710</td>\n",
              "      <td>0.946059</td>\n",
              "    </tr>\n",
              "    <tr>\n",
              "      <th>...</th>\n",
              "      <td>...</td>\n",
              "      <td>...</td>\n",
              "      <td>...</td>\n",
              "      <td>...</td>\n",
              "      <td>...</td>\n",
              "    </tr>\n",
              "    <tr>\n",
              "      <th>295</th>\n",
              "      <td>0.821349</td>\n",
              "      <td>0.114394</td>\n",
              "      <td>0.854900</td>\n",
              "      <td>0.940568</td>\n",
              "      <td>0.607624</td>\n",
              "    </tr>\n",
              "    <tr>\n",
              "      <th>296</th>\n",
              "      <td>0.332195</td>\n",
              "      <td>0.341883</td>\n",
              "      <td>0.029959</td>\n",
              "      <td>0.791238</td>\n",
              "      <td>0.840378</td>\n",
              "    </tr>\n",
              "    <tr>\n",
              "      <th>297</th>\n",
              "      <td>0.694428</td>\n",
              "      <td>0.504221</td>\n",
              "      <td>0.322336</td>\n",
              "      <td>0.209322</td>\n",
              "      <td>0.420904</td>\n",
              "    </tr>\n",
              "    <tr>\n",
              "      <th>298</th>\n",
              "      <td>0.946116</td>\n",
              "      <td>0.074223</td>\n",
              "      <td>0.113838</td>\n",
              "      <td>0.221617</td>\n",
              "      <td>0.306647</td>\n",
              "    </tr>\n",
              "    <tr>\n",
              "      <th>299</th>\n",
              "      <td>0.443807</td>\n",
              "      <td>0.242679</td>\n",
              "      <td>0.930707</td>\n",
              "      <td>0.063214</td>\n",
              "      <td>0.978009</td>\n",
              "    </tr>\n",
              "  </tbody>\n",
              "</table>\n",
              "<p>300 rows × 5 columns</p>\n",
              "</div>"
            ],
            "text/plain": [
              "            4         3         2         1         0\n",
              "0    0.063048  0.252251  0.747502  0.351516  0.398218\n",
              "1    0.165792  0.060856  0.739760  0.761380  0.560306\n",
              "2    0.203240  0.736851  0.755738  0.879773  0.482958\n",
              "3    0.887049  0.884814  0.214800  0.957761   0.96547\n",
              "4    0.388442  0.180200  0.167932  0.005710  0.946059\n",
              "..        ...       ...       ...       ...       ...\n",
              "295  0.821349  0.114394  0.854900  0.940568  0.607624\n",
              "296  0.332195  0.341883  0.029959  0.791238  0.840378\n",
              "297  0.694428  0.504221  0.322336  0.209322  0.420904\n",
              "298  0.946116  0.074223  0.113838  0.221617  0.306647\n",
              "299  0.443807  0.242679  0.930707  0.063214  0.978009\n",
              "\n",
              "[300 rows x 5 columns]"
            ]
          },
          "metadata": {
            "tags": []
          },
          "execution_count": 34
        }
      ]
    },
    {
      "cell_type": "markdown",
      "metadata": {
        "id": "GLq5qM5GUYn8",
        "colab_type": "text"
      },
      "source": [
        "$axis=0$ $\\rightarrow$ $Row$\n",
        "\n",
        "$axis=1$ $\\rightarrow$ $Column$"
      ]
    },
    {
      "cell_type": "code",
      "metadata": {
        "id": "t8dMYZGHUXdx",
        "colab_type": "code",
        "colab": {
          "base_uri": "https://localhost:8080/",
          "height": 197
        },
        "outputId": "d7b74323-6a39-46dc-c81d-bce8dee17e4d"
      },
      "source": [
        " new_df.head()"
      ],
      "execution_count": 35,
      "outputs": [
        {
          "output_type": "execute_result",
          "data": {
            "text/html": [
              "<div>\n",
              "<style scoped>\n",
              "    .dataframe tbody tr th:only-of-type {\n",
              "        vertical-align: middle;\n",
              "    }\n",
              "\n",
              "    .dataframe tbody tr th {\n",
              "        vertical-align: top;\n",
              "    }\n",
              "\n",
              "    .dataframe thead th {\n",
              "        text-align: right;\n",
              "    }\n",
              "</style>\n",
              "<table border=\"1\" class=\"dataframe\">\n",
              "  <thead>\n",
              "    <tr style=\"text-align: right;\">\n",
              "      <th></th>\n",
              "      <th>0</th>\n",
              "      <th>1</th>\n",
              "      <th>2</th>\n",
              "      <th>3</th>\n",
              "      <th>4</th>\n",
              "    </tr>\n",
              "  </thead>\n",
              "  <tbody>\n",
              "    <tr>\n",
              "      <th>0</th>\n",
              "      <td>0.398218</td>\n",
              "      <td>0.351516</td>\n",
              "      <td>0.747502</td>\n",
              "      <td>0.252251</td>\n",
              "      <td>0.063048</td>\n",
              "    </tr>\n",
              "    <tr>\n",
              "      <th>1</th>\n",
              "      <td>0.560306</td>\n",
              "      <td>0.761380</td>\n",
              "      <td>0.739760</td>\n",
              "      <td>0.060856</td>\n",
              "      <td>0.165792</td>\n",
              "    </tr>\n",
              "    <tr>\n",
              "      <th>2</th>\n",
              "      <td>0.482958</td>\n",
              "      <td>0.879773</td>\n",
              "      <td>0.755738</td>\n",
              "      <td>0.736851</td>\n",
              "      <td>0.203240</td>\n",
              "    </tr>\n",
              "    <tr>\n",
              "      <th>3</th>\n",
              "      <td>0.96547</td>\n",
              "      <td>0.957761</td>\n",
              "      <td>0.214800</td>\n",
              "      <td>0.884814</td>\n",
              "      <td>0.887049</td>\n",
              "    </tr>\n",
              "    <tr>\n",
              "      <th>4</th>\n",
              "      <td>0.946059</td>\n",
              "      <td>0.005710</td>\n",
              "      <td>0.167932</td>\n",
              "      <td>0.180200</td>\n",
              "      <td>0.388442</td>\n",
              "    </tr>\n",
              "  </tbody>\n",
              "</table>\n",
              "</div>"
            ],
            "text/plain": [
              "          0         1         2         3         4\n",
              "0  0.398218  0.351516  0.747502  0.252251  0.063048\n",
              "1  0.560306  0.761380  0.739760  0.060856  0.165792\n",
              "2  0.482958  0.879773  0.755738  0.736851  0.203240\n",
              "3   0.96547  0.957761  0.214800  0.884814  0.887049\n",
              "4  0.946059  0.005710  0.167932  0.180200  0.388442"
            ]
          },
          "metadata": {
            "tags": []
          },
          "execution_count": 35
        }
      ]
    },
    {
      "cell_type": "code",
      "metadata": {
        "id": "b_3cd_6tUG1T",
        "colab_type": "code",
        "colab": {
          "base_uri": "https://localhost:8080/",
          "height": 230
        },
        "outputId": "59dce795-ae5c-4626-d5a9-15e5cb725b32"
      },
      "source": [
        "new_df[0]\n"
      ],
      "execution_count": 36,
      "outputs": [
        {
          "output_type": "execute_result",
          "data": {
            "text/plain": [
              "0      0.398218\n",
              "1      0.560306\n",
              "2      0.482958\n",
              "3       0.96547\n",
              "4      0.946059\n",
              "         ...   \n",
              "295    0.607624\n",
              "296    0.840378\n",
              "297    0.420904\n",
              "298    0.306647\n",
              "299    0.978009\n",
              "Name: 0, Length: 300, dtype: object"
            ]
          },
          "metadata": {
            "tags": []
          },
          "execution_count": 36
        }
      ]
    },
    {
      "cell_type": "code",
      "metadata": {
        "id": "n6vsJOw3VPnS",
        "colab_type": "code",
        "colab": {
          "base_uri": "https://localhost:8080/",
          "height": 34
        },
        "outputId": "2a9aa3a2-1a45-48bb-8332-faa86694ff42"
      },
      "source": [
        "type(new_df[0])"
      ],
      "execution_count": 37,
      "outputs": [
        {
          "output_type": "execute_result",
          "data": {
            "text/plain": [
              "pandas.core.series.Series"
            ]
          },
          "metadata": {
            "tags": []
          },
          "execution_count": 37
        }
      ]
    },
    {
      "cell_type": "markdown",
      "metadata": {
        "id": "rRct_8a1VqeO",
        "colab_type": "text"
      },
      "source": [
        "$DataFrame$ is the combination of $Series$."
      ]
    },
    {
      "cell_type": "code",
      "metadata": {
        "id": "6l4Fi0x5Vksl",
        "colab_type": "code",
        "colab": {}
      },
      "source": [
        "new_df_N = new_df"
      ],
      "execution_count": 38,
      "outputs": []
    },
    {
      "cell_type": "code",
      "metadata": {
        "id": "RdVRoMxQWlGX",
        "colab_type": "code",
        "colab": {
          "base_uri": "https://localhost:8080/",
          "height": 105
        },
        "outputId": "0873d593-dd24-44ff-8ee8-a543c7eeb15d"
      },
      "source": [
        "new_df_N[0][0] = 786"
      ],
      "execution_count": 39,
      "outputs": [
        {
          "output_type": "stream",
          "text": [
            "/usr/local/lib/python3.6/dist-packages/ipykernel_launcher.py:1: SettingWithCopyWarning: \n",
            "A value is trying to be set on a copy of a slice from a DataFrame\n",
            "\n",
            "See the caveats in the documentation: https://pandas.pydata.org/pandas-docs/stable/user_guide/indexing.html#returning-a-view-versus-a-copy\n",
            "  \"\"\"Entry point for launching an IPython kernel.\n"
          ],
          "name": "stderr"
        }
      ]
    },
    {
      "cell_type": "code",
      "metadata": {
        "id": "1SIbZCTsWr9a",
        "colab_type": "code",
        "colab": {
          "base_uri": "https://localhost:8080/",
          "height": 197
        },
        "outputId": "ffb33654-cdbf-40ac-b76b-362e143de93d"
      },
      "source": [
        "new_df.head()"
      ],
      "execution_count": 40,
      "outputs": [
        {
          "output_type": "execute_result",
          "data": {
            "text/html": [
              "<div>\n",
              "<style scoped>\n",
              "    .dataframe tbody tr th:only-of-type {\n",
              "        vertical-align: middle;\n",
              "    }\n",
              "\n",
              "    .dataframe tbody tr th {\n",
              "        vertical-align: top;\n",
              "    }\n",
              "\n",
              "    .dataframe thead th {\n",
              "        text-align: right;\n",
              "    }\n",
              "</style>\n",
              "<table border=\"1\" class=\"dataframe\">\n",
              "  <thead>\n",
              "    <tr style=\"text-align: right;\">\n",
              "      <th></th>\n",
              "      <th>0</th>\n",
              "      <th>1</th>\n",
              "      <th>2</th>\n",
              "      <th>3</th>\n",
              "      <th>4</th>\n",
              "    </tr>\n",
              "  </thead>\n",
              "  <tbody>\n",
              "    <tr>\n",
              "      <th>0</th>\n",
              "      <td>786</td>\n",
              "      <td>0.351516</td>\n",
              "      <td>0.747502</td>\n",
              "      <td>0.252251</td>\n",
              "      <td>0.063048</td>\n",
              "    </tr>\n",
              "    <tr>\n",
              "      <th>1</th>\n",
              "      <td>0.560306</td>\n",
              "      <td>0.761380</td>\n",
              "      <td>0.739760</td>\n",
              "      <td>0.060856</td>\n",
              "      <td>0.165792</td>\n",
              "    </tr>\n",
              "    <tr>\n",
              "      <th>2</th>\n",
              "      <td>0.482958</td>\n",
              "      <td>0.879773</td>\n",
              "      <td>0.755738</td>\n",
              "      <td>0.736851</td>\n",
              "      <td>0.203240</td>\n",
              "    </tr>\n",
              "    <tr>\n",
              "      <th>3</th>\n",
              "      <td>0.96547</td>\n",
              "      <td>0.957761</td>\n",
              "      <td>0.214800</td>\n",
              "      <td>0.884814</td>\n",
              "      <td>0.887049</td>\n",
              "    </tr>\n",
              "    <tr>\n",
              "      <th>4</th>\n",
              "      <td>0.946059</td>\n",
              "      <td>0.005710</td>\n",
              "      <td>0.167932</td>\n",
              "      <td>0.180200</td>\n",
              "      <td>0.388442</td>\n",
              "    </tr>\n",
              "  </tbody>\n",
              "</table>\n",
              "</div>"
            ],
            "text/plain": [
              "          0         1         2         3         4\n",
              "0       786  0.351516  0.747502  0.252251  0.063048\n",
              "1  0.560306  0.761380  0.739760  0.060856  0.165792\n",
              "2  0.482958  0.879773  0.755738  0.736851  0.203240\n",
              "3   0.96547  0.957761  0.214800  0.884814  0.887049\n",
              "4  0.946059  0.005710  0.167932  0.180200  0.388442"
            ]
          },
          "metadata": {
            "tags": []
          },
          "execution_count": 40
        }
      ]
    },
    {
      "cell_type": "markdown",
      "metadata": {
        "id": "ArPRP2-IXB2k",
        "colab_type": "text"
      },
      "source": [
        "This indicate that `new_df_N` is a $view$ of `new_df`"
      ]
    },
    {
      "cell_type": "code",
      "metadata": {
        "id": "ji9G6EG9XBGX",
        "colab_type": "code",
        "colab": {}
      },
      "source": [
        "new_df_N = new_df.copy()"
      ],
      "execution_count": 41,
      "outputs": []
    },
    {
      "cell_type": "code",
      "metadata": {
        "id": "XEXE0dXkWvCK",
        "colab_type": "code",
        "colab": {
          "base_uri": "https://localhost:8080/",
          "height": 105
        },
        "outputId": "8ab3b59b-0fae-41dd-bd6b-9130c2f0ed9a"
      },
      "source": [
        "new_df_N[0][0] = 786.786"
      ],
      "execution_count": 42,
      "outputs": [
        {
          "output_type": "stream",
          "text": [
            "/usr/local/lib/python3.6/dist-packages/ipykernel_launcher.py:1: SettingWithCopyWarning: \n",
            "A value is trying to be set on a copy of a slice from a DataFrame\n",
            "\n",
            "See the caveats in the documentation: https://pandas.pydata.org/pandas-docs/stable/user_guide/indexing.html#returning-a-view-versus-a-copy\n",
            "  \"\"\"Entry point for launching an IPython kernel.\n"
          ],
          "name": "stderr"
        }
      ]
    },
    {
      "cell_type": "code",
      "metadata": {
        "id": "N573hyVJYNji",
        "colab_type": "code",
        "colab": {
          "base_uri": "https://localhost:8080/",
          "height": 197
        },
        "outputId": "e44d3cc6-acd4-41dc-8148-c9811fd8f2c0"
      },
      "source": [
        "new_df.head()"
      ],
      "execution_count": 43,
      "outputs": [
        {
          "output_type": "execute_result",
          "data": {
            "text/html": [
              "<div>\n",
              "<style scoped>\n",
              "    .dataframe tbody tr th:only-of-type {\n",
              "        vertical-align: middle;\n",
              "    }\n",
              "\n",
              "    .dataframe tbody tr th {\n",
              "        vertical-align: top;\n",
              "    }\n",
              "\n",
              "    .dataframe thead th {\n",
              "        text-align: right;\n",
              "    }\n",
              "</style>\n",
              "<table border=\"1\" class=\"dataframe\">\n",
              "  <thead>\n",
              "    <tr style=\"text-align: right;\">\n",
              "      <th></th>\n",
              "      <th>0</th>\n",
              "      <th>1</th>\n",
              "      <th>2</th>\n",
              "      <th>3</th>\n",
              "      <th>4</th>\n",
              "    </tr>\n",
              "  </thead>\n",
              "  <tbody>\n",
              "    <tr>\n",
              "      <th>0</th>\n",
              "      <td>786</td>\n",
              "      <td>0.351516</td>\n",
              "      <td>0.747502</td>\n",
              "      <td>0.252251</td>\n",
              "      <td>0.063048</td>\n",
              "    </tr>\n",
              "    <tr>\n",
              "      <th>1</th>\n",
              "      <td>0.560306</td>\n",
              "      <td>0.761380</td>\n",
              "      <td>0.739760</td>\n",
              "      <td>0.060856</td>\n",
              "      <td>0.165792</td>\n",
              "    </tr>\n",
              "    <tr>\n",
              "      <th>2</th>\n",
              "      <td>0.482958</td>\n",
              "      <td>0.879773</td>\n",
              "      <td>0.755738</td>\n",
              "      <td>0.736851</td>\n",
              "      <td>0.203240</td>\n",
              "    </tr>\n",
              "    <tr>\n",
              "      <th>3</th>\n",
              "      <td>0.96547</td>\n",
              "      <td>0.957761</td>\n",
              "      <td>0.214800</td>\n",
              "      <td>0.884814</td>\n",
              "      <td>0.887049</td>\n",
              "    </tr>\n",
              "    <tr>\n",
              "      <th>4</th>\n",
              "      <td>0.946059</td>\n",
              "      <td>0.005710</td>\n",
              "      <td>0.167932</td>\n",
              "      <td>0.180200</td>\n",
              "      <td>0.388442</td>\n",
              "    </tr>\n",
              "  </tbody>\n",
              "</table>\n",
              "</div>"
            ],
            "text/plain": [
              "          0         1         2         3         4\n",
              "0       786  0.351516  0.747502  0.252251  0.063048\n",
              "1  0.560306  0.761380  0.739760  0.060856  0.165792\n",
              "2  0.482958  0.879773  0.755738  0.736851  0.203240\n",
              "3   0.96547  0.957761  0.214800  0.884814  0.887049\n",
              "4  0.946059  0.005710  0.167932  0.180200  0.388442"
            ]
          },
          "metadata": {
            "tags": []
          },
          "execution_count": 43
        }
      ]
    },
    {
      "cell_type": "code",
      "metadata": {
        "id": "a1SFnKhWYT1j",
        "colab_type": "code",
        "colab": {
          "base_uri": "https://localhost:8080/",
          "height": 197
        },
        "outputId": "6b6ce9c1-176b-479b-8acf-8a41dcb8c00e"
      },
      "source": [
        "new_df_N.head()"
      ],
      "execution_count": 44,
      "outputs": [
        {
          "output_type": "execute_result",
          "data": {
            "text/html": [
              "<div>\n",
              "<style scoped>\n",
              "    .dataframe tbody tr th:only-of-type {\n",
              "        vertical-align: middle;\n",
              "    }\n",
              "\n",
              "    .dataframe tbody tr th {\n",
              "        vertical-align: top;\n",
              "    }\n",
              "\n",
              "    .dataframe thead th {\n",
              "        text-align: right;\n",
              "    }\n",
              "</style>\n",
              "<table border=\"1\" class=\"dataframe\">\n",
              "  <thead>\n",
              "    <tr style=\"text-align: right;\">\n",
              "      <th></th>\n",
              "      <th>0</th>\n",
              "      <th>1</th>\n",
              "      <th>2</th>\n",
              "      <th>3</th>\n",
              "      <th>4</th>\n",
              "    </tr>\n",
              "  </thead>\n",
              "  <tbody>\n",
              "    <tr>\n",
              "      <th>0</th>\n",
              "      <td>786.786</td>\n",
              "      <td>0.351516</td>\n",
              "      <td>0.747502</td>\n",
              "      <td>0.252251</td>\n",
              "      <td>0.063048</td>\n",
              "    </tr>\n",
              "    <tr>\n",
              "      <th>1</th>\n",
              "      <td>0.560306</td>\n",
              "      <td>0.761380</td>\n",
              "      <td>0.739760</td>\n",
              "      <td>0.060856</td>\n",
              "      <td>0.165792</td>\n",
              "    </tr>\n",
              "    <tr>\n",
              "      <th>2</th>\n",
              "      <td>0.482958</td>\n",
              "      <td>0.879773</td>\n",
              "      <td>0.755738</td>\n",
              "      <td>0.736851</td>\n",
              "      <td>0.203240</td>\n",
              "    </tr>\n",
              "    <tr>\n",
              "      <th>3</th>\n",
              "      <td>0.96547</td>\n",
              "      <td>0.957761</td>\n",
              "      <td>0.214800</td>\n",
              "      <td>0.884814</td>\n",
              "      <td>0.887049</td>\n",
              "    </tr>\n",
              "    <tr>\n",
              "      <th>4</th>\n",
              "      <td>0.946059</td>\n",
              "      <td>0.005710</td>\n",
              "      <td>0.167932</td>\n",
              "      <td>0.180200</td>\n",
              "      <td>0.388442</td>\n",
              "    </tr>\n",
              "  </tbody>\n",
              "</table>\n",
              "</div>"
            ],
            "text/plain": [
              "          0         1         2         3         4\n",
              "0   786.786  0.351516  0.747502  0.252251  0.063048\n",
              "1  0.560306  0.761380  0.739760  0.060856  0.165792\n",
              "2  0.482958  0.879773  0.755738  0.736851  0.203240\n",
              "3   0.96547  0.957761  0.214800  0.884814  0.887049\n",
              "4  0.946059  0.005710  0.167932  0.180200  0.388442"
            ]
          },
          "metadata": {
            "tags": []
          },
          "execution_count": 44
        }
      ]
    },
    {
      "cell_type": "code",
      "metadata": {
        "id": "SzBxztI0Ydq7",
        "colab_type": "code",
        "colab": {}
      },
      "source": [
        "new_df.loc[0, 0] = 12345"
      ],
      "execution_count": 45,
      "outputs": []
    },
    {
      "cell_type": "code",
      "metadata": {
        "id": "aguEcrm1ZDN5",
        "colab_type": "code",
        "colab": {
          "base_uri": "https://localhost:8080/",
          "height": 107
        },
        "outputId": "9c6d331a-36ce-446a-9b6f-6e906ed3c9e9"
      },
      "source": [
        "new_df.head(2)"
      ],
      "execution_count": 46,
      "outputs": [
        {
          "output_type": "execute_result",
          "data": {
            "text/html": [
              "<div>\n",
              "<style scoped>\n",
              "    .dataframe tbody tr th:only-of-type {\n",
              "        vertical-align: middle;\n",
              "    }\n",
              "\n",
              "    .dataframe tbody tr th {\n",
              "        vertical-align: top;\n",
              "    }\n",
              "\n",
              "    .dataframe thead th {\n",
              "        text-align: right;\n",
              "    }\n",
              "</style>\n",
              "<table border=\"1\" class=\"dataframe\">\n",
              "  <thead>\n",
              "    <tr style=\"text-align: right;\">\n",
              "      <th></th>\n",
              "      <th>0</th>\n",
              "      <th>1</th>\n",
              "      <th>2</th>\n",
              "      <th>3</th>\n",
              "      <th>4</th>\n",
              "    </tr>\n",
              "  </thead>\n",
              "  <tbody>\n",
              "    <tr>\n",
              "      <th>0</th>\n",
              "      <td>12345</td>\n",
              "      <td>0.351516</td>\n",
              "      <td>0.747502</td>\n",
              "      <td>0.252251</td>\n",
              "      <td>0.063048</td>\n",
              "    </tr>\n",
              "    <tr>\n",
              "      <th>1</th>\n",
              "      <td>0.560306</td>\n",
              "      <td>0.761380</td>\n",
              "      <td>0.739760</td>\n",
              "      <td>0.060856</td>\n",
              "      <td>0.165792</td>\n",
              "    </tr>\n",
              "  </tbody>\n",
              "</table>\n",
              "</div>"
            ],
            "text/plain": [
              "          0         1         2         3         4\n",
              "0     12345  0.351516  0.747502  0.252251  0.063048\n",
              "1  0.560306  0.761380  0.739760  0.060856  0.165792"
            ]
          },
          "metadata": {
            "tags": []
          },
          "execution_count": 46
        }
      ]
    },
    {
      "cell_type": "code",
      "metadata": {
        "id": "ki8EoiFMZGRJ",
        "colab_type": "code",
        "colab": {}
      },
      "source": [
        "new_df.columns = list('ABCDE')"
      ],
      "execution_count": 47,
      "outputs": []
    },
    {
      "cell_type": "code",
      "metadata": {
        "id": "aMkxIyLUZY8z",
        "colab_type": "code",
        "colab": {
          "base_uri": "https://localhost:8080/",
          "height": 197
        },
        "outputId": "d2635347-0b46-4556-8c3d-bd82e1ab2260"
      },
      "source": [
        "new_df.head()"
      ],
      "execution_count": 48,
      "outputs": [
        {
          "output_type": "execute_result",
          "data": {
            "text/html": [
              "<div>\n",
              "<style scoped>\n",
              "    .dataframe tbody tr th:only-of-type {\n",
              "        vertical-align: middle;\n",
              "    }\n",
              "\n",
              "    .dataframe tbody tr th {\n",
              "        vertical-align: top;\n",
              "    }\n",
              "\n",
              "    .dataframe thead th {\n",
              "        text-align: right;\n",
              "    }\n",
              "</style>\n",
              "<table border=\"1\" class=\"dataframe\">\n",
              "  <thead>\n",
              "    <tr style=\"text-align: right;\">\n",
              "      <th></th>\n",
              "      <th>A</th>\n",
              "      <th>B</th>\n",
              "      <th>C</th>\n",
              "      <th>D</th>\n",
              "      <th>E</th>\n",
              "    </tr>\n",
              "  </thead>\n",
              "  <tbody>\n",
              "    <tr>\n",
              "      <th>0</th>\n",
              "      <td>12345</td>\n",
              "      <td>0.351516</td>\n",
              "      <td>0.747502</td>\n",
              "      <td>0.252251</td>\n",
              "      <td>0.063048</td>\n",
              "    </tr>\n",
              "    <tr>\n",
              "      <th>1</th>\n",
              "      <td>0.560306</td>\n",
              "      <td>0.761380</td>\n",
              "      <td>0.739760</td>\n",
              "      <td>0.060856</td>\n",
              "      <td>0.165792</td>\n",
              "    </tr>\n",
              "    <tr>\n",
              "      <th>2</th>\n",
              "      <td>0.482958</td>\n",
              "      <td>0.879773</td>\n",
              "      <td>0.755738</td>\n",
              "      <td>0.736851</td>\n",
              "      <td>0.203240</td>\n",
              "    </tr>\n",
              "    <tr>\n",
              "      <th>3</th>\n",
              "      <td>0.96547</td>\n",
              "      <td>0.957761</td>\n",
              "      <td>0.214800</td>\n",
              "      <td>0.884814</td>\n",
              "      <td>0.887049</td>\n",
              "    </tr>\n",
              "    <tr>\n",
              "      <th>4</th>\n",
              "      <td>0.946059</td>\n",
              "      <td>0.005710</td>\n",
              "      <td>0.167932</td>\n",
              "      <td>0.180200</td>\n",
              "      <td>0.388442</td>\n",
              "    </tr>\n",
              "  </tbody>\n",
              "</table>\n",
              "</div>"
            ],
            "text/plain": [
              "          A         B         C         D         E\n",
              "0     12345  0.351516  0.747502  0.252251  0.063048\n",
              "1  0.560306  0.761380  0.739760  0.060856  0.165792\n",
              "2  0.482958  0.879773  0.755738  0.736851  0.203240\n",
              "3   0.96547  0.957761  0.214800  0.884814  0.887049\n",
              "4  0.946059  0.005710  0.167932  0.180200  0.388442"
            ]
          },
          "metadata": {
            "tags": []
          },
          "execution_count": 48
        }
      ]
    },
    {
      "cell_type": "code",
      "metadata": {
        "id": "fC4dpX7Ybb0h",
        "colab_type": "code",
        "colab": {}
      },
      "source": [
        "new_df.loc[0, 'A'] = 0.54321"
      ],
      "execution_count": 49,
      "outputs": []
    },
    {
      "cell_type": "code",
      "metadata": {
        "id": "uG0YQd4VbiJI",
        "colab_type": "code",
        "colab": {
          "base_uri": "https://localhost:8080/",
          "height": 137
        },
        "outputId": "fc1cb08e-8d6f-430c-b08c-2a711ab26c8d"
      },
      "source": [
        "new_df.head(3)"
      ],
      "execution_count": 50,
      "outputs": [
        {
          "output_type": "execute_result",
          "data": {
            "text/html": [
              "<div>\n",
              "<style scoped>\n",
              "    .dataframe tbody tr th:only-of-type {\n",
              "        vertical-align: middle;\n",
              "    }\n",
              "\n",
              "    .dataframe tbody tr th {\n",
              "        vertical-align: top;\n",
              "    }\n",
              "\n",
              "    .dataframe thead th {\n",
              "        text-align: right;\n",
              "    }\n",
              "</style>\n",
              "<table border=\"1\" class=\"dataframe\">\n",
              "  <thead>\n",
              "    <tr style=\"text-align: right;\">\n",
              "      <th></th>\n",
              "      <th>A</th>\n",
              "      <th>B</th>\n",
              "      <th>C</th>\n",
              "      <th>D</th>\n",
              "      <th>E</th>\n",
              "    </tr>\n",
              "  </thead>\n",
              "  <tbody>\n",
              "    <tr>\n",
              "      <th>0</th>\n",
              "      <td>0.54321</td>\n",
              "      <td>0.351516</td>\n",
              "      <td>0.747502</td>\n",
              "      <td>0.252251</td>\n",
              "      <td>0.063048</td>\n",
              "    </tr>\n",
              "    <tr>\n",
              "      <th>1</th>\n",
              "      <td>0.560306</td>\n",
              "      <td>0.761380</td>\n",
              "      <td>0.739760</td>\n",
              "      <td>0.060856</td>\n",
              "      <td>0.165792</td>\n",
              "    </tr>\n",
              "    <tr>\n",
              "      <th>2</th>\n",
              "      <td>0.482958</td>\n",
              "      <td>0.879773</td>\n",
              "      <td>0.755738</td>\n",
              "      <td>0.736851</td>\n",
              "      <td>0.203240</td>\n",
              "    </tr>\n",
              "  </tbody>\n",
              "</table>\n",
              "</div>"
            ],
            "text/plain": [
              "          A         B         C         D         E\n",
              "0   0.54321  0.351516  0.747502  0.252251  0.063048\n",
              "1  0.560306  0.761380  0.739760  0.060856  0.165792\n",
              "2  0.482958  0.879773  0.755738  0.736851  0.203240"
            ]
          },
          "metadata": {
            "tags": []
          },
          "execution_count": 50
        }
      ]
    },
    {
      "cell_type": "code",
      "metadata": {
        "id": "F0sgOu8PZgVo",
        "colab_type": "code",
        "colab": {}
      },
      "source": [
        "new_df.loc[0, 'a'] = 0.54321"
      ],
      "execution_count": 51,
      "outputs": []
    },
    {
      "cell_type": "code",
      "metadata": {
        "id": "sVAe7b5xZ92E",
        "colab_type": "code",
        "colab": {
          "base_uri": "https://localhost:8080/",
          "height": 137
        },
        "outputId": "01303506-c964-4de6-d146-921295e552e4"
      },
      "source": [
        "new_df.head(3)"
      ],
      "execution_count": 52,
      "outputs": [
        {
          "output_type": "execute_result",
          "data": {
            "text/html": [
              "<div>\n",
              "<style scoped>\n",
              "    .dataframe tbody tr th:only-of-type {\n",
              "        vertical-align: middle;\n",
              "    }\n",
              "\n",
              "    .dataframe tbody tr th {\n",
              "        vertical-align: top;\n",
              "    }\n",
              "\n",
              "    .dataframe thead th {\n",
              "        text-align: right;\n",
              "    }\n",
              "</style>\n",
              "<table border=\"1\" class=\"dataframe\">\n",
              "  <thead>\n",
              "    <tr style=\"text-align: right;\">\n",
              "      <th></th>\n",
              "      <th>A</th>\n",
              "      <th>B</th>\n",
              "      <th>C</th>\n",
              "      <th>D</th>\n",
              "      <th>E</th>\n",
              "      <th>a</th>\n",
              "    </tr>\n",
              "  </thead>\n",
              "  <tbody>\n",
              "    <tr>\n",
              "      <th>0</th>\n",
              "      <td>0.54321</td>\n",
              "      <td>0.351516</td>\n",
              "      <td>0.747502</td>\n",
              "      <td>0.252251</td>\n",
              "      <td>0.063048</td>\n",
              "      <td>0.54321</td>\n",
              "    </tr>\n",
              "    <tr>\n",
              "      <th>1</th>\n",
              "      <td>0.560306</td>\n",
              "      <td>0.761380</td>\n",
              "      <td>0.739760</td>\n",
              "      <td>0.060856</td>\n",
              "      <td>0.165792</td>\n",
              "      <td>NaN</td>\n",
              "    </tr>\n",
              "    <tr>\n",
              "      <th>2</th>\n",
              "      <td>0.482958</td>\n",
              "      <td>0.879773</td>\n",
              "      <td>0.755738</td>\n",
              "      <td>0.736851</td>\n",
              "      <td>0.203240</td>\n",
              "      <td>NaN</td>\n",
              "    </tr>\n",
              "  </tbody>\n",
              "</table>\n",
              "</div>"
            ],
            "text/plain": [
              "          A         B         C         D         E        a\n",
              "0   0.54321  0.351516  0.747502  0.252251  0.063048  0.54321\n",
              "1  0.560306  0.761380  0.739760  0.060856  0.165792      NaN\n",
              "2  0.482958  0.879773  0.755738  0.736851  0.203240      NaN"
            ]
          },
          "metadata": {
            "tags": []
          },
          "execution_count": 52
        }
      ]
    },
    {
      "cell_type": "code",
      "metadata": {
        "id": "wYj_8sZXaVDz",
        "colab_type": "code",
        "colab": {}
      },
      "source": [
        "# Dropping the column\n",
        "new_df = new_df.drop('a', axis=1)"
      ],
      "execution_count": 53,
      "outputs": []
    },
    {
      "cell_type": "code",
      "metadata": {
        "id": "pEr_TLEAb3Pj",
        "colab_type": "code",
        "colab": {
          "base_uri": "https://localhost:8080/",
          "height": 137
        },
        "outputId": "ba4a55b0-16b4-4991-f890-ed5c2762ca4d"
      },
      "source": [
        "new_df.head(3)"
      ],
      "execution_count": 54,
      "outputs": [
        {
          "output_type": "execute_result",
          "data": {
            "text/html": [
              "<div>\n",
              "<style scoped>\n",
              "    .dataframe tbody tr th:only-of-type {\n",
              "        vertical-align: middle;\n",
              "    }\n",
              "\n",
              "    .dataframe tbody tr th {\n",
              "        vertical-align: top;\n",
              "    }\n",
              "\n",
              "    .dataframe thead th {\n",
              "        text-align: right;\n",
              "    }\n",
              "</style>\n",
              "<table border=\"1\" class=\"dataframe\">\n",
              "  <thead>\n",
              "    <tr style=\"text-align: right;\">\n",
              "      <th></th>\n",
              "      <th>A</th>\n",
              "      <th>B</th>\n",
              "      <th>C</th>\n",
              "      <th>D</th>\n",
              "      <th>E</th>\n",
              "    </tr>\n",
              "  </thead>\n",
              "  <tbody>\n",
              "    <tr>\n",
              "      <th>0</th>\n",
              "      <td>0.54321</td>\n",
              "      <td>0.351516</td>\n",
              "      <td>0.747502</td>\n",
              "      <td>0.252251</td>\n",
              "      <td>0.063048</td>\n",
              "    </tr>\n",
              "    <tr>\n",
              "      <th>1</th>\n",
              "      <td>0.560306</td>\n",
              "      <td>0.761380</td>\n",
              "      <td>0.739760</td>\n",
              "      <td>0.060856</td>\n",
              "      <td>0.165792</td>\n",
              "    </tr>\n",
              "    <tr>\n",
              "      <th>2</th>\n",
              "      <td>0.482958</td>\n",
              "      <td>0.879773</td>\n",
              "      <td>0.755738</td>\n",
              "      <td>0.736851</td>\n",
              "      <td>0.203240</td>\n",
              "    </tr>\n",
              "  </tbody>\n",
              "</table>\n",
              "</div>"
            ],
            "text/plain": [
              "          A         B         C         D         E\n",
              "0   0.54321  0.351516  0.747502  0.252251  0.063048\n",
              "1  0.560306  0.761380  0.739760  0.060856  0.165792\n",
              "2  0.482958  0.879773  0.755738  0.736851  0.203240"
            ]
          },
          "metadata": {
            "tags": []
          },
          "execution_count": 54
        }
      ]
    },
    {
      "cell_type": "code",
      "metadata": {
        "id": "KR2q2PJfczkQ",
        "colab_type": "code",
        "colab": {
          "base_uri": "https://localhost:8080/",
          "height": 107
        },
        "outputId": "f7090af0-d148-4eb1-9e96-628bb810afa8"
      },
      "source": [
        "new_df.loc[[1, 2], ['A', 'B']]"
      ],
      "execution_count": 55,
      "outputs": [
        {
          "output_type": "execute_result",
          "data": {
            "text/html": [
              "<div>\n",
              "<style scoped>\n",
              "    .dataframe tbody tr th:only-of-type {\n",
              "        vertical-align: middle;\n",
              "    }\n",
              "\n",
              "    .dataframe tbody tr th {\n",
              "        vertical-align: top;\n",
              "    }\n",
              "\n",
              "    .dataframe thead th {\n",
              "        text-align: right;\n",
              "    }\n",
              "</style>\n",
              "<table border=\"1\" class=\"dataframe\">\n",
              "  <thead>\n",
              "    <tr style=\"text-align: right;\">\n",
              "      <th></th>\n",
              "      <th>A</th>\n",
              "      <th>B</th>\n",
              "    </tr>\n",
              "  </thead>\n",
              "  <tbody>\n",
              "    <tr>\n",
              "      <th>1</th>\n",
              "      <td>0.560306</td>\n",
              "      <td>0.761380</td>\n",
              "    </tr>\n",
              "    <tr>\n",
              "      <th>2</th>\n",
              "      <td>0.482958</td>\n",
              "      <td>0.879773</td>\n",
              "    </tr>\n",
              "  </tbody>\n",
              "</table>\n",
              "</div>"
            ],
            "text/plain": [
              "          A         B\n",
              "1  0.560306  0.761380\n",
              "2  0.482958  0.879773"
            ]
          },
          "metadata": {
            "tags": []
          },
          "execution_count": 55
        }
      ]
    },
    {
      "cell_type": "code",
      "metadata": {
        "id": "h_s02ZnldJ78",
        "colab_type": "code",
        "colab": {
          "base_uri": "https://localhost:8080/",
          "height": 197
        },
        "outputId": "a99a2170-0a15-46c3-bd1e-64b1cc52262c"
      },
      "source": [
        "new_df.loc[:, ['A', 'B']].head(5)"
      ],
      "execution_count": 56,
      "outputs": [
        {
          "output_type": "execute_result",
          "data": {
            "text/html": [
              "<div>\n",
              "<style scoped>\n",
              "    .dataframe tbody tr th:only-of-type {\n",
              "        vertical-align: middle;\n",
              "    }\n",
              "\n",
              "    .dataframe tbody tr th {\n",
              "        vertical-align: top;\n",
              "    }\n",
              "\n",
              "    .dataframe thead th {\n",
              "        text-align: right;\n",
              "    }\n",
              "</style>\n",
              "<table border=\"1\" class=\"dataframe\">\n",
              "  <thead>\n",
              "    <tr style=\"text-align: right;\">\n",
              "      <th></th>\n",
              "      <th>A</th>\n",
              "      <th>B</th>\n",
              "    </tr>\n",
              "  </thead>\n",
              "  <tbody>\n",
              "    <tr>\n",
              "      <th>0</th>\n",
              "      <td>0.54321</td>\n",
              "      <td>0.351516</td>\n",
              "    </tr>\n",
              "    <tr>\n",
              "      <th>1</th>\n",
              "      <td>0.560306</td>\n",
              "      <td>0.761380</td>\n",
              "    </tr>\n",
              "    <tr>\n",
              "      <th>2</th>\n",
              "      <td>0.482958</td>\n",
              "      <td>0.879773</td>\n",
              "    </tr>\n",
              "    <tr>\n",
              "      <th>3</th>\n",
              "      <td>0.96547</td>\n",
              "      <td>0.957761</td>\n",
              "    </tr>\n",
              "    <tr>\n",
              "      <th>4</th>\n",
              "      <td>0.946059</td>\n",
              "      <td>0.005710</td>\n",
              "    </tr>\n",
              "  </tbody>\n",
              "</table>\n",
              "</div>"
            ],
            "text/plain": [
              "          A         B\n",
              "0   0.54321  0.351516\n",
              "1  0.560306  0.761380\n",
              "2  0.482958  0.879773\n",
              "3   0.96547  0.957761\n",
              "4  0.946059  0.005710"
            ]
          },
          "metadata": {
            "tags": []
          },
          "execution_count": 56
        }
      ]
    },
    {
      "cell_type": "code",
      "metadata": {
        "id": "4NrDz-j0dhmT",
        "colab_type": "code",
        "colab": {
          "base_uri": "https://localhost:8080/",
          "height": 107
        },
        "outputId": "3eb72ac3-ef9b-4fe8-8ef4-c34859f53975"
      },
      "source": [
        "new_df.loc[[1, 2], :]"
      ],
      "execution_count": 57,
      "outputs": [
        {
          "output_type": "execute_result",
          "data": {
            "text/html": [
              "<div>\n",
              "<style scoped>\n",
              "    .dataframe tbody tr th:only-of-type {\n",
              "        vertical-align: middle;\n",
              "    }\n",
              "\n",
              "    .dataframe tbody tr th {\n",
              "        vertical-align: top;\n",
              "    }\n",
              "\n",
              "    .dataframe thead th {\n",
              "        text-align: right;\n",
              "    }\n",
              "</style>\n",
              "<table border=\"1\" class=\"dataframe\">\n",
              "  <thead>\n",
              "    <tr style=\"text-align: right;\">\n",
              "      <th></th>\n",
              "      <th>A</th>\n",
              "      <th>B</th>\n",
              "      <th>C</th>\n",
              "      <th>D</th>\n",
              "      <th>E</th>\n",
              "    </tr>\n",
              "  </thead>\n",
              "  <tbody>\n",
              "    <tr>\n",
              "      <th>1</th>\n",
              "      <td>0.560306</td>\n",
              "      <td>0.761380</td>\n",
              "      <td>0.739760</td>\n",
              "      <td>0.060856</td>\n",
              "      <td>0.165792</td>\n",
              "    </tr>\n",
              "    <tr>\n",
              "      <th>2</th>\n",
              "      <td>0.482958</td>\n",
              "      <td>0.879773</td>\n",
              "      <td>0.755738</td>\n",
              "      <td>0.736851</td>\n",
              "      <td>0.203240</td>\n",
              "    </tr>\n",
              "  </tbody>\n",
              "</table>\n",
              "</div>"
            ],
            "text/plain": [
              "          A         B         C         D         E\n",
              "1  0.560306  0.761380  0.739760  0.060856  0.165792\n",
              "2  0.482958  0.879773  0.755738  0.736851  0.203240"
            ]
          },
          "metadata": {
            "tags": []
          },
          "execution_count": 57
        }
      ]
    },
    {
      "cell_type": "code",
      "metadata": {
        "id": "MljiZO9xdlfi",
        "colab_type": "code",
        "colab": {
          "base_uri": "https://localhost:8080/",
          "height": 197
        },
        "outputId": "a02859a8-b036-4ec6-f923-f47735289dca"
      },
      "source": [
        "new_df.loc[(new_df['A'] > 0.5)].head(5)"
      ],
      "execution_count": 58,
      "outputs": [
        {
          "output_type": "execute_result",
          "data": {
            "text/html": [
              "<div>\n",
              "<style scoped>\n",
              "    .dataframe tbody tr th:only-of-type {\n",
              "        vertical-align: middle;\n",
              "    }\n",
              "\n",
              "    .dataframe tbody tr th {\n",
              "        vertical-align: top;\n",
              "    }\n",
              "\n",
              "    .dataframe thead th {\n",
              "        text-align: right;\n",
              "    }\n",
              "</style>\n",
              "<table border=\"1\" class=\"dataframe\">\n",
              "  <thead>\n",
              "    <tr style=\"text-align: right;\">\n",
              "      <th></th>\n",
              "      <th>A</th>\n",
              "      <th>B</th>\n",
              "      <th>C</th>\n",
              "      <th>D</th>\n",
              "      <th>E</th>\n",
              "    </tr>\n",
              "  </thead>\n",
              "  <tbody>\n",
              "    <tr>\n",
              "      <th>0</th>\n",
              "      <td>0.54321</td>\n",
              "      <td>0.351516</td>\n",
              "      <td>0.747502</td>\n",
              "      <td>0.252251</td>\n",
              "      <td>0.063048</td>\n",
              "    </tr>\n",
              "    <tr>\n",
              "      <th>1</th>\n",
              "      <td>0.560306</td>\n",
              "      <td>0.761380</td>\n",
              "      <td>0.739760</td>\n",
              "      <td>0.060856</td>\n",
              "      <td>0.165792</td>\n",
              "    </tr>\n",
              "    <tr>\n",
              "      <th>3</th>\n",
              "      <td>0.96547</td>\n",
              "      <td>0.957761</td>\n",
              "      <td>0.214800</td>\n",
              "      <td>0.884814</td>\n",
              "      <td>0.887049</td>\n",
              "    </tr>\n",
              "    <tr>\n",
              "      <th>4</th>\n",
              "      <td>0.946059</td>\n",
              "      <td>0.005710</td>\n",
              "      <td>0.167932</td>\n",
              "      <td>0.180200</td>\n",
              "      <td>0.388442</td>\n",
              "    </tr>\n",
              "    <tr>\n",
              "      <th>8</th>\n",
              "      <td>0.78169</td>\n",
              "      <td>0.874851</td>\n",
              "      <td>0.749604</td>\n",
              "      <td>0.188263</td>\n",
              "      <td>0.634419</td>\n",
              "    </tr>\n",
              "  </tbody>\n",
              "</table>\n",
              "</div>"
            ],
            "text/plain": [
              "          A         B         C         D         E\n",
              "0   0.54321  0.351516  0.747502  0.252251  0.063048\n",
              "1  0.560306  0.761380  0.739760  0.060856  0.165792\n",
              "3   0.96547  0.957761  0.214800  0.884814  0.887049\n",
              "4  0.946059  0.005710  0.167932  0.180200  0.388442\n",
              "8   0.78169  0.874851  0.749604  0.188263  0.634419"
            ]
          },
          "metadata": {
            "tags": []
          },
          "execution_count": 58
        }
      ]
    },
    {
      "cell_type": "code",
      "metadata": {
        "id": "s0JDJQPEeGfm",
        "colab_type": "code",
        "colab": {
          "base_uri": "https://localhost:8080/",
          "height": 197
        },
        "outputId": "9be2b101-b875-4ac1-ba5a-2c32ba15b2ee"
      },
      "source": [
        "new_df.loc[(new_df['A'] > 0.5) & (new_df['B'] < 0.6)].head(5)"
      ],
      "execution_count": 59,
      "outputs": [
        {
          "output_type": "execute_result",
          "data": {
            "text/html": [
              "<div>\n",
              "<style scoped>\n",
              "    .dataframe tbody tr th:only-of-type {\n",
              "        vertical-align: middle;\n",
              "    }\n",
              "\n",
              "    .dataframe tbody tr th {\n",
              "        vertical-align: top;\n",
              "    }\n",
              "\n",
              "    .dataframe thead th {\n",
              "        text-align: right;\n",
              "    }\n",
              "</style>\n",
              "<table border=\"1\" class=\"dataframe\">\n",
              "  <thead>\n",
              "    <tr style=\"text-align: right;\">\n",
              "      <th></th>\n",
              "      <th>A</th>\n",
              "      <th>B</th>\n",
              "      <th>C</th>\n",
              "      <th>D</th>\n",
              "      <th>E</th>\n",
              "    </tr>\n",
              "  </thead>\n",
              "  <tbody>\n",
              "    <tr>\n",
              "      <th>0</th>\n",
              "      <td>0.54321</td>\n",
              "      <td>0.351516</td>\n",
              "      <td>0.747502</td>\n",
              "      <td>0.252251</td>\n",
              "      <td>0.063048</td>\n",
              "    </tr>\n",
              "    <tr>\n",
              "      <th>4</th>\n",
              "      <td>0.946059</td>\n",
              "      <td>0.005710</td>\n",
              "      <td>0.167932</td>\n",
              "      <td>0.180200</td>\n",
              "      <td>0.388442</td>\n",
              "    </tr>\n",
              "    <tr>\n",
              "      <th>15</th>\n",
              "      <td>0.613584</td>\n",
              "      <td>0.017867</td>\n",
              "      <td>0.367616</td>\n",
              "      <td>0.082913</td>\n",
              "      <td>0.343501</td>\n",
              "    </tr>\n",
              "    <tr>\n",
              "      <th>18</th>\n",
              "      <td>0.963344</td>\n",
              "      <td>0.558653</td>\n",
              "      <td>0.167860</td>\n",
              "      <td>0.379226</td>\n",
              "      <td>0.889201</td>\n",
              "    </tr>\n",
              "    <tr>\n",
              "      <th>20</th>\n",
              "      <td>0.692984</td>\n",
              "      <td>0.050741</td>\n",
              "      <td>0.374167</td>\n",
              "      <td>0.454608</td>\n",
              "      <td>0.339128</td>\n",
              "    </tr>\n",
              "  </tbody>\n",
              "</table>\n",
              "</div>"
            ],
            "text/plain": [
              "           A         B         C         D         E\n",
              "0    0.54321  0.351516  0.747502  0.252251  0.063048\n",
              "4   0.946059  0.005710  0.167932  0.180200  0.388442\n",
              "15  0.613584  0.017867  0.367616  0.082913  0.343501\n",
              "18  0.963344  0.558653  0.167860  0.379226  0.889201\n",
              "20  0.692984  0.050741  0.374167  0.454608  0.339128"
            ]
          },
          "metadata": {
            "tags": []
          },
          "execution_count": 59
        }
      ]
    },
    {
      "cell_type": "code",
      "metadata": {
        "id": "Hp48m1AlevPJ",
        "colab_type": "code",
        "colab": {
          "base_uri": "https://localhost:8080/",
          "height": 137
        },
        "outputId": "d2df4419-6dcb-4e0b-8a72-43198cc76655"
      },
      "source": [
        "new_df.head(3)"
      ],
      "execution_count": 60,
      "outputs": [
        {
          "output_type": "execute_result",
          "data": {
            "text/html": [
              "<div>\n",
              "<style scoped>\n",
              "    .dataframe tbody tr th:only-of-type {\n",
              "        vertical-align: middle;\n",
              "    }\n",
              "\n",
              "    .dataframe tbody tr th {\n",
              "        vertical-align: top;\n",
              "    }\n",
              "\n",
              "    .dataframe thead th {\n",
              "        text-align: right;\n",
              "    }\n",
              "</style>\n",
              "<table border=\"1\" class=\"dataframe\">\n",
              "  <thead>\n",
              "    <tr style=\"text-align: right;\">\n",
              "      <th></th>\n",
              "      <th>A</th>\n",
              "      <th>B</th>\n",
              "      <th>C</th>\n",
              "      <th>D</th>\n",
              "      <th>E</th>\n",
              "    </tr>\n",
              "  </thead>\n",
              "  <tbody>\n",
              "    <tr>\n",
              "      <th>0</th>\n",
              "      <td>0.54321</td>\n",
              "      <td>0.351516</td>\n",
              "      <td>0.747502</td>\n",
              "      <td>0.252251</td>\n",
              "      <td>0.063048</td>\n",
              "    </tr>\n",
              "    <tr>\n",
              "      <th>1</th>\n",
              "      <td>0.560306</td>\n",
              "      <td>0.761380</td>\n",
              "      <td>0.739760</td>\n",
              "      <td>0.060856</td>\n",
              "      <td>0.165792</td>\n",
              "    </tr>\n",
              "    <tr>\n",
              "      <th>2</th>\n",
              "      <td>0.482958</td>\n",
              "      <td>0.879773</td>\n",
              "      <td>0.755738</td>\n",
              "      <td>0.736851</td>\n",
              "      <td>0.203240</td>\n",
              "    </tr>\n",
              "  </tbody>\n",
              "</table>\n",
              "</div>"
            ],
            "text/plain": [
              "          A         B         C         D         E\n",
              "0   0.54321  0.351516  0.747502  0.252251  0.063048\n",
              "1  0.560306  0.761380  0.739760  0.060856  0.165792\n",
              "2  0.482958  0.879773  0.755738  0.736851  0.203240"
            ]
          },
          "metadata": {
            "tags": []
          },
          "execution_count": 60
        }
      ]
    },
    {
      "cell_type": "code",
      "metadata": {
        "id": "Y3eBvb_jfdZG",
        "colab_type": "code",
        "colab": {
          "base_uri": "https://localhost:8080/",
          "height": 34
        },
        "outputId": "b988005e-d57f-4433-c625-e75ab24271d7"
      },
      "source": [
        "new_df.iloc[0, 4]"
      ],
      "execution_count": 61,
      "outputs": [
        {
          "output_type": "execute_result",
          "data": {
            "text/plain": [
              "0.06304827733550167"
            ]
          },
          "metadata": {
            "tags": []
          },
          "execution_count": 61
        }
      ]
    },
    {
      "cell_type": "markdown",
      "metadata": {
        "id": "GvCgP3vEgOkq",
        "colab_type": "text"
      },
      "source": [
        "`.loc` $vs$ `.iloc`\n",
        "---\n",
        "`loc` gets rows (or columns) with particular **labels** from the index. `iloc` gets rows (or columns) at particular positions in the **`index`** (so it only takes integers)."
      ]
    },
    {
      "cell_type": "code",
      "metadata": {
        "id": "c4vrqH2ifjPA",
        "colab_type": "code",
        "colab": {
          "base_uri": "https://localhost:8080/",
          "height": 107
        },
        "outputId": "a59488bd-2875-465f-ffea-6a4eeeeee89c"
      },
      "source": [
        "new_df.iloc[[0, 1], [1, 2]]"
      ],
      "execution_count": 62,
      "outputs": [
        {
          "output_type": "execute_result",
          "data": {
            "text/html": [
              "<div>\n",
              "<style scoped>\n",
              "    .dataframe tbody tr th:only-of-type {\n",
              "        vertical-align: middle;\n",
              "    }\n",
              "\n",
              "    .dataframe tbody tr th {\n",
              "        vertical-align: top;\n",
              "    }\n",
              "\n",
              "    .dataframe thead th {\n",
              "        text-align: right;\n",
              "    }\n",
              "</style>\n",
              "<table border=\"1\" class=\"dataframe\">\n",
              "  <thead>\n",
              "    <tr style=\"text-align: right;\">\n",
              "      <th></th>\n",
              "      <th>B</th>\n",
              "      <th>C</th>\n",
              "    </tr>\n",
              "  </thead>\n",
              "  <tbody>\n",
              "    <tr>\n",
              "      <th>0</th>\n",
              "      <td>0.351516</td>\n",
              "      <td>0.747502</td>\n",
              "    </tr>\n",
              "    <tr>\n",
              "      <th>1</th>\n",
              "      <td>0.761380</td>\n",
              "      <td>0.739760</td>\n",
              "    </tr>\n",
              "  </tbody>\n",
              "</table>\n",
              "</div>"
            ],
            "text/plain": [
              "          B         C\n",
              "0  0.351516  0.747502\n",
              "1  0.761380  0.739760"
            ]
          },
          "metadata": {
            "tags": []
          },
          "execution_count": 62
        }
      ]
    },
    {
      "cell_type": "code",
      "metadata": {
        "id": "gryyzsMVtV2V",
        "colab_type": "code",
        "colab": {
          "base_uri": "https://localhost:8080/",
          "height": 197
        },
        "outputId": "647103ee-f590-4422-a3b3-dc8f8805d312"
      },
      "source": [
        "new_df.drop([2]).head(5)"
      ],
      "execution_count": 63,
      "outputs": [
        {
          "output_type": "execute_result",
          "data": {
            "text/html": [
              "<div>\n",
              "<style scoped>\n",
              "    .dataframe tbody tr th:only-of-type {\n",
              "        vertical-align: middle;\n",
              "    }\n",
              "\n",
              "    .dataframe tbody tr th {\n",
              "        vertical-align: top;\n",
              "    }\n",
              "\n",
              "    .dataframe thead th {\n",
              "        text-align: right;\n",
              "    }\n",
              "</style>\n",
              "<table border=\"1\" class=\"dataframe\">\n",
              "  <thead>\n",
              "    <tr style=\"text-align: right;\">\n",
              "      <th></th>\n",
              "      <th>A</th>\n",
              "      <th>B</th>\n",
              "      <th>C</th>\n",
              "      <th>D</th>\n",
              "      <th>E</th>\n",
              "    </tr>\n",
              "  </thead>\n",
              "  <tbody>\n",
              "    <tr>\n",
              "      <th>0</th>\n",
              "      <td>0.54321</td>\n",
              "      <td>0.351516</td>\n",
              "      <td>0.747502</td>\n",
              "      <td>0.252251</td>\n",
              "      <td>0.063048</td>\n",
              "    </tr>\n",
              "    <tr>\n",
              "      <th>1</th>\n",
              "      <td>0.560306</td>\n",
              "      <td>0.761380</td>\n",
              "      <td>0.739760</td>\n",
              "      <td>0.060856</td>\n",
              "      <td>0.165792</td>\n",
              "    </tr>\n",
              "    <tr>\n",
              "      <th>3</th>\n",
              "      <td>0.96547</td>\n",
              "      <td>0.957761</td>\n",
              "      <td>0.214800</td>\n",
              "      <td>0.884814</td>\n",
              "      <td>0.887049</td>\n",
              "    </tr>\n",
              "    <tr>\n",
              "      <th>4</th>\n",
              "      <td>0.946059</td>\n",
              "      <td>0.005710</td>\n",
              "      <td>0.167932</td>\n",
              "      <td>0.180200</td>\n",
              "      <td>0.388442</td>\n",
              "    </tr>\n",
              "    <tr>\n",
              "      <th>5</th>\n",
              "      <td>0.312122</td>\n",
              "      <td>0.545900</td>\n",
              "      <td>0.976535</td>\n",
              "      <td>0.880047</td>\n",
              "      <td>0.440441</td>\n",
              "    </tr>\n",
              "  </tbody>\n",
              "</table>\n",
              "</div>"
            ],
            "text/plain": [
              "          A         B         C         D         E\n",
              "0   0.54321  0.351516  0.747502  0.252251  0.063048\n",
              "1  0.560306  0.761380  0.739760  0.060856  0.165792\n",
              "3   0.96547  0.957761  0.214800  0.884814  0.887049\n",
              "4  0.946059  0.005710  0.167932  0.180200  0.388442\n",
              "5  0.312122  0.545900  0.976535  0.880047  0.440441"
            ]
          },
          "metadata": {
            "tags": []
          },
          "execution_count": 63
        }
      ]
    },
    {
      "cell_type": "code",
      "metadata": {
        "id": "pHAirfp5uL78",
        "colab_type": "code",
        "colab": {
          "base_uri": "https://localhost:8080/",
          "height": 197
        },
        "outputId": "38f9235a-764d-4b1e-d51b-a363b023cc31"
      },
      "source": [
        "new_df.drop(['A', 'C'], axis=1).head(5)"
      ],
      "execution_count": 64,
      "outputs": [
        {
          "output_type": "execute_result",
          "data": {
            "text/html": [
              "<div>\n",
              "<style scoped>\n",
              "    .dataframe tbody tr th:only-of-type {\n",
              "        vertical-align: middle;\n",
              "    }\n",
              "\n",
              "    .dataframe tbody tr th {\n",
              "        vertical-align: top;\n",
              "    }\n",
              "\n",
              "    .dataframe thead th {\n",
              "        text-align: right;\n",
              "    }\n",
              "</style>\n",
              "<table border=\"1\" class=\"dataframe\">\n",
              "  <thead>\n",
              "    <tr style=\"text-align: right;\">\n",
              "      <th></th>\n",
              "      <th>B</th>\n",
              "      <th>D</th>\n",
              "      <th>E</th>\n",
              "    </tr>\n",
              "  </thead>\n",
              "  <tbody>\n",
              "    <tr>\n",
              "      <th>0</th>\n",
              "      <td>0.351516</td>\n",
              "      <td>0.252251</td>\n",
              "      <td>0.063048</td>\n",
              "    </tr>\n",
              "    <tr>\n",
              "      <th>1</th>\n",
              "      <td>0.761380</td>\n",
              "      <td>0.060856</td>\n",
              "      <td>0.165792</td>\n",
              "    </tr>\n",
              "    <tr>\n",
              "      <th>2</th>\n",
              "      <td>0.879773</td>\n",
              "      <td>0.736851</td>\n",
              "      <td>0.203240</td>\n",
              "    </tr>\n",
              "    <tr>\n",
              "      <th>3</th>\n",
              "      <td>0.957761</td>\n",
              "      <td>0.884814</td>\n",
              "      <td>0.887049</td>\n",
              "    </tr>\n",
              "    <tr>\n",
              "      <th>4</th>\n",
              "      <td>0.005710</td>\n",
              "      <td>0.180200</td>\n",
              "      <td>0.388442</td>\n",
              "    </tr>\n",
              "  </tbody>\n",
              "</table>\n",
              "</div>"
            ],
            "text/plain": [
              "          B         D         E\n",
              "0  0.351516  0.252251  0.063048\n",
              "1  0.761380  0.060856  0.165792\n",
              "2  0.879773  0.736851  0.203240\n",
              "3  0.957761  0.884814  0.887049\n",
              "4  0.005710  0.180200  0.388442"
            ]
          },
          "metadata": {
            "tags": []
          },
          "execution_count": 64
        }
      ]
    },
    {
      "cell_type": "code",
      "metadata": {
        "id": "JXEacyypuedf",
        "colab_type": "code",
        "colab": {}
      },
      "source": [
        "new_df.drop(['A', 'C'], axis=1, inplace=True)"
      ],
      "execution_count": 65,
      "outputs": []
    },
    {
      "cell_type": "code",
      "metadata": {
        "id": "ZqxFv2MLu-rB",
        "colab_type": "code",
        "colab": {
          "base_uri": "https://localhost:8080/",
          "height": 197
        },
        "outputId": "bb861f65-df45-4970-83d8-1c8754d3224a"
      },
      "source": [
        "new_df.head(5)"
      ],
      "execution_count": 66,
      "outputs": [
        {
          "output_type": "execute_result",
          "data": {
            "text/html": [
              "<div>\n",
              "<style scoped>\n",
              "    .dataframe tbody tr th:only-of-type {\n",
              "        vertical-align: middle;\n",
              "    }\n",
              "\n",
              "    .dataframe tbody tr th {\n",
              "        vertical-align: top;\n",
              "    }\n",
              "\n",
              "    .dataframe thead th {\n",
              "        text-align: right;\n",
              "    }\n",
              "</style>\n",
              "<table border=\"1\" class=\"dataframe\">\n",
              "  <thead>\n",
              "    <tr style=\"text-align: right;\">\n",
              "      <th></th>\n",
              "      <th>B</th>\n",
              "      <th>D</th>\n",
              "      <th>E</th>\n",
              "    </tr>\n",
              "  </thead>\n",
              "  <tbody>\n",
              "    <tr>\n",
              "      <th>0</th>\n",
              "      <td>0.351516</td>\n",
              "      <td>0.252251</td>\n",
              "      <td>0.063048</td>\n",
              "    </tr>\n",
              "    <tr>\n",
              "      <th>1</th>\n",
              "      <td>0.761380</td>\n",
              "      <td>0.060856</td>\n",
              "      <td>0.165792</td>\n",
              "    </tr>\n",
              "    <tr>\n",
              "      <th>2</th>\n",
              "      <td>0.879773</td>\n",
              "      <td>0.736851</td>\n",
              "      <td>0.203240</td>\n",
              "    </tr>\n",
              "    <tr>\n",
              "      <th>3</th>\n",
              "      <td>0.957761</td>\n",
              "      <td>0.884814</td>\n",
              "      <td>0.887049</td>\n",
              "    </tr>\n",
              "    <tr>\n",
              "      <th>4</th>\n",
              "      <td>0.005710</td>\n",
              "      <td>0.180200</td>\n",
              "      <td>0.388442</td>\n",
              "    </tr>\n",
              "  </tbody>\n",
              "</table>\n",
              "</div>"
            ],
            "text/plain": [
              "          B         D         E\n",
              "0  0.351516  0.252251  0.063048\n",
              "1  0.761380  0.060856  0.165792\n",
              "2  0.879773  0.736851  0.203240\n",
              "3  0.957761  0.884814  0.887049\n",
              "4  0.005710  0.180200  0.388442"
            ]
          },
          "metadata": {
            "tags": []
          },
          "execution_count": 66
        }
      ]
    },
    {
      "cell_type": "code",
      "metadata": {
        "id": "QkgoL8lSvYA0",
        "colab_type": "code",
        "colab": {}
      },
      "source": [
        "new_df.drop([1, 3], axis=0, inplace=True)"
      ],
      "execution_count": 67,
      "outputs": []
    },
    {
      "cell_type": "code",
      "metadata": {
        "id": "UetMO0_xwidL",
        "colab_type": "code",
        "colab": {
          "base_uri": "https://localhost:8080/",
          "height": 197
        },
        "outputId": "8ec8474e-13f9-4a37-e939-fe8217053cbf"
      },
      "source": [
        "new_df.head(5)"
      ],
      "execution_count": 68,
      "outputs": [
        {
          "output_type": "execute_result",
          "data": {
            "text/html": [
              "<div>\n",
              "<style scoped>\n",
              "    .dataframe tbody tr th:only-of-type {\n",
              "        vertical-align: middle;\n",
              "    }\n",
              "\n",
              "    .dataframe tbody tr th {\n",
              "        vertical-align: top;\n",
              "    }\n",
              "\n",
              "    .dataframe thead th {\n",
              "        text-align: right;\n",
              "    }\n",
              "</style>\n",
              "<table border=\"1\" class=\"dataframe\">\n",
              "  <thead>\n",
              "    <tr style=\"text-align: right;\">\n",
              "      <th></th>\n",
              "      <th>B</th>\n",
              "      <th>D</th>\n",
              "      <th>E</th>\n",
              "    </tr>\n",
              "  </thead>\n",
              "  <tbody>\n",
              "    <tr>\n",
              "      <th>0</th>\n",
              "      <td>0.351516</td>\n",
              "      <td>0.252251</td>\n",
              "      <td>0.063048</td>\n",
              "    </tr>\n",
              "    <tr>\n",
              "      <th>2</th>\n",
              "      <td>0.879773</td>\n",
              "      <td>0.736851</td>\n",
              "      <td>0.203240</td>\n",
              "    </tr>\n",
              "    <tr>\n",
              "      <th>4</th>\n",
              "      <td>0.005710</td>\n",
              "      <td>0.180200</td>\n",
              "      <td>0.388442</td>\n",
              "    </tr>\n",
              "    <tr>\n",
              "      <th>5</th>\n",
              "      <td>0.545900</td>\n",
              "      <td>0.880047</td>\n",
              "      <td>0.440441</td>\n",
              "    </tr>\n",
              "    <tr>\n",
              "      <th>6</th>\n",
              "      <td>0.047417</td>\n",
              "      <td>0.682086</td>\n",
              "      <td>0.285437</td>\n",
              "    </tr>\n",
              "  </tbody>\n",
              "</table>\n",
              "</div>"
            ],
            "text/plain": [
              "          B         D         E\n",
              "0  0.351516  0.252251  0.063048\n",
              "2  0.879773  0.736851  0.203240\n",
              "4  0.005710  0.180200  0.388442\n",
              "5  0.545900  0.880047  0.440441\n",
              "6  0.047417  0.682086  0.285437"
            ]
          },
          "metadata": {
            "tags": []
          },
          "execution_count": 68
        }
      ]
    },
    {
      "cell_type": "code",
      "metadata": {
        "id": "HjC7r4-HwlaX",
        "colab_type": "code",
        "colab": {
          "base_uri": "https://localhost:8080/",
          "height": 406
        },
        "outputId": "4aa96f5c-b22e-465b-b037-d7af88d3829b"
      },
      "source": [
        "new_df.reset_index()"
      ],
      "execution_count": 69,
      "outputs": [
        {
          "output_type": "execute_result",
          "data": {
            "text/html": [
              "<div>\n",
              "<style scoped>\n",
              "    .dataframe tbody tr th:only-of-type {\n",
              "        vertical-align: middle;\n",
              "    }\n",
              "\n",
              "    .dataframe tbody tr th {\n",
              "        vertical-align: top;\n",
              "    }\n",
              "\n",
              "    .dataframe thead th {\n",
              "        text-align: right;\n",
              "    }\n",
              "</style>\n",
              "<table border=\"1\" class=\"dataframe\">\n",
              "  <thead>\n",
              "    <tr style=\"text-align: right;\">\n",
              "      <th></th>\n",
              "      <th>index</th>\n",
              "      <th>B</th>\n",
              "      <th>D</th>\n",
              "      <th>E</th>\n",
              "    </tr>\n",
              "  </thead>\n",
              "  <tbody>\n",
              "    <tr>\n",
              "      <th>0</th>\n",
              "      <td>0</td>\n",
              "      <td>0.351516</td>\n",
              "      <td>0.252251</td>\n",
              "      <td>0.063048</td>\n",
              "    </tr>\n",
              "    <tr>\n",
              "      <th>1</th>\n",
              "      <td>2</td>\n",
              "      <td>0.879773</td>\n",
              "      <td>0.736851</td>\n",
              "      <td>0.203240</td>\n",
              "    </tr>\n",
              "    <tr>\n",
              "      <th>2</th>\n",
              "      <td>4</td>\n",
              "      <td>0.005710</td>\n",
              "      <td>0.180200</td>\n",
              "      <td>0.388442</td>\n",
              "    </tr>\n",
              "    <tr>\n",
              "      <th>3</th>\n",
              "      <td>5</td>\n",
              "      <td>0.545900</td>\n",
              "      <td>0.880047</td>\n",
              "      <td>0.440441</td>\n",
              "    </tr>\n",
              "    <tr>\n",
              "      <th>4</th>\n",
              "      <td>6</td>\n",
              "      <td>0.047417</td>\n",
              "      <td>0.682086</td>\n",
              "      <td>0.285437</td>\n",
              "    </tr>\n",
              "    <tr>\n",
              "      <th>...</th>\n",
              "      <td>...</td>\n",
              "      <td>...</td>\n",
              "      <td>...</td>\n",
              "      <td>...</td>\n",
              "    </tr>\n",
              "    <tr>\n",
              "      <th>293</th>\n",
              "      <td>295</td>\n",
              "      <td>0.940568</td>\n",
              "      <td>0.114394</td>\n",
              "      <td>0.821349</td>\n",
              "    </tr>\n",
              "    <tr>\n",
              "      <th>294</th>\n",
              "      <td>296</td>\n",
              "      <td>0.791238</td>\n",
              "      <td>0.341883</td>\n",
              "      <td>0.332195</td>\n",
              "    </tr>\n",
              "    <tr>\n",
              "      <th>295</th>\n",
              "      <td>297</td>\n",
              "      <td>0.209322</td>\n",
              "      <td>0.504221</td>\n",
              "      <td>0.694428</td>\n",
              "    </tr>\n",
              "    <tr>\n",
              "      <th>296</th>\n",
              "      <td>298</td>\n",
              "      <td>0.221617</td>\n",
              "      <td>0.074223</td>\n",
              "      <td>0.946116</td>\n",
              "    </tr>\n",
              "    <tr>\n",
              "      <th>297</th>\n",
              "      <td>299</td>\n",
              "      <td>0.063214</td>\n",
              "      <td>0.242679</td>\n",
              "      <td>0.443807</td>\n",
              "    </tr>\n",
              "  </tbody>\n",
              "</table>\n",
              "<p>298 rows × 4 columns</p>\n",
              "</div>"
            ],
            "text/plain": [
              "     index         B         D         E\n",
              "0        0  0.351516  0.252251  0.063048\n",
              "1        2  0.879773  0.736851  0.203240\n",
              "2        4  0.005710  0.180200  0.388442\n",
              "3        5  0.545900  0.880047  0.440441\n",
              "4        6  0.047417  0.682086  0.285437\n",
              "..     ...       ...       ...       ...\n",
              "293    295  0.940568  0.114394  0.821349\n",
              "294    296  0.791238  0.341883  0.332195\n",
              "295    297  0.209322  0.504221  0.694428\n",
              "296    298  0.221617  0.074223  0.946116\n",
              "297    299  0.063214  0.242679  0.443807\n",
              "\n",
              "[298 rows x 4 columns]"
            ]
          },
          "metadata": {
            "tags": []
          },
          "execution_count": 69
        }
      ]
    },
    {
      "cell_type": "code",
      "metadata": {
        "id": "nn7chjdHwxqE",
        "colab_type": "code",
        "colab": {}
      },
      "source": [
        "new_df.reset_index(drop=True, inplace=True)"
      ],
      "execution_count": 70,
      "outputs": []
    },
    {
      "cell_type": "code",
      "metadata": {
        "id": "iXZjFZ1uxD2l",
        "colab_type": "code",
        "colab": {
          "base_uri": "https://localhost:8080/",
          "height": 197
        },
        "outputId": "fb43f210-6ab6-4666-8bfb-b63ebd9a84ca"
      },
      "source": [
        "new_df.head(5)"
      ],
      "execution_count": 71,
      "outputs": [
        {
          "output_type": "execute_result",
          "data": {
            "text/html": [
              "<div>\n",
              "<style scoped>\n",
              "    .dataframe tbody tr th:only-of-type {\n",
              "        vertical-align: middle;\n",
              "    }\n",
              "\n",
              "    .dataframe tbody tr th {\n",
              "        vertical-align: top;\n",
              "    }\n",
              "\n",
              "    .dataframe thead th {\n",
              "        text-align: right;\n",
              "    }\n",
              "</style>\n",
              "<table border=\"1\" class=\"dataframe\">\n",
              "  <thead>\n",
              "    <tr style=\"text-align: right;\">\n",
              "      <th></th>\n",
              "      <th>B</th>\n",
              "      <th>D</th>\n",
              "      <th>E</th>\n",
              "    </tr>\n",
              "  </thead>\n",
              "  <tbody>\n",
              "    <tr>\n",
              "      <th>0</th>\n",
              "      <td>0.351516</td>\n",
              "      <td>0.252251</td>\n",
              "      <td>0.063048</td>\n",
              "    </tr>\n",
              "    <tr>\n",
              "      <th>1</th>\n",
              "      <td>0.879773</td>\n",
              "      <td>0.736851</td>\n",
              "      <td>0.203240</td>\n",
              "    </tr>\n",
              "    <tr>\n",
              "      <th>2</th>\n",
              "      <td>0.005710</td>\n",
              "      <td>0.180200</td>\n",
              "      <td>0.388442</td>\n",
              "    </tr>\n",
              "    <tr>\n",
              "      <th>3</th>\n",
              "      <td>0.545900</td>\n",
              "      <td>0.880047</td>\n",
              "      <td>0.440441</td>\n",
              "    </tr>\n",
              "    <tr>\n",
              "      <th>4</th>\n",
              "      <td>0.047417</td>\n",
              "      <td>0.682086</td>\n",
              "      <td>0.285437</td>\n",
              "    </tr>\n",
              "  </tbody>\n",
              "</table>\n",
              "</div>"
            ],
            "text/plain": [
              "          B         D         E\n",
              "0  0.351516  0.252251  0.063048\n",
              "1  0.879773  0.736851  0.203240\n",
              "2  0.005710  0.180200  0.388442\n",
              "3  0.545900  0.880047  0.440441\n",
              "4  0.047417  0.682086  0.285437"
            ]
          },
          "metadata": {
            "tags": []
          },
          "execution_count": 71
        }
      ]
    },
    {
      "cell_type": "code",
      "metadata": {
        "id": "7aY4gPFuydqk",
        "colab_type": "code",
        "colab": {}
      },
      "source": [
        "new_df.loc[:, 'B'] = None"
      ],
      "execution_count": 72,
      "outputs": []
    },
    {
      "cell_type": "code",
      "metadata": {
        "id": "AxVATBSaxln_",
        "colab_type": "code",
        "colab": {
          "base_uri": "https://localhost:8080/",
          "height": 230
        },
        "outputId": "1ab54dcf-4846-42fc-9511-fbabb4a59df6"
      },
      "source": [
        "new_df['B'].isnull()"
      ],
      "execution_count": 73,
      "outputs": [
        {
          "output_type": "execute_result",
          "data": {
            "text/plain": [
              "0      True\n",
              "1      True\n",
              "2      True\n",
              "3      True\n",
              "4      True\n",
              "       ... \n",
              "293    True\n",
              "294    True\n",
              "295    True\n",
              "296    True\n",
              "297    True\n",
              "Name: B, Length: 298, dtype: bool"
            ]
          },
          "metadata": {
            "tags": []
          },
          "execution_count": 73
        }
      ]
    },
    {
      "cell_type": "code",
      "metadata": {
        "id": "OnB7gK7AyW0f",
        "colab_type": "code",
        "colab": {
          "base_uri": "https://localhost:8080/",
          "height": 197
        },
        "outputId": "8d92879f-2095-4ec1-9ce9-382c9f0af64c"
      },
      "source": [
        "new_df.head(5)"
      ],
      "execution_count": 74,
      "outputs": [
        {
          "output_type": "execute_result",
          "data": {
            "text/html": [
              "<div>\n",
              "<style scoped>\n",
              "    .dataframe tbody tr th:only-of-type {\n",
              "        vertical-align: middle;\n",
              "    }\n",
              "\n",
              "    .dataframe tbody tr th {\n",
              "        vertical-align: top;\n",
              "    }\n",
              "\n",
              "    .dataframe thead th {\n",
              "        text-align: right;\n",
              "    }\n",
              "</style>\n",
              "<table border=\"1\" class=\"dataframe\">\n",
              "  <thead>\n",
              "    <tr style=\"text-align: right;\">\n",
              "      <th></th>\n",
              "      <th>B</th>\n",
              "      <th>D</th>\n",
              "      <th>E</th>\n",
              "    </tr>\n",
              "  </thead>\n",
              "  <tbody>\n",
              "    <tr>\n",
              "      <th>0</th>\n",
              "      <td>None</td>\n",
              "      <td>0.252251</td>\n",
              "      <td>0.063048</td>\n",
              "    </tr>\n",
              "    <tr>\n",
              "      <th>1</th>\n",
              "      <td>None</td>\n",
              "      <td>0.736851</td>\n",
              "      <td>0.203240</td>\n",
              "    </tr>\n",
              "    <tr>\n",
              "      <th>2</th>\n",
              "      <td>None</td>\n",
              "      <td>0.180200</td>\n",
              "      <td>0.388442</td>\n",
              "    </tr>\n",
              "    <tr>\n",
              "      <th>3</th>\n",
              "      <td>None</td>\n",
              "      <td>0.880047</td>\n",
              "      <td>0.440441</td>\n",
              "    </tr>\n",
              "    <tr>\n",
              "      <th>4</th>\n",
              "      <td>None</td>\n",
              "      <td>0.682086</td>\n",
              "      <td>0.285437</td>\n",
              "    </tr>\n",
              "  </tbody>\n",
              "</table>\n",
              "</div>"
            ],
            "text/plain": [
              "      B         D         E\n",
              "0  None  0.252251  0.063048\n",
              "1  None  0.736851  0.203240\n",
              "2  None  0.180200  0.388442\n",
              "3  None  0.880047  0.440441\n",
              "4  None  0.682086  0.285437"
            ]
          },
          "metadata": {
            "tags": []
          },
          "execution_count": 74
        }
      ]
    },
    {
      "cell_type": "code",
      "metadata": {
        "id": "Z-7hXB8ly81b",
        "colab_type": "code",
        "colab": {}
      },
      "source": [
        "new_df.iloc[0, 0] = 1"
      ],
      "execution_count": 75,
      "outputs": []
    },
    {
      "cell_type": "code",
      "metadata": {
        "id": "tuKBRD-ZzTsg",
        "colab_type": "code",
        "colab": {
          "base_uri": "https://localhost:8080/",
          "height": 406
        },
        "outputId": "f625fe89-cc94-455e-ce1f-f4a1511ee444"
      },
      "source": [
        "new_df"
      ],
      "execution_count": 76,
      "outputs": [
        {
          "output_type": "execute_result",
          "data": {
            "text/html": [
              "<div>\n",
              "<style scoped>\n",
              "    .dataframe tbody tr th:only-of-type {\n",
              "        vertical-align: middle;\n",
              "    }\n",
              "\n",
              "    .dataframe tbody tr th {\n",
              "        vertical-align: top;\n",
              "    }\n",
              "\n",
              "    .dataframe thead th {\n",
              "        text-align: right;\n",
              "    }\n",
              "</style>\n",
              "<table border=\"1\" class=\"dataframe\">\n",
              "  <thead>\n",
              "    <tr style=\"text-align: right;\">\n",
              "      <th></th>\n",
              "      <th>B</th>\n",
              "      <th>D</th>\n",
              "      <th>E</th>\n",
              "    </tr>\n",
              "  </thead>\n",
              "  <tbody>\n",
              "    <tr>\n",
              "      <th>0</th>\n",
              "      <td>1</td>\n",
              "      <td>0.252251</td>\n",
              "      <td>0.063048</td>\n",
              "    </tr>\n",
              "    <tr>\n",
              "      <th>1</th>\n",
              "      <td>None</td>\n",
              "      <td>0.736851</td>\n",
              "      <td>0.203240</td>\n",
              "    </tr>\n",
              "    <tr>\n",
              "      <th>2</th>\n",
              "      <td>None</td>\n",
              "      <td>0.180200</td>\n",
              "      <td>0.388442</td>\n",
              "    </tr>\n",
              "    <tr>\n",
              "      <th>3</th>\n",
              "      <td>None</td>\n",
              "      <td>0.880047</td>\n",
              "      <td>0.440441</td>\n",
              "    </tr>\n",
              "    <tr>\n",
              "      <th>4</th>\n",
              "      <td>None</td>\n",
              "      <td>0.682086</td>\n",
              "      <td>0.285437</td>\n",
              "    </tr>\n",
              "    <tr>\n",
              "      <th>...</th>\n",
              "      <td>...</td>\n",
              "      <td>...</td>\n",
              "      <td>...</td>\n",
              "    </tr>\n",
              "    <tr>\n",
              "      <th>293</th>\n",
              "      <td>None</td>\n",
              "      <td>0.114394</td>\n",
              "      <td>0.821349</td>\n",
              "    </tr>\n",
              "    <tr>\n",
              "      <th>294</th>\n",
              "      <td>None</td>\n",
              "      <td>0.341883</td>\n",
              "      <td>0.332195</td>\n",
              "    </tr>\n",
              "    <tr>\n",
              "      <th>295</th>\n",
              "      <td>None</td>\n",
              "      <td>0.504221</td>\n",
              "      <td>0.694428</td>\n",
              "    </tr>\n",
              "    <tr>\n",
              "      <th>296</th>\n",
              "      <td>None</td>\n",
              "      <td>0.074223</td>\n",
              "      <td>0.946116</td>\n",
              "    </tr>\n",
              "    <tr>\n",
              "      <th>297</th>\n",
              "      <td>None</td>\n",
              "      <td>0.242679</td>\n",
              "      <td>0.443807</td>\n",
              "    </tr>\n",
              "  </tbody>\n",
              "</table>\n",
              "<p>298 rows × 3 columns</p>\n",
              "</div>"
            ],
            "text/plain": [
              "        B         D         E\n",
              "0       1  0.252251  0.063048\n",
              "1    None  0.736851  0.203240\n",
              "2    None  0.180200  0.388442\n",
              "3    None  0.880047  0.440441\n",
              "4    None  0.682086  0.285437\n",
              "..    ...       ...       ...\n",
              "293  None  0.114394  0.821349\n",
              "294  None  0.341883  0.332195\n",
              "295  None  0.504221  0.694428\n",
              "296  None  0.074223  0.946116\n",
              "297  None  0.242679  0.443807\n",
              "\n",
              "[298 rows x 3 columns]"
            ]
          },
          "metadata": {
            "tags": []
          },
          "execution_count": 76
        }
      ]
    },
    {
      "cell_type": "code",
      "metadata": {
        "id": "mTNh-qMPzQ9-",
        "colab_type": "code",
        "colab": {
          "base_uri": "https://localhost:8080/",
          "height": 230
        },
        "outputId": "061c0fb2-1cbf-4a56-b270-e05e0e33136a"
      },
      "source": [
        "new_df['B'].isnull()"
      ],
      "execution_count": 77,
      "outputs": [
        {
          "output_type": "execute_result",
          "data": {
            "text/plain": [
              "0      False\n",
              "1       True\n",
              "2       True\n",
              "3       True\n",
              "4       True\n",
              "       ...  \n",
              "293     True\n",
              "294     True\n",
              "295     True\n",
              "296     True\n",
              "297     True\n",
              "Name: B, Length: 298, dtype: bool"
            ]
          },
          "metadata": {
            "tags": []
          },
          "execution_count": 77
        }
      ]
    },
    {
      "cell_type": "code",
      "metadata": {
        "id": "vnVN5QNYzRmG",
        "colab_type": "code",
        "colab": {}
      },
      "source": [
        "df = pd.DataFrame({'name':['Alfred', 'Batman', 'catwomen'],\n",
        "                   'toy':[np.nan, 'Batmobile', 'Bullwhip'],\n",
        "                   'born':[pd.NaT, pd.Timestamp('1940-04-25'), pd.NaT]\n",
        "})"
      ],
      "execution_count": 78,
      "outputs": []
    },
    {
      "cell_type": "code",
      "metadata": {
        "id": "G2Ag-n1p2Gbr",
        "colab_type": "code",
        "colab": {
          "base_uri": "https://localhost:8080/",
          "height": 137
        },
        "outputId": "8cdc6859-fcf2-4af4-dc2c-6706d9143173"
      },
      "source": [
        "df.head()"
      ],
      "execution_count": 79,
      "outputs": [
        {
          "output_type": "execute_result",
          "data": {
            "text/html": [
              "<div>\n",
              "<style scoped>\n",
              "    .dataframe tbody tr th:only-of-type {\n",
              "        vertical-align: middle;\n",
              "    }\n",
              "\n",
              "    .dataframe tbody tr th {\n",
              "        vertical-align: top;\n",
              "    }\n",
              "\n",
              "    .dataframe thead th {\n",
              "        text-align: right;\n",
              "    }\n",
              "</style>\n",
              "<table border=\"1\" class=\"dataframe\">\n",
              "  <thead>\n",
              "    <tr style=\"text-align: right;\">\n",
              "      <th></th>\n",
              "      <th>name</th>\n",
              "      <th>toy</th>\n",
              "      <th>born</th>\n",
              "    </tr>\n",
              "  </thead>\n",
              "  <tbody>\n",
              "    <tr>\n",
              "      <th>0</th>\n",
              "      <td>Alfred</td>\n",
              "      <td>NaN</td>\n",
              "      <td>NaT</td>\n",
              "    </tr>\n",
              "    <tr>\n",
              "      <th>1</th>\n",
              "      <td>Batman</td>\n",
              "      <td>Batmobile</td>\n",
              "      <td>1940-04-25</td>\n",
              "    </tr>\n",
              "    <tr>\n",
              "      <th>2</th>\n",
              "      <td>catwomen</td>\n",
              "      <td>Bullwhip</td>\n",
              "      <td>NaT</td>\n",
              "    </tr>\n",
              "  </tbody>\n",
              "</table>\n",
              "</div>"
            ],
            "text/plain": [
              "       name        toy       born\n",
              "0    Alfred        NaN        NaT\n",
              "1    Batman  Batmobile 1940-04-25\n",
              "2  catwomen   Bullwhip        NaT"
            ]
          },
          "metadata": {
            "tags": []
          },
          "execution_count": 79
        }
      ]
    },
    {
      "cell_type": "code",
      "metadata": {
        "id": "jalV3z5E2On0",
        "colab_type": "code",
        "colab": {
          "base_uri": "https://localhost:8080/",
          "height": 137
        },
        "outputId": "7e45ecd4-0e81-4222-a4f8-0b61c0aa04cf"
      },
      "source": [
        "df.dropna(how='all')"
      ],
      "execution_count": 80,
      "outputs": [
        {
          "output_type": "execute_result",
          "data": {
            "text/html": [
              "<div>\n",
              "<style scoped>\n",
              "    .dataframe tbody tr th:only-of-type {\n",
              "        vertical-align: middle;\n",
              "    }\n",
              "\n",
              "    .dataframe tbody tr th {\n",
              "        vertical-align: top;\n",
              "    }\n",
              "\n",
              "    .dataframe thead th {\n",
              "        text-align: right;\n",
              "    }\n",
              "</style>\n",
              "<table border=\"1\" class=\"dataframe\">\n",
              "  <thead>\n",
              "    <tr style=\"text-align: right;\">\n",
              "      <th></th>\n",
              "      <th>name</th>\n",
              "      <th>toy</th>\n",
              "      <th>born</th>\n",
              "    </tr>\n",
              "  </thead>\n",
              "  <tbody>\n",
              "    <tr>\n",
              "      <th>0</th>\n",
              "      <td>Alfred</td>\n",
              "      <td>NaN</td>\n",
              "      <td>NaT</td>\n",
              "    </tr>\n",
              "    <tr>\n",
              "      <th>1</th>\n",
              "      <td>Batman</td>\n",
              "      <td>Batmobile</td>\n",
              "      <td>1940-04-25</td>\n",
              "    </tr>\n",
              "    <tr>\n",
              "      <th>2</th>\n",
              "      <td>catwomen</td>\n",
              "      <td>Bullwhip</td>\n",
              "      <td>NaT</td>\n",
              "    </tr>\n",
              "  </tbody>\n",
              "</table>\n",
              "</div>"
            ],
            "text/plain": [
              "       name        toy       born\n",
              "0    Alfred        NaN        NaT\n",
              "1    Batman  Batmobile 1940-04-25\n",
              "2  catwomen   Bullwhip        NaT"
            ]
          },
          "metadata": {
            "tags": []
          },
          "execution_count": 80
        }
      ]
    },
    {
      "cell_type": "code",
      "metadata": {
        "id": "xaNbd42k2bzz",
        "colab_type": "code",
        "colab": {
          "base_uri": "https://localhost:8080/",
          "height": 77
        },
        "outputId": "561ad334-cc69-45c9-ed17-9bc45e9c911f"
      },
      "source": [
        "df.dropna()"
      ],
      "execution_count": 81,
      "outputs": [
        {
          "output_type": "execute_result",
          "data": {
            "text/html": [
              "<div>\n",
              "<style scoped>\n",
              "    .dataframe tbody tr th:only-of-type {\n",
              "        vertical-align: middle;\n",
              "    }\n",
              "\n",
              "    .dataframe tbody tr th {\n",
              "        vertical-align: top;\n",
              "    }\n",
              "\n",
              "    .dataframe thead th {\n",
              "        text-align: right;\n",
              "    }\n",
              "</style>\n",
              "<table border=\"1\" class=\"dataframe\">\n",
              "  <thead>\n",
              "    <tr style=\"text-align: right;\">\n",
              "      <th></th>\n",
              "      <th>name</th>\n",
              "      <th>toy</th>\n",
              "      <th>born</th>\n",
              "    </tr>\n",
              "  </thead>\n",
              "  <tbody>\n",
              "    <tr>\n",
              "      <th>1</th>\n",
              "      <td>Batman</td>\n",
              "      <td>Batmobile</td>\n",
              "      <td>1940-04-25</td>\n",
              "    </tr>\n",
              "  </tbody>\n",
              "</table>\n",
              "</div>"
            ],
            "text/plain": [
              "     name        toy       born\n",
              "1  Batman  Batmobile 1940-04-25"
            ]
          },
          "metadata": {
            "tags": []
          },
          "execution_count": 81
        }
      ]
    },
    {
      "cell_type": "code",
      "metadata": {
        "id": "Oh0jPMOx2uSq",
        "colab_type": "code",
        "colab": {}
      },
      "source": [
        "df_n = pd.DataFrame({'name':['Alfred', 'Batman', 'catwomen'],\n",
        "                   'toy':[np.nan, np.nan, np.nan],\n",
        "                   'born':[pd.NaT, pd.Timestamp('1940-04-25'), pd.NaT]\n",
        "})"
      ],
      "execution_count": 82,
      "outputs": []
    },
    {
      "cell_type": "code",
      "metadata": {
        "id": "Ym0H5SiL2-5L",
        "colab_type": "code",
        "colab": {
          "base_uri": "https://localhost:8080/",
          "height": 137
        },
        "outputId": "24cd2db4-1adb-4eb7-dd1a-40f40fba7f06"
      },
      "source": [
        "df_n"
      ],
      "execution_count": 83,
      "outputs": [
        {
          "output_type": "execute_result",
          "data": {
            "text/html": [
              "<div>\n",
              "<style scoped>\n",
              "    .dataframe tbody tr th:only-of-type {\n",
              "        vertical-align: middle;\n",
              "    }\n",
              "\n",
              "    .dataframe tbody tr th {\n",
              "        vertical-align: top;\n",
              "    }\n",
              "\n",
              "    .dataframe thead th {\n",
              "        text-align: right;\n",
              "    }\n",
              "</style>\n",
              "<table border=\"1\" class=\"dataframe\">\n",
              "  <thead>\n",
              "    <tr style=\"text-align: right;\">\n",
              "      <th></th>\n",
              "      <th>name</th>\n",
              "      <th>toy</th>\n",
              "      <th>born</th>\n",
              "    </tr>\n",
              "  </thead>\n",
              "  <tbody>\n",
              "    <tr>\n",
              "      <th>0</th>\n",
              "      <td>Alfred</td>\n",
              "      <td>NaN</td>\n",
              "      <td>NaT</td>\n",
              "    </tr>\n",
              "    <tr>\n",
              "      <th>1</th>\n",
              "      <td>Batman</td>\n",
              "      <td>NaN</td>\n",
              "      <td>1940-04-25</td>\n",
              "    </tr>\n",
              "    <tr>\n",
              "      <th>2</th>\n",
              "      <td>catwomen</td>\n",
              "      <td>NaN</td>\n",
              "      <td>NaT</td>\n",
              "    </tr>\n",
              "  </tbody>\n",
              "</table>\n",
              "</div>"
            ],
            "text/plain": [
              "       name  toy       born\n",
              "0    Alfred  NaN        NaT\n",
              "1    Batman  NaN 1940-04-25\n",
              "2  catwomen  NaN        NaT"
            ]
          },
          "metadata": {
            "tags": []
          },
          "execution_count": 83
        }
      ]
    },
    {
      "cell_type": "code",
      "metadata": {
        "id": "fWDWG1-Z3BlJ",
        "colab_type": "code",
        "colab": {
          "base_uri": "https://localhost:8080/",
          "height": 137
        },
        "outputId": "0477c4fd-05f6-458f-d9c4-a99e1e8e0c69"
      },
      "source": [
        "df_n.dropna(how='all', axis=1)"
      ],
      "execution_count": 84,
      "outputs": [
        {
          "output_type": "execute_result",
          "data": {
            "text/html": [
              "<div>\n",
              "<style scoped>\n",
              "    .dataframe tbody tr th:only-of-type {\n",
              "        vertical-align: middle;\n",
              "    }\n",
              "\n",
              "    .dataframe tbody tr th {\n",
              "        vertical-align: top;\n",
              "    }\n",
              "\n",
              "    .dataframe thead th {\n",
              "        text-align: right;\n",
              "    }\n",
              "</style>\n",
              "<table border=\"1\" class=\"dataframe\">\n",
              "  <thead>\n",
              "    <tr style=\"text-align: right;\">\n",
              "      <th></th>\n",
              "      <th>name</th>\n",
              "      <th>born</th>\n",
              "    </tr>\n",
              "  </thead>\n",
              "  <tbody>\n",
              "    <tr>\n",
              "      <th>0</th>\n",
              "      <td>Alfred</td>\n",
              "      <td>NaT</td>\n",
              "    </tr>\n",
              "    <tr>\n",
              "      <th>1</th>\n",
              "      <td>Batman</td>\n",
              "      <td>1940-04-25</td>\n",
              "    </tr>\n",
              "    <tr>\n",
              "      <th>2</th>\n",
              "      <td>catwomen</td>\n",
              "      <td>NaT</td>\n",
              "    </tr>\n",
              "  </tbody>\n",
              "</table>\n",
              "</div>"
            ],
            "text/plain": [
              "       name       born\n",
              "0    Alfred        NaT\n",
              "1    Batman 1940-04-25\n",
              "2  catwomen        NaT"
            ]
          },
          "metadata": {
            "tags": []
          },
          "execution_count": 84
        }
      ]
    },
    {
      "cell_type": "markdown",
      "metadata": {
        "id": "9R8WUN9h3Xg2",
        "colab_type": "text"
      },
      "source": [
        "## __Droping the Dupilicates__"
      ]
    },
    {
      "cell_type": "code",
      "metadata": {
        "id": "-8SXtC9m3KMQ",
        "colab_type": "code",
        "colab": {}
      },
      "source": [
        "df_x = pd.DataFrame({'name':['Alfred', 'Batman', 'Alfred'],\n",
        "                   'toy':[np.nan, 'Batmobile', 'Bullwhip'],\n",
        "                   'born':[pd.NaT, pd.Timestamp('1940-04-25'), pd.NaT]\n",
        "})"
      ],
      "execution_count": 85,
      "outputs": []
    },
    {
      "cell_type": "code",
      "metadata": {
        "id": "bCloeAfk3wvf",
        "colab_type": "code",
        "colab": {
          "base_uri": "https://localhost:8080/",
          "height": 137
        },
        "outputId": "d01b9a67-a54d-4f65-89c0-9ffcc9bba75b"
      },
      "source": [
        "df_x"
      ],
      "execution_count": 86,
      "outputs": [
        {
          "output_type": "execute_result",
          "data": {
            "text/html": [
              "<div>\n",
              "<style scoped>\n",
              "    .dataframe tbody tr th:only-of-type {\n",
              "        vertical-align: middle;\n",
              "    }\n",
              "\n",
              "    .dataframe tbody tr th {\n",
              "        vertical-align: top;\n",
              "    }\n",
              "\n",
              "    .dataframe thead th {\n",
              "        text-align: right;\n",
              "    }\n",
              "</style>\n",
              "<table border=\"1\" class=\"dataframe\">\n",
              "  <thead>\n",
              "    <tr style=\"text-align: right;\">\n",
              "      <th></th>\n",
              "      <th>name</th>\n",
              "      <th>toy</th>\n",
              "      <th>born</th>\n",
              "    </tr>\n",
              "  </thead>\n",
              "  <tbody>\n",
              "    <tr>\n",
              "      <th>0</th>\n",
              "      <td>Alfred</td>\n",
              "      <td>NaN</td>\n",
              "      <td>NaT</td>\n",
              "    </tr>\n",
              "    <tr>\n",
              "      <th>1</th>\n",
              "      <td>Batman</td>\n",
              "      <td>Batmobile</td>\n",
              "      <td>1940-04-25</td>\n",
              "    </tr>\n",
              "    <tr>\n",
              "      <th>2</th>\n",
              "      <td>Alfred</td>\n",
              "      <td>Bullwhip</td>\n",
              "      <td>NaT</td>\n",
              "    </tr>\n",
              "  </tbody>\n",
              "</table>\n",
              "</div>"
            ],
            "text/plain": [
              "     name        toy       born\n",
              "0  Alfred        NaN        NaT\n",
              "1  Batman  Batmobile 1940-04-25\n",
              "2  Alfred   Bullwhip        NaT"
            ]
          },
          "metadata": {
            "tags": []
          },
          "execution_count": 86
        }
      ]
    },
    {
      "cell_type": "code",
      "metadata": {
        "id": "mBCxxhCB3x--",
        "colab_type": "code",
        "colab": {
          "base_uri": "https://localhost:8080/",
          "height": 107
        },
        "outputId": "ab4b1ce7-faca-4c78-84bf-2d8a6d6edb73"
      },
      "source": [
        "df_x.drop_duplicates(subset=['name'])"
      ],
      "execution_count": 87,
      "outputs": [
        {
          "output_type": "execute_result",
          "data": {
            "text/html": [
              "<div>\n",
              "<style scoped>\n",
              "    .dataframe tbody tr th:only-of-type {\n",
              "        vertical-align: middle;\n",
              "    }\n",
              "\n",
              "    .dataframe tbody tr th {\n",
              "        vertical-align: top;\n",
              "    }\n",
              "\n",
              "    .dataframe thead th {\n",
              "        text-align: right;\n",
              "    }\n",
              "</style>\n",
              "<table border=\"1\" class=\"dataframe\">\n",
              "  <thead>\n",
              "    <tr style=\"text-align: right;\">\n",
              "      <th></th>\n",
              "      <th>name</th>\n",
              "      <th>toy</th>\n",
              "      <th>born</th>\n",
              "    </tr>\n",
              "  </thead>\n",
              "  <tbody>\n",
              "    <tr>\n",
              "      <th>0</th>\n",
              "      <td>Alfred</td>\n",
              "      <td>NaN</td>\n",
              "      <td>NaT</td>\n",
              "    </tr>\n",
              "    <tr>\n",
              "      <th>1</th>\n",
              "      <td>Batman</td>\n",
              "      <td>Batmobile</td>\n",
              "      <td>1940-04-25</td>\n",
              "    </tr>\n",
              "  </tbody>\n",
              "</table>\n",
              "</div>"
            ],
            "text/plain": [
              "     name        toy       born\n",
              "0  Alfred        NaN        NaT\n",
              "1  Batman  Batmobile 1940-04-25"
            ]
          },
          "metadata": {
            "tags": []
          },
          "execution_count": 87
        }
      ]
    },
    {
      "cell_type": "code",
      "metadata": {
        "id": "buvbWdf138VO",
        "colab_type": "code",
        "colab": {
          "base_uri": "https://localhost:8080/",
          "height": 107
        },
        "outputId": "cc8bec5c-9ea3-4be1-b500-78df2820a170"
      },
      "source": [
        "df_x.drop_duplicates(subset=['name'], keep='last')"
      ],
      "execution_count": 88,
      "outputs": [
        {
          "output_type": "execute_result",
          "data": {
            "text/html": [
              "<div>\n",
              "<style scoped>\n",
              "    .dataframe tbody tr th:only-of-type {\n",
              "        vertical-align: middle;\n",
              "    }\n",
              "\n",
              "    .dataframe tbody tr th {\n",
              "        vertical-align: top;\n",
              "    }\n",
              "\n",
              "    .dataframe thead th {\n",
              "        text-align: right;\n",
              "    }\n",
              "</style>\n",
              "<table border=\"1\" class=\"dataframe\">\n",
              "  <thead>\n",
              "    <tr style=\"text-align: right;\">\n",
              "      <th></th>\n",
              "      <th>name</th>\n",
              "      <th>toy</th>\n",
              "      <th>born</th>\n",
              "    </tr>\n",
              "  </thead>\n",
              "  <tbody>\n",
              "    <tr>\n",
              "      <th>1</th>\n",
              "      <td>Batman</td>\n",
              "      <td>Batmobile</td>\n",
              "      <td>1940-04-25</td>\n",
              "    </tr>\n",
              "    <tr>\n",
              "      <th>2</th>\n",
              "      <td>Alfred</td>\n",
              "      <td>Bullwhip</td>\n",
              "      <td>NaT</td>\n",
              "    </tr>\n",
              "  </tbody>\n",
              "</table>\n",
              "</div>"
            ],
            "text/plain": [
              "     name        toy       born\n",
              "1  Batman  Batmobile 1940-04-25\n",
              "2  Alfred   Bullwhip        NaT"
            ]
          },
          "metadata": {
            "tags": []
          },
          "execution_count": 88
        }
      ]
    },
    {
      "cell_type": "code",
      "metadata": {
        "id": "k0YQpGXN4tku",
        "colab_type": "code",
        "colab": {
          "base_uri": "https://localhost:8080/",
          "height": 77
        },
        "outputId": "08b6bcd0-4ab9-49e1-8cc1-3f6820404626"
      },
      "source": [
        "df_x.drop_duplicates(subset=['name'], keep=False)"
      ],
      "execution_count": 89,
      "outputs": [
        {
          "output_type": "execute_result",
          "data": {
            "text/html": [
              "<div>\n",
              "<style scoped>\n",
              "    .dataframe tbody tr th:only-of-type {\n",
              "        vertical-align: middle;\n",
              "    }\n",
              "\n",
              "    .dataframe tbody tr th {\n",
              "        vertical-align: top;\n",
              "    }\n",
              "\n",
              "    .dataframe thead th {\n",
              "        text-align: right;\n",
              "    }\n",
              "</style>\n",
              "<table border=\"1\" class=\"dataframe\">\n",
              "  <thead>\n",
              "    <tr style=\"text-align: right;\">\n",
              "      <th></th>\n",
              "      <th>name</th>\n",
              "      <th>toy</th>\n",
              "      <th>born</th>\n",
              "    </tr>\n",
              "  </thead>\n",
              "  <tbody>\n",
              "    <tr>\n",
              "      <th>1</th>\n",
              "      <td>Batman</td>\n",
              "      <td>Batmobile</td>\n",
              "      <td>1940-04-25</td>\n",
              "    </tr>\n",
              "  </tbody>\n",
              "</table>\n",
              "</div>"
            ],
            "text/plain": [
              "     name        toy       born\n",
              "1  Batman  Batmobile 1940-04-25"
            ]
          },
          "metadata": {
            "tags": []
          },
          "execution_count": 89
        }
      ]
    },
    {
      "cell_type": "code",
      "metadata": {
        "id": "TOXDAAJh40Pa",
        "colab_type": "code",
        "colab": {
          "base_uri": "https://localhost:8080/",
          "height": 34
        },
        "outputId": "654f2138-feeb-4e3a-a4c4-945b65a7a9f4"
      },
      "source": [
        "df.shape"
      ],
      "execution_count": 90,
      "outputs": [
        {
          "output_type": "execute_result",
          "data": {
            "text/plain": [
              "(3, 3)"
            ]
          },
          "metadata": {
            "tags": []
          },
          "execution_count": 90
        }
      ]
    },
    {
      "cell_type": "code",
      "metadata": {
        "id": "UNb1YKAm4_2S",
        "colab_type": "code",
        "colab": {
          "base_uri": "https://localhost:8080/",
          "height": 194
        },
        "outputId": "54db6d7b-dfdd-4e7b-8240-0e02ef433f00"
      },
      "source": [
        "df.info()"
      ],
      "execution_count": 91,
      "outputs": [
        {
          "output_type": "stream",
          "text": [
            "<class 'pandas.core.frame.DataFrame'>\n",
            "RangeIndex: 3 entries, 0 to 2\n",
            "Data columns (total 3 columns):\n",
            " #   Column  Non-Null Count  Dtype         \n",
            "---  ------  --------------  -----         \n",
            " 0   name    3 non-null      object        \n",
            " 1   toy     2 non-null      object        \n",
            " 2   born    1 non-null      datetime64[ns]\n",
            "dtypes: datetime64[ns](1), object(2)\n",
            "memory usage: 200.0+ bytes\n"
          ],
          "name": "stdout"
        }
      ]
    },
    {
      "cell_type": "code",
      "metadata": {
        "id": "_yfrq1Ps5JpB",
        "colab_type": "code",
        "colab": {
          "base_uri": "https://localhost:8080/",
          "height": 227
        },
        "outputId": "176ab6b2-7b64-4b88-8f24-3d2046558d0a"
      },
      "source": [
        "df.describe()"
      ],
      "execution_count": 92,
      "outputs": [
        {
          "output_type": "execute_result",
          "data": {
            "text/html": [
              "<div>\n",
              "<style scoped>\n",
              "    .dataframe tbody tr th:only-of-type {\n",
              "        vertical-align: middle;\n",
              "    }\n",
              "\n",
              "    .dataframe tbody tr th {\n",
              "        vertical-align: top;\n",
              "    }\n",
              "\n",
              "    .dataframe thead th {\n",
              "        text-align: right;\n",
              "    }\n",
              "</style>\n",
              "<table border=\"1\" class=\"dataframe\">\n",
              "  <thead>\n",
              "    <tr style=\"text-align: right;\">\n",
              "      <th></th>\n",
              "      <th>name</th>\n",
              "      <th>toy</th>\n",
              "      <th>born</th>\n",
              "    </tr>\n",
              "  </thead>\n",
              "  <tbody>\n",
              "    <tr>\n",
              "      <th>count</th>\n",
              "      <td>3</td>\n",
              "      <td>2</td>\n",
              "      <td>1</td>\n",
              "    </tr>\n",
              "    <tr>\n",
              "      <th>unique</th>\n",
              "      <td>3</td>\n",
              "      <td>2</td>\n",
              "      <td>1</td>\n",
              "    </tr>\n",
              "    <tr>\n",
              "      <th>top</th>\n",
              "      <td>Alfred</td>\n",
              "      <td>Batmobile</td>\n",
              "      <td>1940-04-25 00:00:00</td>\n",
              "    </tr>\n",
              "    <tr>\n",
              "      <th>freq</th>\n",
              "      <td>1</td>\n",
              "      <td>1</td>\n",
              "      <td>1</td>\n",
              "    </tr>\n",
              "    <tr>\n",
              "      <th>first</th>\n",
              "      <td>NaN</td>\n",
              "      <td>NaN</td>\n",
              "      <td>1940-04-25 00:00:00</td>\n",
              "    </tr>\n",
              "    <tr>\n",
              "      <th>last</th>\n",
              "      <td>NaN</td>\n",
              "      <td>NaN</td>\n",
              "      <td>1940-04-25 00:00:00</td>\n",
              "    </tr>\n",
              "  </tbody>\n",
              "</table>\n",
              "</div>"
            ],
            "text/plain": [
              "          name        toy                 born\n",
              "count        3          2                    1\n",
              "unique       3          2                    1\n",
              "top     Alfred  Batmobile  1940-04-25 00:00:00\n",
              "freq         1          1                    1\n",
              "first      NaN        NaN  1940-04-25 00:00:00\n",
              "last       NaN        NaN  1940-04-25 00:00:00"
            ]
          },
          "metadata": {
            "tags": []
          },
          "execution_count": 92
        }
      ]
    },
    {
      "cell_type": "code",
      "metadata": {
        "id": "fTkmDkeX5SXC",
        "colab_type": "code",
        "colab": {
          "base_uri": "https://localhost:8080/",
          "height": 87
        },
        "outputId": "c2b1a545-c77c-4859-8442-6c22f980844c"
      },
      "source": [
        "df['name'].value_counts(dropna=False) # dropna=False i.e. we don't want to drop NaN"
      ],
      "execution_count": 93,
      "outputs": [
        {
          "output_type": "execute_result",
          "data": {
            "text/plain": [
              "Alfred      1\n",
              "Batman      1\n",
              "catwomen    1\n",
              "Name: name, dtype: int64"
            ]
          },
          "metadata": {
            "tags": []
          },
          "execution_count": 93
        }
      ]
    },
    {
      "cell_type": "code",
      "metadata": {
        "id": "bkjSpGUO5jXI",
        "colab_type": "code",
        "colab": {
          "base_uri": "https://localhost:8080/",
          "height": 70
        },
        "outputId": "225826c8-9f49-447e-9406-f9b5605ff042"
      },
      "source": [
        "df['born'].value_counts(dropna=False) "
      ],
      "execution_count": 94,
      "outputs": [
        {
          "output_type": "execute_result",
          "data": {
            "text/plain": [
              "NaT           2\n",
              "1940-04-25    1\n",
              "Name: born, dtype: int64"
            ]
          },
          "metadata": {
            "tags": []
          },
          "execution_count": 94
        }
      ]
    },
    {
      "cell_type": "code",
      "metadata": {
        "id": "SMzhT5vz6hYY",
        "colab_type": "code",
        "colab": {
          "base_uri": "https://localhost:8080/",
          "height": 137
        },
        "outputId": "2b3d716f-2d54-489c-85db-e93c05d41fae"
      },
      "source": [
        "df"
      ],
      "execution_count": 95,
      "outputs": [
        {
          "output_type": "execute_result",
          "data": {
            "text/html": [
              "<div>\n",
              "<style scoped>\n",
              "    .dataframe tbody tr th:only-of-type {\n",
              "        vertical-align: middle;\n",
              "    }\n",
              "\n",
              "    .dataframe tbody tr th {\n",
              "        vertical-align: top;\n",
              "    }\n",
              "\n",
              "    .dataframe thead th {\n",
              "        text-align: right;\n",
              "    }\n",
              "</style>\n",
              "<table border=\"1\" class=\"dataframe\">\n",
              "  <thead>\n",
              "    <tr style=\"text-align: right;\">\n",
              "      <th></th>\n",
              "      <th>name</th>\n",
              "      <th>toy</th>\n",
              "      <th>born</th>\n",
              "    </tr>\n",
              "  </thead>\n",
              "  <tbody>\n",
              "    <tr>\n",
              "      <th>0</th>\n",
              "      <td>Alfred</td>\n",
              "      <td>NaN</td>\n",
              "      <td>NaT</td>\n",
              "    </tr>\n",
              "    <tr>\n",
              "      <th>1</th>\n",
              "      <td>Batman</td>\n",
              "      <td>Batmobile</td>\n",
              "      <td>1940-04-25</td>\n",
              "    </tr>\n",
              "    <tr>\n",
              "      <th>2</th>\n",
              "      <td>catwomen</td>\n",
              "      <td>Bullwhip</td>\n",
              "      <td>NaT</td>\n",
              "    </tr>\n",
              "  </tbody>\n",
              "</table>\n",
              "</div>"
            ],
            "text/plain": [
              "       name        toy       born\n",
              "0    Alfred        NaN        NaT\n",
              "1    Batman  Batmobile 1940-04-25\n",
              "2  catwomen   Bullwhip        NaT"
            ]
          },
          "metadata": {
            "tags": []
          },
          "execution_count": 95
        }
      ]
    },
    {
      "cell_type": "code",
      "metadata": {
        "id": "UXMiRQUd5zzC",
        "colab_type": "code",
        "colab": {
          "base_uri": "https://localhost:8080/",
          "height": 137
        },
        "outputId": "bac4d79e-9aa7-419d-a614-abb6461e7a0c"
      },
      "source": [
        "df.notnull()"
      ],
      "execution_count": 96,
      "outputs": [
        {
          "output_type": "execute_result",
          "data": {
            "text/html": [
              "<div>\n",
              "<style scoped>\n",
              "    .dataframe tbody tr th:only-of-type {\n",
              "        vertical-align: middle;\n",
              "    }\n",
              "\n",
              "    .dataframe tbody tr th {\n",
              "        vertical-align: top;\n",
              "    }\n",
              "\n",
              "    .dataframe thead th {\n",
              "        text-align: right;\n",
              "    }\n",
              "</style>\n",
              "<table border=\"1\" class=\"dataframe\">\n",
              "  <thead>\n",
              "    <tr style=\"text-align: right;\">\n",
              "      <th></th>\n",
              "      <th>name</th>\n",
              "      <th>toy</th>\n",
              "      <th>born</th>\n",
              "    </tr>\n",
              "  </thead>\n",
              "  <tbody>\n",
              "    <tr>\n",
              "      <th>0</th>\n",
              "      <td>True</td>\n",
              "      <td>False</td>\n",
              "      <td>False</td>\n",
              "    </tr>\n",
              "    <tr>\n",
              "      <th>1</th>\n",
              "      <td>True</td>\n",
              "      <td>True</td>\n",
              "      <td>True</td>\n",
              "    </tr>\n",
              "    <tr>\n",
              "      <th>2</th>\n",
              "      <td>True</td>\n",
              "      <td>True</td>\n",
              "      <td>False</td>\n",
              "    </tr>\n",
              "  </tbody>\n",
              "</table>\n",
              "</div>"
            ],
            "text/plain": [
              "   name    toy   born\n",
              "0  True  False  False\n",
              "1  True   True   True\n",
              "2  True   True  False"
            ]
          },
          "metadata": {
            "tags": []
          },
          "execution_count": 96
        }
      ]
    },
    {
      "cell_type": "code",
      "metadata": {
        "id": "MF88Spit6P0D",
        "colab_type": "code",
        "colab": {
          "base_uri": "https://localhost:8080/",
          "height": 137
        },
        "outputId": "75bca2d2-9244-49cf-ab04-f718f660dd3e"
      },
      "source": [
        "df.isnull()"
      ],
      "execution_count": 97,
      "outputs": [
        {
          "output_type": "execute_result",
          "data": {
            "text/html": [
              "<div>\n",
              "<style scoped>\n",
              "    .dataframe tbody tr th:only-of-type {\n",
              "        vertical-align: middle;\n",
              "    }\n",
              "\n",
              "    .dataframe tbody tr th {\n",
              "        vertical-align: top;\n",
              "    }\n",
              "\n",
              "    .dataframe thead th {\n",
              "        text-align: right;\n",
              "    }\n",
              "</style>\n",
              "<table border=\"1\" class=\"dataframe\">\n",
              "  <thead>\n",
              "    <tr style=\"text-align: right;\">\n",
              "      <th></th>\n",
              "      <th>name</th>\n",
              "      <th>toy</th>\n",
              "      <th>born</th>\n",
              "    </tr>\n",
              "  </thead>\n",
              "  <tbody>\n",
              "    <tr>\n",
              "      <th>0</th>\n",
              "      <td>False</td>\n",
              "      <td>True</td>\n",
              "      <td>True</td>\n",
              "    </tr>\n",
              "    <tr>\n",
              "      <th>1</th>\n",
              "      <td>False</td>\n",
              "      <td>False</td>\n",
              "      <td>False</td>\n",
              "    </tr>\n",
              "    <tr>\n",
              "      <th>2</th>\n",
              "      <td>False</td>\n",
              "      <td>False</td>\n",
              "      <td>True</td>\n",
              "    </tr>\n",
              "  </tbody>\n",
              "</table>\n",
              "</div>"
            ],
            "text/plain": [
              "    name    toy   born\n",
              "0  False   True   True\n",
              "1  False  False  False\n",
              "2  False  False   True"
            ]
          },
          "metadata": {
            "tags": []
          },
          "execution_count": 97
        }
      ]
    },
    {
      "cell_type": "markdown",
      "metadata": {
        "id": "q6dDxars6y89",
        "colab_type": "text"
      },
      "source": [
        "__Statistical Analysis:__\n",
        "\n",
        "```\n",
        "df.describe()\n",
        "df.mean()\n",
        "df.corr()\n",
        "df.count()\n",
        "df.max()\n",
        "df.min()\n",
        "df.median()\n",
        "df.std()\n",
        "```\n",
        "\n"
      ]
    },
    {
      "cell_type": "markdown",
      "metadata": {
        "id": "NKRAkFdH8VkD",
        "colab_type": "text"
      },
      "source": [
        "### __How to read an excel file in pandas?__"
      ]
    },
    {
      "cell_type": "code",
      "metadata": {
        "id": "bZZeDXs_6ydp",
        "colab_type": "code",
        "colab": {
          "base_uri": "https://localhost:8080/",
          "height": 0
        },
        "outputId": "aa5d34a1-f286-437e-b339-c63010b2d447"
      },
      "source": [
        "! wget https://dq-blog-files.s3.amazonaws.com/movies.xls"
      ],
      "execution_count": 98,
      "outputs": [
        {
          "output_type": "stream",
          "text": [
            "--2020-08-14 17:29:20--  https://dq-blog-files.s3.amazonaws.com/movies.xls\n",
            "Resolving dq-blog-files.s3.amazonaws.com (dq-blog-files.s3.amazonaws.com)... 52.217.42.60\n",
            "Connecting to dq-blog-files.s3.amazonaws.com (dq-blog-files.s3.amazonaws.com)|52.217.42.60|:443... connected.\n",
            "HTTP request sent, awaiting response... 200 OK\n",
            "Length: 1871872 (1.8M) [application/vnd.ms-excel]\n",
            "Saving to: ‘movies.xls’\n",
            "\n",
            "\rmovies.xls            0%[                    ]       0  --.-KB/s               \rmovies.xls          100%[===================>]   1.79M  --.-KB/s    in 0.08s   \n",
            "\n",
            "2020-08-14 17:29:20 (21.6 MB/s) - ‘movies.xls’ saved [1871872/1871872]\n",
            "\n"
          ],
          "name": "stdout"
        }
      ]
    },
    {
      "cell_type": "code",
      "metadata": {
        "id": "vQ_cU-Dq6YP1",
        "colab_type": "code",
        "colab": {}
      },
      "source": [
        "data = pd.read_excel('/content/movies.xls', sheet_name='2000s')"
      ],
      "execution_count": 99,
      "outputs": []
    },
    {
      "cell_type": "code",
      "metadata": {
        "id": "rpoTE2eC--sX",
        "colab_type": "code",
        "colab": {
          "base_uri": "https://localhost:8080/",
          "height": 0
        },
        "outputId": "6c67f330-86bb-49a8-ccb0-10945c242a35"
      },
      "source": [
        "data.head(3)"
      ],
      "execution_count": 100,
      "outputs": [
        {
          "output_type": "execute_result",
          "data": {
            "text/html": [
              "<div>\n",
              "<style scoped>\n",
              "    .dataframe tbody tr th:only-of-type {\n",
              "        vertical-align: middle;\n",
              "    }\n",
              "\n",
              "    .dataframe tbody tr th {\n",
              "        vertical-align: top;\n",
              "    }\n",
              "\n",
              "    .dataframe thead th {\n",
              "        text-align: right;\n",
              "    }\n",
              "</style>\n",
              "<table border=\"1\" class=\"dataframe\">\n",
              "  <thead>\n",
              "    <tr style=\"text-align: right;\">\n",
              "      <th></th>\n",
              "      <th>Title</th>\n",
              "      <th>Year</th>\n",
              "      <th>Genres</th>\n",
              "      <th>Language</th>\n",
              "      <th>Country</th>\n",
              "      <th>Content Rating</th>\n",
              "      <th>Duration</th>\n",
              "      <th>Aspect Ratio</th>\n",
              "      <th>Budget</th>\n",
              "      <th>Gross Earnings</th>\n",
              "      <th>Director</th>\n",
              "      <th>Actor 1</th>\n",
              "      <th>Actor 2</th>\n",
              "      <th>Actor 3</th>\n",
              "      <th>Facebook Likes - Director</th>\n",
              "      <th>Facebook Likes - Actor 1</th>\n",
              "      <th>Facebook Likes - Actor 2</th>\n",
              "      <th>Facebook Likes - Actor 3</th>\n",
              "      <th>Facebook Likes - cast Total</th>\n",
              "      <th>Facebook likes - Movie</th>\n",
              "      <th>Facenumber in posters</th>\n",
              "      <th>User Votes</th>\n",
              "      <th>Reviews by Users</th>\n",
              "      <th>Reviews by Crtiics</th>\n",
              "      <th>IMDB Score</th>\n",
              "    </tr>\n",
              "  </thead>\n",
              "  <tbody>\n",
              "    <tr>\n",
              "      <th>0</th>\n",
              "      <td>102 Dalmatians</td>\n",
              "      <td>2000</td>\n",
              "      <td>Adventure|Comedy|Family</td>\n",
              "      <td>English</td>\n",
              "      <td>USA</td>\n",
              "      <td>G</td>\n",
              "      <td>100.0</td>\n",
              "      <td>1.85</td>\n",
              "      <td>85000000.0</td>\n",
              "      <td>66941559.0</td>\n",
              "      <td>Kevin Lima</td>\n",
              "      <td>Ioan Gruffudd</td>\n",
              "      <td>Eric Idle</td>\n",
              "      <td>Jim Carter</td>\n",
              "      <td>36</td>\n",
              "      <td>2000.0</td>\n",
              "      <td>795.0</td>\n",
              "      <td>439.0</td>\n",
              "      <td>4182</td>\n",
              "      <td>372</td>\n",
              "      <td>1</td>\n",
              "      <td>26413</td>\n",
              "      <td>77.0</td>\n",
              "      <td>84.0</td>\n",
              "      <td>4.8</td>\n",
              "    </tr>\n",
              "    <tr>\n",
              "      <th>1</th>\n",
              "      <td>28 Days</td>\n",
              "      <td>2000</td>\n",
              "      <td>Comedy|Drama</td>\n",
              "      <td>English</td>\n",
              "      <td>USA</td>\n",
              "      <td>PG-13</td>\n",
              "      <td>103.0</td>\n",
              "      <td>1.37</td>\n",
              "      <td>43000000.0</td>\n",
              "      <td>37035515.0</td>\n",
              "      <td>Betty Thomas</td>\n",
              "      <td>Steve Buscemi</td>\n",
              "      <td>Viggo Mortensen</td>\n",
              "      <td>Elizabeth Perkins</td>\n",
              "      <td>84</td>\n",
              "      <td>12000.0</td>\n",
              "      <td>10000.0</td>\n",
              "      <td>664.0</td>\n",
              "      <td>23864</td>\n",
              "      <td>0</td>\n",
              "      <td>1</td>\n",
              "      <td>34597</td>\n",
              "      <td>194.0</td>\n",
              "      <td>116.0</td>\n",
              "      <td>6.0</td>\n",
              "    </tr>\n",
              "    <tr>\n",
              "      <th>2</th>\n",
              "      <td>3 Strikes</td>\n",
              "      <td>2000</td>\n",
              "      <td>Comedy</td>\n",
              "      <td>English</td>\n",
              "      <td>USA</td>\n",
              "      <td>R</td>\n",
              "      <td>82.0</td>\n",
              "      <td>1.85</td>\n",
              "      <td>6000000.0</td>\n",
              "      <td>9821335.0</td>\n",
              "      <td>DJ Pooh</td>\n",
              "      <td>Mo'Nique</td>\n",
              "      <td>Mike Epps</td>\n",
              "      <td>Faizon Love</td>\n",
              "      <td>69</td>\n",
              "      <td>939.0</td>\n",
              "      <td>706.0</td>\n",
              "      <td>585.0</td>\n",
              "      <td>3354</td>\n",
              "      <td>118</td>\n",
              "      <td>1</td>\n",
              "      <td>1415</td>\n",
              "      <td>10.0</td>\n",
              "      <td>22.0</td>\n",
              "      <td>4.0</td>\n",
              "    </tr>\n",
              "  </tbody>\n",
              "</table>\n",
              "</div>"
            ],
            "text/plain": [
              "             Title  Year  ... Reviews by Crtiics IMDB Score\n",
              "0  102 Dalmatians   2000  ...               84.0        4.8\n",
              "1         28 Days   2000  ...              116.0        6.0\n",
              "2       3 Strikes   2000  ...               22.0        4.0\n",
              "\n",
              "[3 rows x 25 columns]"
            ]
          },
          "metadata": {
            "tags": []
          },
          "execution_count": 100
        }
      ]
    },
    {
      "cell_type": "code",
      "metadata": {
        "id": "PLU3AGFF_Mj8",
        "colab_type": "code",
        "colab": {}
      },
      "source": [
        "data.iloc[0,1] = 1984"
      ],
      "execution_count": 101,
      "outputs": []
    },
    {
      "cell_type": "code",
      "metadata": {
        "id": "_qEXC0gl_rH1",
        "colab_type": "code",
        "colab": {
          "base_uri": "https://localhost:8080/",
          "height": 0
        },
        "outputId": "1b395d44-7cf9-4da1-a655-670489139a02"
      },
      "source": [
        "data.head(3)"
      ],
      "execution_count": 102,
      "outputs": [
        {
          "output_type": "execute_result",
          "data": {
            "text/html": [
              "<div>\n",
              "<style scoped>\n",
              "    .dataframe tbody tr th:only-of-type {\n",
              "        vertical-align: middle;\n",
              "    }\n",
              "\n",
              "    .dataframe tbody tr th {\n",
              "        vertical-align: top;\n",
              "    }\n",
              "\n",
              "    .dataframe thead th {\n",
              "        text-align: right;\n",
              "    }\n",
              "</style>\n",
              "<table border=\"1\" class=\"dataframe\">\n",
              "  <thead>\n",
              "    <tr style=\"text-align: right;\">\n",
              "      <th></th>\n",
              "      <th>Title</th>\n",
              "      <th>Year</th>\n",
              "      <th>Genres</th>\n",
              "      <th>Language</th>\n",
              "      <th>Country</th>\n",
              "      <th>Content Rating</th>\n",
              "      <th>Duration</th>\n",
              "      <th>Aspect Ratio</th>\n",
              "      <th>Budget</th>\n",
              "      <th>Gross Earnings</th>\n",
              "      <th>Director</th>\n",
              "      <th>Actor 1</th>\n",
              "      <th>Actor 2</th>\n",
              "      <th>Actor 3</th>\n",
              "      <th>Facebook Likes - Director</th>\n",
              "      <th>Facebook Likes - Actor 1</th>\n",
              "      <th>Facebook Likes - Actor 2</th>\n",
              "      <th>Facebook Likes - Actor 3</th>\n",
              "      <th>Facebook Likes - cast Total</th>\n",
              "      <th>Facebook likes - Movie</th>\n",
              "      <th>Facenumber in posters</th>\n",
              "      <th>User Votes</th>\n",
              "      <th>Reviews by Users</th>\n",
              "      <th>Reviews by Crtiics</th>\n",
              "      <th>IMDB Score</th>\n",
              "    </tr>\n",
              "  </thead>\n",
              "  <tbody>\n",
              "    <tr>\n",
              "      <th>0</th>\n",
              "      <td>102 Dalmatians</td>\n",
              "      <td>1984</td>\n",
              "      <td>Adventure|Comedy|Family</td>\n",
              "      <td>English</td>\n",
              "      <td>USA</td>\n",
              "      <td>G</td>\n",
              "      <td>100.0</td>\n",
              "      <td>1.85</td>\n",
              "      <td>85000000.0</td>\n",
              "      <td>66941559.0</td>\n",
              "      <td>Kevin Lima</td>\n",
              "      <td>Ioan Gruffudd</td>\n",
              "      <td>Eric Idle</td>\n",
              "      <td>Jim Carter</td>\n",
              "      <td>36</td>\n",
              "      <td>2000.0</td>\n",
              "      <td>795.0</td>\n",
              "      <td>439.0</td>\n",
              "      <td>4182</td>\n",
              "      <td>372</td>\n",
              "      <td>1</td>\n",
              "      <td>26413</td>\n",
              "      <td>77.0</td>\n",
              "      <td>84.0</td>\n",
              "      <td>4.8</td>\n",
              "    </tr>\n",
              "    <tr>\n",
              "      <th>1</th>\n",
              "      <td>28 Days</td>\n",
              "      <td>2000</td>\n",
              "      <td>Comedy|Drama</td>\n",
              "      <td>English</td>\n",
              "      <td>USA</td>\n",
              "      <td>PG-13</td>\n",
              "      <td>103.0</td>\n",
              "      <td>1.37</td>\n",
              "      <td>43000000.0</td>\n",
              "      <td>37035515.0</td>\n",
              "      <td>Betty Thomas</td>\n",
              "      <td>Steve Buscemi</td>\n",
              "      <td>Viggo Mortensen</td>\n",
              "      <td>Elizabeth Perkins</td>\n",
              "      <td>84</td>\n",
              "      <td>12000.0</td>\n",
              "      <td>10000.0</td>\n",
              "      <td>664.0</td>\n",
              "      <td>23864</td>\n",
              "      <td>0</td>\n",
              "      <td>1</td>\n",
              "      <td>34597</td>\n",
              "      <td>194.0</td>\n",
              "      <td>116.0</td>\n",
              "      <td>6.0</td>\n",
              "    </tr>\n",
              "    <tr>\n",
              "      <th>2</th>\n",
              "      <td>3 Strikes</td>\n",
              "      <td>2000</td>\n",
              "      <td>Comedy</td>\n",
              "      <td>English</td>\n",
              "      <td>USA</td>\n",
              "      <td>R</td>\n",
              "      <td>82.0</td>\n",
              "      <td>1.85</td>\n",
              "      <td>6000000.0</td>\n",
              "      <td>9821335.0</td>\n",
              "      <td>DJ Pooh</td>\n",
              "      <td>Mo'Nique</td>\n",
              "      <td>Mike Epps</td>\n",
              "      <td>Faizon Love</td>\n",
              "      <td>69</td>\n",
              "      <td>939.0</td>\n",
              "      <td>706.0</td>\n",
              "      <td>585.0</td>\n",
              "      <td>3354</td>\n",
              "      <td>118</td>\n",
              "      <td>1</td>\n",
              "      <td>1415</td>\n",
              "      <td>10.0</td>\n",
              "      <td>22.0</td>\n",
              "      <td>4.0</td>\n",
              "    </tr>\n",
              "  </tbody>\n",
              "</table>\n",
              "</div>"
            ],
            "text/plain": [
              "             Title  Year  ... Reviews by Crtiics IMDB Score\n",
              "0  102 Dalmatians   1984  ...               84.0        4.8\n",
              "1         28 Days   2000  ...              116.0        6.0\n",
              "2       3 Strikes   2000  ...               22.0        4.0\n",
              "\n",
              "[3 rows x 25 columns]"
            ]
          },
          "metadata": {
            "tags": []
          },
          "execution_count": 102
        }
      ]
    },
    {
      "cell_type": "code",
      "metadata": {
        "id": "AV1Fwmwd_vBP",
        "colab_type": "code",
        "colab": {}
      },
      "source": [
        "# Making the changes to the excel \n",
        "data.to_excel('/content/movies.xls', sheet_name='2000s')"
      ],
      "execution_count": 103,
      "outputs": []
    }
  ]
}