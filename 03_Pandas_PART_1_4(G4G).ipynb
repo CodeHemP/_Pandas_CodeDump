{
  "nbformat": 4,
  "nbformat_minor": 0,
  "metadata": {
    "colab": {
      "name": "03_Pandas_PART_1-4(G4G).ipynb",
      "provenance": [],
      "collapsed_sections": [
        "vc1TSfa9j045",
        "uvK-Ge6tjszi"
      ],
      "toc_visible": true,
      "authorship_tag": "ABX9TyO9sKdGPyv1jCVjr9NURaJE",
      "include_colab_link": true
    },
    "kernelspec": {
      "name": "python3",
      "display_name": "Python 3"
    }
  },
  "cells": [
    {
      "cell_type": "markdown",
      "metadata": {
        "id": "view-in-github",
        "colab_type": "text"
      },
      "source": [
        "<a href=\"https://colab.research.google.com/github/mohd-faizy/Lib_Pandas/blob/master/03_Pandas_PART_1_4(G4G).ipynb\" target=\"_parent\"><img src=\"https://colab.research.google.com/assets/colab-badge.svg\" alt=\"Open In Colab\"/></a>"
      ]
    },
    {
      "cell_type": "markdown",
      "metadata": {
        "id": "zBxuEyzc0wbc",
        "colab_type": "text"
      },
      "source": [
        "# __$Pandas$ $G4G$__ __$Part$__ : $1-5$ "
      ]
    },
    {
      "cell_type": "markdown",
      "metadata": {
        "id": "BBdzhyuh0e75",
        "colab_type": "text"
      },
      "source": [
        "### $Index$\n",
        "\n",
        "\n",
        "1.  $Introduction$ $\\checkmark$ \n",
        "2.  $Creating Objects$ $\\checkmark$\n",
        "3.  $Viewing Data$ $\\checkmark$\n",
        "4.  $Selection$ $\\checkmark$\n",
        "5.  Manipulating Data\n",
        "6.  Grouping Data\n",
        "7.  Merging, Joining and Concatenating\n",
        "8.  Working with Date and Time\n",
        "9.  Working With Text Data\n",
        "10. Working with CSV and Excel files\n",
        "11. Operations\n",
        "12. Visualization\n",
        "13. Applications and Projects\n",
        "14. Miscellaneous"
      ]
    },
    {
      "cell_type": "markdown",
      "metadata": {
        "id": "xUsK3lZ171Bv",
        "colab_type": "text"
      },
      "source": [
        "__How to install Pandas?__\n",
        "```\n",
        "pip install pandas\n",
        "```\n",
        "\n"
      ]
    },
    {
      "cell_type": "markdown",
      "metadata": {
        "id": "XJ0s1nc90_ey",
        "colab_type": "text"
      },
      "source": [
        "> $Pandas$  is an __open-source__ library that is built on top of $NumPy$ library.\n",
        "\n",
        "* It is a _Python package_ that offers various _data structures_ and operations for __manipulating numerical data__ and __time series__.\n",
        "\n",
        "* It is mainly popular for importing and analyzing data much easier. Pandas is fast and it has high-performance & productivity for users."
      ]
    },
    {
      "cell_type": "code",
      "metadata": {
        "id": "ZKUsYDBxAlPt",
        "colab_type": "code",
        "colab": {
          "resources": {
            "http://localhost:8080/nbextensions/google.colab/files.js": {
              "data": "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",
              "ok": true,
              "headers": [
                [
                  "content-type",
                  "application/javascript"
                ]
              ],
              "status": 200,
              "status_text": ""
            }
          },
          "base_uri": "https://localhost:8080/",
          "height": 73
        },
        "outputId": "543b98fa-3d19-40f9-b74c-86d37af2267e"
      },
      "source": [
        " from google.colab import files\n",
        "upload_file = files.upload()"
      ],
      "execution_count": null,
      "outputs": [
        {
          "output_type": "display_data",
          "data": {
            "text/html": [
              "\n",
              "     <input type=\"file\" id=\"files-41d2acc1-d3a3-466a-92fc-8d61a1b2f980\" name=\"files[]\" multiple disabled\n",
              "        style=\"border:none\" />\n",
              "     <output id=\"result-41d2acc1-d3a3-466a-92fc-8d61a1b2f980\">\n",
              "      Upload widget is only available when the cell has been executed in the\n",
              "      current browser session. Please rerun this cell to enable.\n",
              "      </output>\n",
              "      <script src=\"/nbextensions/google.colab/files.js\"></script> "
            ],
            "text/plain": [
              "<IPython.core.display.HTML object>"
            ]
          },
          "metadata": {
            "tags": []
          }
        },
        {
          "output_type": "stream",
          "text": [
            "Saving nba.csv to nba.csv\n"
          ],
          "name": "stdout"
        }
      ]
    },
    {
      "cell_type": "markdown",
      "metadata": {
        "id": "LC0y5E9S2d2v",
        "colab_type": "text"
      },
      "source": [
        "## __1. Introduction to Pandas in Python__\n",
        "\n"
      ]
    },
    {
      "cell_type": "markdown",
      "metadata": {
        "id": "MyrIjuAlK4o2",
        "colab_type": "text"
      },
      "source": [
        "__Table of Content__\n",
        "\n",
        "- History\n",
        "- Advantages\n",
        "- Getting Started\n",
        "  - _Series_\n",
        "  - _DataFrame_\n",
        "- Why Pandas is used for __Data Science__"
      ]
    },
    {
      "cell_type": "markdown",
      "metadata": {
        "id": "V7__6qsO3aWn",
        "colab_type": "text"
      },
      "source": [
        "> $\\rightarrow$ Pandas was initially developed by Wes $McKinney$ in 2008.\n"
      ]
    },
    {
      "cell_type": "markdown",
      "metadata": {
        "id": "ApMwO8WG3sxh",
        "colab_type": "text"
      },
      "source": [
        "__Advantages__\n",
        "\n",
        "- __Fast__ and __efficient__ for __manipulating__ and __analyzing data.__\n",
        "- Easy handling of __missing data__ (represented as NaN) in floating point as well as non-floating point data\n",
        "- __Size mutability:__ columns can be inserted and deleted from DataFrame and higher dimensional objects\n",
        "- Data set __Merging__ and __Joining.__\n",
        "- Flexible __Reshaping__ and __Pivoting__ of data sets\n",
        "- Provides __time-series__ functionality.\n",
        "- Powerful `groupby` functionality for performing split-apply-combine operations on data sets."
      ]
    },
    {
      "cell_type": "markdown",
      "metadata": {
        "id": "HD-uYhzq4pul",
        "colab_type": "text"
      },
      "source": [
        "Pandas generally provide two __data structure__ for manipulating data, They are:\n",
        "\n",
        "1.    Series\n",
        "2.    DataFrame\n",
        "\n",
        "\n",
        "\n",
        "\n"
      ]
    },
    {
      "cell_type": "markdown",
      "metadata": {
        "id": "pvP2n2kf48NC",
        "colab_type": "text"
      },
      "source": [
        "### $1-Series$\n",
        "\n",
        "> Pandas Series is a one-dimensional labeled \n",
        "\n",
        "![Series](https://media.geeksforgeeks.org/wp-content/uploads/20200225170506/pandas-series.png)"
      ]
    },
    {
      "cell_type": "code",
      "metadata": {
        "id": "aC-u4_ee47YF",
        "colab_type": "code",
        "colab": {
          "base_uri": "https://localhost:8080/",
          "height": 196
        },
        "outputId": "aabc1edb-0fc0-490d-ca96-e24e184b185c"
      },
      "source": [
        "import pandas as pd \n",
        "import numpy as np \n",
        "\n",
        "\n",
        "# Creating empty series \n",
        "ser = pd.Series() \n",
        "\t\n",
        "print(ser) \n",
        "\n",
        "# simple array \n",
        "data = np.array(['g', 'e', 'e', 'k', 's']) \n",
        "\t\n",
        "ser = pd.Series(data) \n",
        "print(ser) \n"
      ],
      "execution_count": null,
      "outputs": [
        {
          "output_type": "stream",
          "text": [
            "Series([], dtype: float64)\n",
            "0    g\n",
            "1    e\n",
            "2    e\n",
            "3    k\n",
            "4    s\n",
            "dtype: object\n"
          ],
          "name": "stdout"
        },
        {
          "output_type": "stream",
          "text": [
            "/usr/local/lib/python3.6/dist-packages/ipykernel_launcher.py:6: DeprecationWarning: The default dtype for empty Series will be 'object' instead of 'float64' in a future version. Specify a dtype explicitly to silence this warning.\n",
            "  \n"
          ],
          "name": "stderr"
        }
      ]
    },
    {
      "cell_type": "markdown",
      "metadata": {
        "id": "_BfabOi66NB9",
        "colab_type": "text"
      },
      "source": [
        "### $2- DataFrame$\n",
        "\n",
        "> Pandas DataFrame is __two-dimensional__ size-mutable, potentially heterogeneous tabular data structure with labeled axes (rows and columns)."
      ]
    },
    {
      "cell_type": "markdown",
      "metadata": {
        "id": "Rey85Wkx6dvz",
        "colab_type": "text"
      },
      "source": [
        "![DataFrame](https://media.geeksforgeeks.org/wp-content/uploads/20200225170602/pandas-dataframe.png)"
      ]
    },
    {
      "cell_type": "code",
      "metadata": {
        "id": "SHEKD8-ry2aq",
        "colab_type": "code",
        "colab": {
          "base_uri": "https://localhost:8080/",
          "height": 212
        },
        "outputId": "d9e3cf07-630d-4d15-a82b-1d4c0af44692"
      },
      "source": [
        "import pandas as pd \n",
        "\t\n",
        "# Calling DataFrame constructor \n",
        "df = pd.DataFrame() \n",
        "print(df) \n",
        "\n",
        "# list of strings \n",
        "lst = ['Geeks', 'For', 'Geeks', 'is', \n",
        "\t\t\t'portal', 'for', 'Geeks'] \n",
        "\t\n",
        "# Calling DataFrame constructor on list \n",
        "df = pd.DataFrame(lst) \n",
        "print(df) \n"
      ],
      "execution_count": null,
      "outputs": [
        {
          "output_type": "stream",
          "text": [
            "Empty DataFrame\n",
            "Columns: []\n",
            "Index: []\n",
            "        0\n",
            "0   Geeks\n",
            "1     For\n",
            "2   Geeks\n",
            "3      is\n",
            "4  portal\n",
            "5     for\n",
            "6   Geeks\n"
          ],
          "name": "stdout"
        }
      ]
    },
    {
      "cell_type": "markdown",
      "metadata": {
        "id": "Hq5NckMr661H",
        "colab_type": "text"
      },
      "source": [
        "__Why Pandas is used for Data Science?__\n",
        "\n",
        "$Pandas$ is used in conjunction with other libraries that are used for data science. It is built _on the top_ of the $NumPy$ library which means that a lot of structures of NumPy are used or replicated in Pandas.\n",
        "\n",
        "The data produced by Pandas is often used as input for __plotting__ functions of $Matplotlib$, __statistical__ analysis in $SciPy$, machine learning algorithm in $Scikit-learn$.\n",
        "**bold text**"
      ]
    },
    {
      "cell_type": "markdown",
      "metadata": {
        "id": "dyMS39KR7ooy",
        "colab_type": "text"
      },
      "source": [
        "## __2. Creating Objects__\n",
        "\n"
      ]
    },
    {
      "cell_type": "markdown",
      "metadata": {
        "id": "kxYfAv-zSr_a",
        "colab_type": "text"
      },
      "source": [
        "### __a. Python | Pandas__  $DataFrame$"
      ]
    },
    {
      "cell_type": "markdown",
      "metadata": {
        "id": "c2nPSKcmSqac",
        "colab_type": "text"
      },
      "source": [
        "1. _Creating a DataFrame_\n",
        "2. _Dealing with Rows and Columns_\n",
        "3. _Indexing and Selecting Data_\n",
        "4. _Working with Missing Data_\n",
        "5. _Iterating over rows and columns_"
      ]
    },
    {
      "cell_type": "code",
      "metadata": {
        "id": "7lMLCm_NUMcy",
        "colab_type": "code",
        "colab": {
          "base_uri": "https://localhost:8080/",
          "height": 70
        },
        "outputId": "e92e3930-41a2-4647-8dee-f4db5a2d3db9"
      },
      "source": [
        "# import pandas as pd \n",
        "import pandas as pd \n",
        "  \n",
        "# Calling DataFrame constructor \n",
        "df = pd.DataFrame() \n",
        "  \n",
        "print(df) "
      ],
      "execution_count": null,
      "outputs": [
        {
          "output_type": "stream",
          "text": [
            "Empty DataFrame\n",
            "Columns: []\n",
            "Index: []\n"
          ],
          "name": "stdout"
        }
      ]
    },
    {
      "cell_type": "markdown",
      "metadata": {
        "id": "k6-ZZi3H9Sgf",
        "colab_type": "text"
      },
      "source": [
        "#### __1. Creating a dataframe using List:__"
      ]
    },
    {
      "cell_type": "code",
      "metadata": {
        "id": "Vt0zd2pu7oBt",
        "colab_type": "code",
        "colab": {
          "base_uri": "https://localhost:8080/",
          "height": 257
        },
        "outputId": "092ed311-021b-4da8-ef5a-c6210929b296"
      },
      "source": [
        "# import pandas as pd\n",
        "import pandas as pd\n",
        " \n",
        "# list of strings\n",
        "lst = ['Geeks', 'For', 'Geeks', 'is', \n",
        "            'portal', 'for', 'Geeks']\n",
        " \n",
        "# Calling DataFrame constructor on list\n",
        "df = pd.DataFrame(lst)\n",
        "df"
      ],
      "execution_count": null,
      "outputs": [
        {
          "output_type": "execute_result",
          "data": {
            "text/html": [
              "<div>\n",
              "<style scoped>\n",
              "    .dataframe tbody tr th:only-of-type {\n",
              "        vertical-align: middle;\n",
              "    }\n",
              "\n",
              "    .dataframe tbody tr th {\n",
              "        vertical-align: top;\n",
              "    }\n",
              "\n",
              "    .dataframe thead th {\n",
              "        text-align: right;\n",
              "    }\n",
              "</style>\n",
              "<table border=\"1\" class=\"dataframe\">\n",
              "  <thead>\n",
              "    <tr style=\"text-align: right;\">\n",
              "      <th></th>\n",
              "      <th>0</th>\n",
              "    </tr>\n",
              "  </thead>\n",
              "  <tbody>\n",
              "    <tr>\n",
              "      <th>0</th>\n",
              "      <td>Geeks</td>\n",
              "    </tr>\n",
              "    <tr>\n",
              "      <th>1</th>\n",
              "      <td>For</td>\n",
              "    </tr>\n",
              "    <tr>\n",
              "      <th>2</th>\n",
              "      <td>Geeks</td>\n",
              "    </tr>\n",
              "    <tr>\n",
              "      <th>3</th>\n",
              "      <td>is</td>\n",
              "    </tr>\n",
              "    <tr>\n",
              "      <th>4</th>\n",
              "      <td>portal</td>\n",
              "    </tr>\n",
              "    <tr>\n",
              "      <th>5</th>\n",
              "      <td>for</td>\n",
              "    </tr>\n",
              "    <tr>\n",
              "      <th>6</th>\n",
              "      <td>Geeks</td>\n",
              "    </tr>\n",
              "  </tbody>\n",
              "</table>\n",
              "</div>"
            ],
            "text/plain": [
              "        0\n",
              "0   Geeks\n",
              "1     For\n",
              "2   Geeks\n",
              "3      is\n",
              "4  portal\n",
              "5     for\n",
              "6   Geeks"
            ]
          },
          "metadata": {
            "tags": []
          },
          "execution_count": 8
        }
      ]
    },
    {
      "cell_type": "markdown",
      "metadata": {
        "id": "xoR7XB809Yky",
        "colab_type": "text"
      },
      "source": [
        "$\\rightarrow$ Creating DataFrame from dict of ndarray/lists:"
      ]
    },
    {
      "cell_type": "code",
      "metadata": {
        "id": "_C4Pew9v9VBC",
        "colab_type": "code",
        "colab": {
          "base_uri": "https://localhost:8080/",
          "height": 167
        },
        "outputId": "1ad29ca3-cadb-4098-caa1-13f62a589eb4"
      },
      "source": [
        "# Python code demonstrate creating \n",
        "# DataFrame from dict narray / lists \n",
        "# By default addresses.\n",
        " \n",
        "import pandas as pd\n",
        " \n",
        "# intialise data of lists.\n",
        "data = {'Name':['Tom', 'nick', 'krish', 'jack'],\n",
        "        'Age':[20, 21, 19, 18]}\n",
        " \n",
        "# Create DataFrame\n",
        "df = pd.DataFrame(data)\n",
        " \n",
        "# Print the output.\n",
        "df"
      ],
      "execution_count": null,
      "outputs": [
        {
          "output_type": "execute_result",
          "data": {
            "text/html": [
              "<div>\n",
              "<style scoped>\n",
              "    .dataframe tbody tr th:only-of-type {\n",
              "        vertical-align: middle;\n",
              "    }\n",
              "\n",
              "    .dataframe tbody tr th {\n",
              "        vertical-align: top;\n",
              "    }\n",
              "\n",
              "    .dataframe thead th {\n",
              "        text-align: right;\n",
              "    }\n",
              "</style>\n",
              "<table border=\"1\" class=\"dataframe\">\n",
              "  <thead>\n",
              "    <tr style=\"text-align: right;\">\n",
              "      <th></th>\n",
              "      <th>Name</th>\n",
              "      <th>Age</th>\n",
              "    </tr>\n",
              "  </thead>\n",
              "  <tbody>\n",
              "    <tr>\n",
              "      <th>0</th>\n",
              "      <td>Tom</td>\n",
              "      <td>20</td>\n",
              "    </tr>\n",
              "    <tr>\n",
              "      <th>1</th>\n",
              "      <td>nick</td>\n",
              "      <td>21</td>\n",
              "    </tr>\n",
              "    <tr>\n",
              "      <th>2</th>\n",
              "      <td>krish</td>\n",
              "      <td>19</td>\n",
              "    </tr>\n",
              "    <tr>\n",
              "      <th>3</th>\n",
              "      <td>jack</td>\n",
              "      <td>18</td>\n",
              "    </tr>\n",
              "  </tbody>\n",
              "</table>\n",
              "</div>"
            ],
            "text/plain": [
              "    Name  Age\n",
              "0    Tom   20\n",
              "1   nick   21\n",
              "2  krish   19\n",
              "3   jack   18"
            ]
          },
          "metadata": {
            "tags": []
          },
          "execution_count": 7
        }
      ]
    },
    {
      "cell_type": "markdown",
      "metadata": {
        "id": "ub81VfIU94BA",
        "colab_type": "text"
      },
      "source": [
        "#### __2. Dealing with Rows and Columns:__\n",
        "\n"
      ]
    },
    {
      "cell_type": "markdown",
      "metadata": {
        "id": "GKB-W2GA9_fg",
        "colab_type": "text"
      },
      "source": [
        "a) Column Selection:"
      ]
    },
    {
      "cell_type": "code",
      "metadata": {
        "id": "D2h641849qvf",
        "colab_type": "code",
        "colab": {
          "base_uri": "https://localhost:8080/",
          "height": 167
        },
        "outputId": "6d28a9b4-f88b-4bc8-f702-b2e34096453f"
      },
      "source": [
        "# Import pandas package\n",
        "import pandas as pd\n",
        " \n",
        "# Define a dictionary containing employee data\n",
        "data = {'Name':['Jai', 'Princi', 'Gaurav', 'Anuj'],\n",
        "        'Age':[27, 24, 22, 32],\n",
        "        'Address':['Delhi', 'Kanpur', 'Allahabad', 'Kannauj'],\n",
        "        'Qualification':['Msc', 'MA', 'MCA', 'Phd']}\n",
        " \n",
        "# Convert the dictionary into DataFrame \n",
        "df = pd.DataFrame(data)\n",
        " \n",
        "# select two columns\n",
        "df[['Name', 'Qualification']]"
      ],
      "execution_count": null,
      "outputs": [
        {
          "output_type": "execute_result",
          "data": {
            "text/html": [
              "<div>\n",
              "<style scoped>\n",
              "    .dataframe tbody tr th:only-of-type {\n",
              "        vertical-align: middle;\n",
              "    }\n",
              "\n",
              "    .dataframe tbody tr th {\n",
              "        vertical-align: top;\n",
              "    }\n",
              "\n",
              "    .dataframe thead th {\n",
              "        text-align: right;\n",
              "    }\n",
              "</style>\n",
              "<table border=\"1\" class=\"dataframe\">\n",
              "  <thead>\n",
              "    <tr style=\"text-align: right;\">\n",
              "      <th></th>\n",
              "      <th>Name</th>\n",
              "      <th>Qualification</th>\n",
              "    </tr>\n",
              "  </thead>\n",
              "  <tbody>\n",
              "    <tr>\n",
              "      <th>0</th>\n",
              "      <td>Jai</td>\n",
              "      <td>Msc</td>\n",
              "    </tr>\n",
              "    <tr>\n",
              "      <th>1</th>\n",
              "      <td>Princi</td>\n",
              "      <td>MA</td>\n",
              "    </tr>\n",
              "    <tr>\n",
              "      <th>2</th>\n",
              "      <td>Gaurav</td>\n",
              "      <td>MCA</td>\n",
              "    </tr>\n",
              "    <tr>\n",
              "      <th>3</th>\n",
              "      <td>Anuj</td>\n",
              "      <td>Phd</td>\n",
              "    </tr>\n",
              "  </tbody>\n",
              "</table>\n",
              "</div>"
            ],
            "text/plain": [
              "     Name Qualification\n",
              "0     Jai           Msc\n",
              "1  Princi            MA\n",
              "2  Gaurav           MCA\n",
              "3    Anuj           Phd"
            ]
          },
          "metadata": {
            "tags": []
          },
          "execution_count": 9
        }
      ]
    },
    {
      "cell_type": "markdown",
      "metadata": {
        "id": "vQA0gpSC-SQp",
        "colab_type": "text"
      },
      "source": [
        "b) Row Selection:"
      ]
    },
    {
      "cell_type": "code",
      "metadata": {
        "id": "Aa0Eyp8V-Nv8",
        "colab_type": "code",
        "colab": {
          "base_uri": "https://localhost:8080/",
          "height": 372
        },
        "outputId": "60f394a6-bd2f-4b12-a563-55940a26285f"
      },
      "source": [
        "# importing pandas package\n",
        "import pandas as pd\n",
        " \n",
        "# making data frame from csv file\n",
        "data = pd.read_csv(\"/content/nba.csv\", index_col =\"Name\")\n",
        " \n",
        "# retrieving row by loc method\n",
        "first = data.loc[\"Avery Bradley\"]\n",
        "second = data.loc[\"R.J. Hunter\"]\n",
        " \n",
        " \n",
        "print(first, \"\\n\\n\\n\", second)"
      ],
      "execution_count": null,
      "outputs": [
        {
          "output_type": "stream",
          "text": [
            "Team        Boston Celtics\n",
            "Number                   0\n",
            "Position                PG\n",
            "Age                     25\n",
            "Height                 6-2\n",
            "Weight                 180\n",
            "College              Texas\n",
            "Salary         7.73034e+06\n",
            "Name: Avery Bradley, dtype: object \n",
            "\n",
            "\n",
            " Team        Boston Celtics\n",
            "Number                  28\n",
            "Position                SG\n",
            "Age                     22\n",
            "Height                 6-5\n",
            "Weight                 185\n",
            "College      Georgia State\n",
            "Salary         1.14864e+06\n",
            "Name: R.J. Hunter, dtype: object\n"
          ],
          "name": "stdout"
        }
      ]
    },
    {
      "cell_type": "markdown",
      "metadata": {
        "id": "Ww8ADbu4A71V",
        "colab_type": "text"
      },
      "source": [
        "#### __3. Indexing and Selecting Data__"
      ]
    },
    {
      "cell_type": "code",
      "metadata": {
        "id": "yMtUZqaeA4Ic",
        "colab_type": "code",
        "colab": {
          "base_uri": "https://localhost:8080/",
          "height": 247
        },
        "outputId": "52c216ac-eb4b-4b5d-f216-09aac0a20db0"
      },
      "source": [
        "# importing pandas package\n",
        "import pandas as pd\n",
        " \n",
        "# making data frame from csv file\n",
        "data = pd.read_csv(\"/content/nba.csv\", index_col =\"Name\")\n",
        " \n",
        "# retrieving columns by indexing operator\n",
        "first = data[\"Age\"]\n",
        "first"
      ],
      "execution_count": null,
      "outputs": [
        {
          "output_type": "execute_result",
          "data": {
            "text/plain": [
              "Name\n",
              "Avery Bradley    25.0\n",
              "Jae Crowder      25.0\n",
              "John Holland     27.0\n",
              "R.J. Hunter      22.0\n",
              "Jonas Jerebko    29.0\n",
              "                 ... \n",
              "Shelvin Mack     26.0\n",
              "Raul Neto        24.0\n",
              "Tibor Pleiss     26.0\n",
              "Jeff Withey      26.0\n",
              "NaN               NaN\n",
              "Name: Age, Length: 458, dtype: float64"
            ]
          },
          "metadata": {
            "tags": []
          },
          "execution_count": 23
        }
      ]
    },
    {
      "cell_type": "code",
      "metadata": {
        "id": "higMg-NHBaRS",
        "colab_type": "code",
        "colab": {
          "base_uri": "https://localhost:8080/",
          "height": 603
        },
        "outputId": "665f7c21-8ea3-4c04-c1a6-7133302c4827"
      },
      "source": [
        "data.head(-5) #Compleat DataFrame "
      ],
      "execution_count": null,
      "outputs": [
        {
          "output_type": "execute_result",
          "data": {
            "text/html": [
              "<div>\n",
              "<style scoped>\n",
              "    .dataframe tbody tr th:only-of-type {\n",
              "        vertical-align: middle;\n",
              "    }\n",
              "\n",
              "    .dataframe tbody tr th {\n",
              "        vertical-align: top;\n",
              "    }\n",
              "\n",
              "    .dataframe thead th {\n",
              "        text-align: right;\n",
              "    }\n",
              "</style>\n",
              "<table border=\"1\" class=\"dataframe\">\n",
              "  <thead>\n",
              "    <tr style=\"text-align: right;\">\n",
              "      <th></th>\n",
              "      <th>Team</th>\n",
              "      <th>Number</th>\n",
              "      <th>Position</th>\n",
              "      <th>Age</th>\n",
              "      <th>Height</th>\n",
              "      <th>Weight</th>\n",
              "      <th>College</th>\n",
              "      <th>Salary</th>\n",
              "    </tr>\n",
              "    <tr>\n",
              "      <th>Name</th>\n",
              "      <th></th>\n",
              "      <th></th>\n",
              "      <th></th>\n",
              "      <th></th>\n",
              "      <th></th>\n",
              "      <th></th>\n",
              "      <th></th>\n",
              "      <th></th>\n",
              "    </tr>\n",
              "  </thead>\n",
              "  <tbody>\n",
              "    <tr>\n",
              "      <th>Avery Bradley</th>\n",
              "      <td>Boston Celtics</td>\n",
              "      <td>0.0</td>\n",
              "      <td>PG</td>\n",
              "      <td>25.0</td>\n",
              "      <td>6-2</td>\n",
              "      <td>180.0</td>\n",
              "      <td>Texas</td>\n",
              "      <td>7730337.0</td>\n",
              "    </tr>\n",
              "    <tr>\n",
              "      <th>Jae Crowder</th>\n",
              "      <td>Boston Celtics</td>\n",
              "      <td>99.0</td>\n",
              "      <td>SF</td>\n",
              "      <td>25.0</td>\n",
              "      <td>6-6</td>\n",
              "      <td>235.0</td>\n",
              "      <td>Marquette</td>\n",
              "      <td>6796117.0</td>\n",
              "    </tr>\n",
              "    <tr>\n",
              "      <th>John Holland</th>\n",
              "      <td>Boston Celtics</td>\n",
              "      <td>30.0</td>\n",
              "      <td>SG</td>\n",
              "      <td>27.0</td>\n",
              "      <td>6-5</td>\n",
              "      <td>205.0</td>\n",
              "      <td>Boston University</td>\n",
              "      <td>NaN</td>\n",
              "    </tr>\n",
              "    <tr>\n",
              "      <th>R.J. Hunter</th>\n",
              "      <td>Boston Celtics</td>\n",
              "      <td>28.0</td>\n",
              "      <td>SG</td>\n",
              "      <td>22.0</td>\n",
              "      <td>6-5</td>\n",
              "      <td>185.0</td>\n",
              "      <td>Georgia State</td>\n",
              "      <td>1148640.0</td>\n",
              "    </tr>\n",
              "    <tr>\n",
              "      <th>Jonas Jerebko</th>\n",
              "      <td>Boston Celtics</td>\n",
              "      <td>8.0</td>\n",
              "      <td>PF</td>\n",
              "      <td>29.0</td>\n",
              "      <td>6-10</td>\n",
              "      <td>231.0</td>\n",
              "      <td>NaN</td>\n",
              "      <td>5000000.0</td>\n",
              "    </tr>\n",
              "    <tr>\n",
              "      <th>...</th>\n",
              "      <td>...</td>\n",
              "      <td>...</td>\n",
              "      <td>...</td>\n",
              "      <td>...</td>\n",
              "      <td>...</td>\n",
              "      <td>...</td>\n",
              "      <td>...</td>\n",
              "      <td>...</td>\n",
              "    </tr>\n",
              "    <tr>\n",
              "      <th>Gordon Hayward</th>\n",
              "      <td>Utah Jazz</td>\n",
              "      <td>20.0</td>\n",
              "      <td>SF</td>\n",
              "      <td>26.0</td>\n",
              "      <td>6-8</td>\n",
              "      <td>226.0</td>\n",
              "      <td>Butler</td>\n",
              "      <td>15409570.0</td>\n",
              "    </tr>\n",
              "    <tr>\n",
              "      <th>Rodney Hood</th>\n",
              "      <td>Utah Jazz</td>\n",
              "      <td>5.0</td>\n",
              "      <td>SG</td>\n",
              "      <td>23.0</td>\n",
              "      <td>6-8</td>\n",
              "      <td>206.0</td>\n",
              "      <td>Duke</td>\n",
              "      <td>1348440.0</td>\n",
              "    </tr>\n",
              "    <tr>\n",
              "      <th>Joe Ingles</th>\n",
              "      <td>Utah Jazz</td>\n",
              "      <td>2.0</td>\n",
              "      <td>SF</td>\n",
              "      <td>28.0</td>\n",
              "      <td>6-8</td>\n",
              "      <td>226.0</td>\n",
              "      <td>NaN</td>\n",
              "      <td>2050000.0</td>\n",
              "    </tr>\n",
              "    <tr>\n",
              "      <th>Chris Johnson</th>\n",
              "      <td>Utah Jazz</td>\n",
              "      <td>23.0</td>\n",
              "      <td>SF</td>\n",
              "      <td>26.0</td>\n",
              "      <td>6-6</td>\n",
              "      <td>206.0</td>\n",
              "      <td>Dayton</td>\n",
              "      <td>981348.0</td>\n",
              "    </tr>\n",
              "    <tr>\n",
              "      <th>Trey Lyles</th>\n",
              "      <td>Utah Jazz</td>\n",
              "      <td>41.0</td>\n",
              "      <td>PF</td>\n",
              "      <td>20.0</td>\n",
              "      <td>6-10</td>\n",
              "      <td>234.0</td>\n",
              "      <td>Kentucky</td>\n",
              "      <td>2239800.0</td>\n",
              "    </tr>\n",
              "  </tbody>\n",
              "</table>\n",
              "<p>453 rows × 8 columns</p>\n",
              "</div>"
            ],
            "text/plain": [
              "                          Team  Number  ...            College      Salary\n",
              "Name                                    ...                               \n",
              "Avery Bradley   Boston Celtics     0.0  ...              Texas   7730337.0\n",
              "Jae Crowder     Boston Celtics    99.0  ...          Marquette   6796117.0\n",
              "John Holland    Boston Celtics    30.0  ...  Boston University         NaN\n",
              "R.J. Hunter     Boston Celtics    28.0  ...      Georgia State   1148640.0\n",
              "Jonas Jerebko   Boston Celtics     8.0  ...                NaN   5000000.0\n",
              "...                        ...     ...  ...                ...         ...\n",
              "Gordon Hayward       Utah Jazz    20.0  ...             Butler  15409570.0\n",
              "Rodney Hood          Utah Jazz     5.0  ...               Duke   1348440.0\n",
              "Joe Ingles           Utah Jazz     2.0  ...                NaN   2050000.0\n",
              "Chris Johnson        Utah Jazz    23.0  ...             Dayton    981348.0\n",
              "Trey Lyles           Utah Jazz    41.0  ...           Kentucky   2239800.0\n",
              "\n",
              "[453 rows x 8 columns]"
            ]
          },
          "metadata": {
            "tags": []
          },
          "execution_count": 26
        }
      ]
    },
    {
      "cell_type": "markdown",
      "metadata": {
        "id": "rDdaORT5CIYT",
        "colab_type": "text"
      },
      "source": [
        "Indexing a DataFrame using __`.loc[ ]` :__"
      ]
    },
    {
      "cell_type": "code",
      "metadata": {
        "id": "Sekoj3OeCH9F",
        "colab_type": "code",
        "colab": {
          "base_uri": "https://localhost:8080/",
          "height": 372
        },
        "outputId": "ab946d04-575a-466f-ad5a-c79f3ed3f019"
      },
      "source": [
        "# importing pandas package\n",
        "import pandas as pd\n",
        " \n",
        "# making data frame from csv file\n",
        "data = pd.read_csv(\"/content/nba.csv\", index_col =\"Name\")\n",
        " \n",
        "# retrieving row by loc method\n",
        "first = data.loc[\"Avery Bradley\"]\n",
        "second = data.loc[\"R.J. Hunter\"]\n",
        " \n",
        " \n",
        "print(first, \"\\n\\n\\n\", second)"
      ],
      "execution_count": null,
      "outputs": [
        {
          "output_type": "stream",
          "text": [
            "Team        Boston Celtics\n",
            "Number                   0\n",
            "Position                PG\n",
            "Age                     25\n",
            "Height                 6-2\n",
            "Weight                 180\n",
            "College              Texas\n",
            "Salary         7.73034e+06\n",
            "Name: Avery Bradley, dtype: object \n",
            "\n",
            "\n",
            " Team        Boston Celtics\n",
            "Number                  28\n",
            "Position                SG\n",
            "Age                     22\n",
            "Height                 6-5\n",
            "Weight                 185\n",
            "College      Georgia State\n",
            "Salary         1.14864e+06\n",
            "Name: R.J. Hunter, dtype: object\n"
          ],
          "name": "stdout"
        }
      ]
    },
    {
      "cell_type": "markdown",
      "metadata": {
        "id": "ulTz1XH3DA5M",
        "colab_type": "text"
      },
      "source": [
        "Indexing a DataFrame using __`.iloc[ ]`:__"
      ]
    },
    {
      "cell_type": "code",
      "metadata": {
        "id": "SzlDf1VfDAnf",
        "colab_type": "code",
        "colab": {
          "base_uri": "https://localhost:8080/",
          "height": 176
        },
        "outputId": "f6474eef-a264-4492-d0d2-63cb1c2d2b7f"
      },
      "source": [
        "import pandas as pd\n",
        " \n",
        "# making data frame from csv file\n",
        "data = pd.read_csv(\"/content/nba.csv\", index_col =\"Name\")\n",
        " \n",
        " \n",
        "# retrieving rows by iloc method \n",
        "row2 = data.iloc[3] \n",
        "print(row2)"
      ],
      "execution_count": null,
      "outputs": [
        {
          "output_type": "stream",
          "text": [
            "Team        Boston Celtics\n",
            "Number                  28\n",
            "Position                SG\n",
            "Age                     22\n",
            "Height                 6-5\n",
            "Weight                 185\n",
            "College      Georgia State\n",
            "Salary         1.14864e+06\n",
            "Name: R.J. Hunter, dtype: object\n"
          ],
          "name": "stdout"
        }
      ]
    },
    {
      "cell_type": "markdown",
      "metadata": {
        "id": "LWYDusnjE4yM",
        "colab_type": "text"
      },
      "source": [
        "#### __4. Working with Missing Data__"
      ]
    },
    {
      "cell_type": "markdown",
      "metadata": {
        "id": "lk0ZpVcjGbl9",
        "colab_type": "text"
      },
      "source": [
        "Checking for __missing values__ using:\n",
        "\n",
        "-  `isnull()` \n",
        "-  `notnull()` "
      ]
    },
    {
      "cell_type": "code",
      "metadata": {
        "id": "OTdiMiZ3E4XI",
        "colab_type": "code",
        "colab": {
          "base_uri": "https://localhost:8080/",
          "height": 167
        },
        "outputId": "3280f2fe-cfe7-478b-e99e-16d9324ec144"
      },
      "source": [
        "# importing pandas as pd\n",
        "import pandas as pd\n",
        " \n",
        "# importing numpy as np\n",
        "import numpy as np\n",
        " \n",
        "# dictionary of lists\n",
        "dict = {'First Score':[100, 90, np.nan, 95],\n",
        "        'Second Score': [30, 45, 56, np.nan],\n",
        "        'Third Score':[np.nan, 40, 80, 98]}\n",
        " \n",
        "# creating a dataframe from list\n",
        "df = pd.DataFrame(dict)\n",
        " \n",
        "# using isnull() function  \n",
        "df.isnull()"
      ],
      "execution_count": null,
      "outputs": [
        {
          "output_type": "execute_result",
          "data": {
            "text/html": [
              "<div>\n",
              "<style scoped>\n",
              "    .dataframe tbody tr th:only-of-type {\n",
              "        vertical-align: middle;\n",
              "    }\n",
              "\n",
              "    .dataframe tbody tr th {\n",
              "        vertical-align: top;\n",
              "    }\n",
              "\n",
              "    .dataframe thead th {\n",
              "        text-align: right;\n",
              "    }\n",
              "</style>\n",
              "<table border=\"1\" class=\"dataframe\">\n",
              "  <thead>\n",
              "    <tr style=\"text-align: right;\">\n",
              "      <th></th>\n",
              "      <th>First Score</th>\n",
              "      <th>Second Score</th>\n",
              "      <th>Third Score</th>\n",
              "    </tr>\n",
              "  </thead>\n",
              "  <tbody>\n",
              "    <tr>\n",
              "      <th>0</th>\n",
              "      <td>False</td>\n",
              "      <td>False</td>\n",
              "      <td>True</td>\n",
              "    </tr>\n",
              "    <tr>\n",
              "      <th>1</th>\n",
              "      <td>False</td>\n",
              "      <td>False</td>\n",
              "      <td>False</td>\n",
              "    </tr>\n",
              "    <tr>\n",
              "      <th>2</th>\n",
              "      <td>True</td>\n",
              "      <td>False</td>\n",
              "      <td>False</td>\n",
              "    </tr>\n",
              "    <tr>\n",
              "      <th>3</th>\n",
              "      <td>False</td>\n",
              "      <td>True</td>\n",
              "      <td>False</td>\n",
              "    </tr>\n",
              "  </tbody>\n",
              "</table>\n",
              "</div>"
            ],
            "text/plain": [
              "   First Score  Second Score  Third Score\n",
              "0        False         False         True\n",
              "1        False         False        False\n",
              "2         True         False        False\n",
              "3        False          True        False"
            ]
          },
          "metadata": {
            "tags": []
          },
          "execution_count": 30
        }
      ]
    },
    {
      "cell_type": "markdown",
      "metadata": {
        "id": "kHtUcWitGxbU",
        "colab_type": "text"
      },
      "source": [
        "Filling __Missing values__ using:\n",
        "\n",
        "- `fillna()`\n",
        "- `replace()`  \n",
        "- `interpolate()`"
      ]
    },
    {
      "cell_type": "code",
      "metadata": {
        "id": "yfd1_h5-D6l4",
        "colab_type": "code",
        "colab": {
          "base_uri": "https://localhost:8080/",
          "height": 167
        },
        "outputId": "d9d9c305-1159-4fa0-9f30-aa695f835d22"
      },
      "source": [
        "# importing pandas as pd\n",
        "import pandas as pd\n",
        " \n",
        "# importing numpy as np\n",
        "import numpy as np\n",
        " \n",
        "# dictionary of lists\n",
        "dict = {'First Score':[100, 90, np.nan, 95],\n",
        "        'Second Score': [30, 45, 56, np.nan],\n",
        "        'Third Score':[np.nan, 40, 80, 98]}\n",
        " \n",
        "# creating a dataframe from dictionary\n",
        "df = pd.DataFrame(dict)\n",
        " \n",
        "# filling missing value using fillna()  \n",
        "df.fillna(0)"
      ],
      "execution_count": null,
      "outputs": [
        {
          "output_type": "execute_result",
          "data": {
            "text/html": [
              "<div>\n",
              "<style scoped>\n",
              "    .dataframe tbody tr th:only-of-type {\n",
              "        vertical-align: middle;\n",
              "    }\n",
              "\n",
              "    .dataframe tbody tr th {\n",
              "        vertical-align: top;\n",
              "    }\n",
              "\n",
              "    .dataframe thead th {\n",
              "        text-align: right;\n",
              "    }\n",
              "</style>\n",
              "<table border=\"1\" class=\"dataframe\">\n",
              "  <thead>\n",
              "    <tr style=\"text-align: right;\">\n",
              "      <th></th>\n",
              "      <th>First Score</th>\n",
              "      <th>Second Score</th>\n",
              "      <th>Third Score</th>\n",
              "    </tr>\n",
              "  </thead>\n",
              "  <tbody>\n",
              "    <tr>\n",
              "      <th>0</th>\n",
              "      <td>100.0</td>\n",
              "      <td>30.0</td>\n",
              "      <td>0.0</td>\n",
              "    </tr>\n",
              "    <tr>\n",
              "      <th>1</th>\n",
              "      <td>90.0</td>\n",
              "      <td>45.0</td>\n",
              "      <td>40.0</td>\n",
              "    </tr>\n",
              "    <tr>\n",
              "      <th>2</th>\n",
              "      <td>0.0</td>\n",
              "      <td>56.0</td>\n",
              "      <td>80.0</td>\n",
              "    </tr>\n",
              "    <tr>\n",
              "      <th>3</th>\n",
              "      <td>95.0</td>\n",
              "      <td>0.0</td>\n",
              "      <td>98.0</td>\n",
              "    </tr>\n",
              "  </tbody>\n",
              "</table>\n",
              "</div>"
            ],
            "text/plain": [
              "   First Score  Second Score  Third Score\n",
              "0        100.0          30.0          0.0\n",
              "1         90.0          45.0         40.0\n",
              "2          0.0          56.0         80.0\n",
              "3         95.0           0.0         98.0"
            ]
          },
          "metadata": {
            "tags": []
          },
          "execution_count": 31
        }
      ]
    },
    {
      "cell_type": "markdown",
      "metadata": {
        "id": "lVLeeN6qHMKv",
        "colab_type": "text"
      },
      "source": [
        "__Dropping__ missing values using `dropna()`:"
      ]
    },
    {
      "cell_type": "code",
      "metadata": {
        "id": "KVjPynIdHt5b",
        "colab_type": "code",
        "colab": {
          "base_uri": "https://localhost:8080/",
          "height": 167
        },
        "outputId": "16752a20-c021-4d1a-948f-d7ce3afcad68"
      },
      "source": [
        "# importing pandas as pd\n",
        "import pandas as pd\n",
        " \n",
        "# importing numpy as np\n",
        "import numpy as np\n",
        " \n",
        "# dictionary of lists\n",
        "dict = {'First Score':[100, 90, np.nan, 95],\n",
        "        'Second Score': [30, np.nan, 45, 56],\n",
        "        'Third Score':[52, 40, 80, 98],\n",
        "        'Fourth Score':[np.nan, np.nan, np.nan, 65]}\n",
        " \n",
        "# creating a dataframe from dictionary\n",
        "df = pd.DataFrame(dict)\n",
        "df"
      ],
      "execution_count": null,
      "outputs": [
        {
          "output_type": "execute_result",
          "data": {
            "text/html": [
              "<div>\n",
              "<style scoped>\n",
              "    .dataframe tbody tr th:only-of-type {\n",
              "        vertical-align: middle;\n",
              "    }\n",
              "\n",
              "    .dataframe tbody tr th {\n",
              "        vertical-align: top;\n",
              "    }\n",
              "\n",
              "    .dataframe thead th {\n",
              "        text-align: right;\n",
              "    }\n",
              "</style>\n",
              "<table border=\"1\" class=\"dataframe\">\n",
              "  <thead>\n",
              "    <tr style=\"text-align: right;\">\n",
              "      <th></th>\n",
              "      <th>First Score</th>\n",
              "      <th>Second Score</th>\n",
              "      <th>Third Score</th>\n",
              "      <th>Fourth Score</th>\n",
              "    </tr>\n",
              "  </thead>\n",
              "  <tbody>\n",
              "    <tr>\n",
              "      <th>0</th>\n",
              "      <td>100.0</td>\n",
              "      <td>30.0</td>\n",
              "      <td>52</td>\n",
              "      <td>NaN</td>\n",
              "    </tr>\n",
              "    <tr>\n",
              "      <th>1</th>\n",
              "      <td>90.0</td>\n",
              "      <td>NaN</td>\n",
              "      <td>40</td>\n",
              "      <td>NaN</td>\n",
              "    </tr>\n",
              "    <tr>\n",
              "      <th>2</th>\n",
              "      <td>NaN</td>\n",
              "      <td>45.0</td>\n",
              "      <td>80</td>\n",
              "      <td>NaN</td>\n",
              "    </tr>\n",
              "    <tr>\n",
              "      <th>3</th>\n",
              "      <td>95.0</td>\n",
              "      <td>56.0</td>\n",
              "      <td>98</td>\n",
              "      <td>65.0</td>\n",
              "    </tr>\n",
              "  </tbody>\n",
              "</table>\n",
              "</div>"
            ],
            "text/plain": [
              "   First Score  Second Score  Third Score  Fourth Score\n",
              "0        100.0          30.0           52           NaN\n",
              "1         90.0           NaN           40           NaN\n",
              "2          NaN          45.0           80           NaN\n",
              "3         95.0          56.0           98          65.0"
            ]
          },
          "metadata": {
            "tags": []
          },
          "execution_count": 32
        }
      ]
    },
    {
      "cell_type": "code",
      "metadata": {
        "id": "ScDg4OFmH55d",
        "colab_type": "code",
        "colab": {
          "base_uri": "https://localhost:8080/",
          "height": 77
        },
        "outputId": "fb77794d-4d0e-4f58-a245-571b1197b7b0"
      },
      "source": [
        " # using dropna() function  \n",
        "df.dropna()"
      ],
      "execution_count": null,
      "outputs": [
        {
          "output_type": "execute_result",
          "data": {
            "text/html": [
              "<div>\n",
              "<style scoped>\n",
              "    .dataframe tbody tr th:only-of-type {\n",
              "        vertical-align: middle;\n",
              "    }\n",
              "\n",
              "    .dataframe tbody tr th {\n",
              "        vertical-align: top;\n",
              "    }\n",
              "\n",
              "    .dataframe thead th {\n",
              "        text-align: right;\n",
              "    }\n",
              "</style>\n",
              "<table border=\"1\" class=\"dataframe\">\n",
              "  <thead>\n",
              "    <tr style=\"text-align: right;\">\n",
              "      <th></th>\n",
              "      <th>First Score</th>\n",
              "      <th>Second Score</th>\n",
              "      <th>Third Score</th>\n",
              "      <th>Fourth Score</th>\n",
              "    </tr>\n",
              "  </thead>\n",
              "  <tbody>\n",
              "    <tr>\n",
              "      <th>3</th>\n",
              "      <td>95.0</td>\n",
              "      <td>56.0</td>\n",
              "      <td>98</td>\n",
              "      <td>65.0</td>\n",
              "    </tr>\n",
              "  </tbody>\n",
              "</table>\n",
              "</div>"
            ],
            "text/plain": [
              "   First Score  Second Score  Third Score  Fourth Score\n",
              "3         95.0          56.0           98          65.0"
            ]
          },
          "metadata": {
            "tags": []
          },
          "execution_count": 34
        }
      ]
    },
    {
      "cell_type": "markdown",
      "metadata": {
        "id": "S8PoPxltIS9I",
        "colab_type": "text"
      },
      "source": [
        "#### __5. Iterating over rows and columns__"
      ]
    },
    {
      "cell_type": "markdown",
      "metadata": {
        "id": "xSBVMnmsIZEd",
        "colab_type": "text"
      },
      "source": [
        "Iterating over $Rows$ :\n",
        "\n",
        "- `iteritems()`\n",
        "- `iterrows()`\n",
        "- `itertuples()`"
      ]
    },
    {
      "cell_type": "code",
      "metadata": {
        "id": "yYjos7r0ISn4",
        "colab_type": "code",
        "colab": {
          "base_uri": "https://localhost:8080/",
          "height": 105
        },
        "outputId": "b496809e-a945-4ed2-f530-fb90042e5cbe"
      },
      "source": [
        "# importing pandas as pd\n",
        "import pandas as pd\n",
        "  \n",
        "# dictionary of lists\n",
        "dict = {'name':[\"aparna\", \"pankaj\", \"sudhir\", \"Geeku\"],\n",
        "        'degree': [\"MBA\", \"BCA\", \"M.Tech\", \"MBA\"],\n",
        "        'score':[90, 40, 80, 98]}\n",
        " \n",
        "# creating a dataframe from a dictionary \n",
        "df = pd.DataFrame(dict)\n",
        " \n",
        "print(df)"
      ],
      "execution_count": null,
      "outputs": [
        {
          "output_type": "stream",
          "text": [
            "     name  degree  score\n",
            "0  aparna     MBA     90\n",
            "1  pankaj     BCA     40\n",
            "2  sudhir  M.Tech     80\n",
            "3   Geeku     MBA     98\n"
          ],
          "name": "stdout"
        }
      ]
    },
    {
      "cell_type": "markdown",
      "metadata": {
        "id": "028I-dYnIyNn",
        "colab_type": "text"
      },
      "source": [
        "Now we apply `iterrows()` function in order to get a each element of rows."
      ]
    },
    {
      "cell_type": "code",
      "metadata": {
        "id": "or_P1PIiI0cA",
        "colab_type": "code",
        "colab": {
          "base_uri": "https://localhost:8080/",
          "height": 372
        },
        "outputId": "ea0de54f-b8b0-4bdd-a4e5-163639166dc6"
      },
      "source": [
        "# iterating over rows using iterrows() function \n",
        "for i, j in df.iterrows():\n",
        "    print(i, j)\n",
        "    print()"
      ],
      "execution_count": null,
      "outputs": [
        {
          "output_type": "stream",
          "text": [
            "0 name      aparna\n",
            "degree       MBA\n",
            "score         90\n",
            "Name: 0, dtype: object\n",
            "\n",
            "1 name      pankaj\n",
            "degree       BCA\n",
            "score         40\n",
            "Name: 1, dtype: object\n",
            "\n",
            "2 name      sudhir\n",
            "degree    M.Tech\n",
            "score         80\n",
            "Name: 2, dtype: object\n",
            "\n",
            "3 name      Geeku\n",
            "degree      MBA\n",
            "score        98\n",
            "Name: 3, dtype: object\n",
            "\n"
          ],
          "name": "stdout"
        }
      ]
    },
    {
      "cell_type": "markdown",
      "metadata": {
        "id": "gTVW6RoIJJro",
        "colab_type": "text"
      },
      "source": [
        "Iterating over $Columns$:"
      ]
    },
    {
      "cell_type": "code",
      "metadata": {
        "id": "rF9wU5qFJJN8",
        "colab_type": "code",
        "colab": {
          "base_uri": "https://localhost:8080/",
          "height": 70
        },
        "outputId": "a3f538b2-ff39-4d27-c85f-965c13efe959"
      },
      "source": [
        "# creating a list of dataframe columns\n",
        "columns = list(df)\n",
        " \n",
        "for i in columns:\n",
        " \n",
        "    # printing the third element of the column\n",
        "    print (df[i][2])"
      ],
      "execution_count": null,
      "outputs": [
        {
          "output_type": "stream",
          "text": [
            "sudhir\n",
            "M.Tech\n",
            "80\n"
          ],
          "name": "stdout"
        }
      ]
    },
    {
      "cell_type": "markdown",
      "metadata": {
        "id": "BHJoGw2TfA-d",
        "colab_type": "text"
      },
      "source": [
        "![Pandas_1](https://scontent.fdel32-1.fna.fbcdn.net/v/t1.0-9/117396750_2992912804268928_3776915844389120553_o.jpg?_nc_cat=101&_nc_sid=0debeb&_nc_ohc=O2lDakyITtUAX9kBZeG&_nc_ht=scontent.fdel32-1.fna&oh=075df1506ddfd32aa78e5b61832d564c&oe=5F5535D8)"
      ]
    },
    {
      "cell_type": "markdown",
      "metadata": {
        "id": "MWxSY8g6SR0X",
        "colab_type": "text"
      },
      "source": [
        "### __b. Python | Pandas__ $Series$"
      ]
    },
    {
      "cell_type": "markdown",
      "metadata": {
        "id": "bg04dTNzTJw5",
        "colab_type": "text"
      },
      "source": [
        "1. _Creating a Series_\n",
        "2. _Accessing element of Series_\n",
        "3. _Indexing and Selecting Data in Series_\n",
        "4. _Binary operation on Series_\n",
        "5. _Conversion Operation on Series_"
      ]
    },
    {
      "cell_type": "markdown",
      "metadata": {
        "id": "-Z1cYmTfolw-",
        "colab_type": "text"
      },
      "source": [
        "- In the real world, a Pandas Series will be created by loading the datasets from existing storage, storage can be SQL Database, CSV file, and Excel file.\n",
        "\n",
        "- Pandas Series can be created from the lists, dictionary, and from a scalar value etc.\n",
        "\n",
        "- Series can be created in different ways, here are some ways by which we create a series:"
      ]
    },
    {
      "cell_type": "markdown",
      "metadata": {
        "id": "nGWurj2esOeK",
        "colab_type": "text"
      },
      "source": [
        "#### __1. Creating a series:__"
      ]
    },
    {
      "cell_type": "markdown",
      "metadata": {
        "id": "J63iTSPds5I6",
        "colab_type": "text"
      },
      "source": [
        "__From array__"
      ]
    },
    {
      "cell_type": "code",
      "metadata": {
        "id": "WZpmd1QRSRHy",
        "colab_type": "code",
        "colab": {
          "base_uri": "https://localhost:8080/",
          "height": 123
        },
        "outputId": "b4e53116-5f36-4510-a693-21d2f2b3d28a"
      },
      "source": [
        "# import pandas as pd\n",
        "import pandas as pd\n",
        " \n",
        "# import numpy as np\n",
        "import numpy as np\n",
        " \n",
        "# simple array\n",
        "data = np.array(['F', 'A', 'I', 'Z', 'Y'])\n",
        " \n",
        "ser = pd.Series(data)\n",
        "print(ser)"
      ],
      "execution_count": null,
      "outputs": [
        {
          "output_type": "stream",
          "text": [
            "0    F\n",
            "1    A\n",
            "2    I\n",
            "3    Z\n",
            "4    Y\n",
            "dtype: object\n"
          ],
          "name": "stdout"
        }
      ]
    },
    {
      "cell_type": "markdown",
      "metadata": {
        "id": "Xvnwj3SpscbO",
        "colab_type": "text"
      },
      "source": [
        "__From Lists:__"
      ]
    },
    {
      "cell_type": "code",
      "metadata": {
        "id": "si5OT2M6JF1M",
        "colab_type": "code",
        "colab": {
          "base_uri": "https://localhost:8080/",
          "height": 123
        },
        "outputId": "ba5f859f-bf62-4a96-de4d-846cd0d65c6a"
      },
      "source": [
        "import pandas as pd\n",
        " \n",
        "# a simple list\n",
        "list = ['F', 'A', 'I', 'Z', 'Y']\n",
        "  \n",
        "# create series form a list\n",
        "ser = pd.Series(list)\n",
        "print(ser)"
      ],
      "execution_count": null,
      "outputs": [
        {
          "output_type": "stream",
          "text": [
            "0    F\n",
            "1    A\n",
            "2    I\n",
            "3    Z\n",
            "4    Y\n",
            "dtype: object\n"
          ],
          "name": "stdout"
        }
      ]
    },
    {
      "cell_type": "markdown",
      "metadata": {
        "id": "klglUBuLssV6",
        "colab_type": "text"
      },
      "source": [
        "#### __2. Accessing element of Series__"
      ]
    },
    {
      "cell_type": "markdown",
      "metadata": {
        "id": "A3SkNYGXu924",
        "colab_type": "text"
      },
      "source": [
        "__with Position:__"
      ]
    },
    {
      "cell_type": "code",
      "metadata": {
        "id": "8kuGxfVhuwem",
        "colab_type": "code",
        "colab": {
          "base_uri": "https://localhost:8080/",
          "height": 123
        },
        "outputId": "5e145543-49a3-4329-a7b0-f6d6bb590730"
      },
      "source": [
        "# import pandas and numpy \n",
        "import pandas as pd\n",
        "import numpy as np\n",
        " \n",
        "# creating simple array\n",
        "data = np.array(['M', 'O', 'H', 'D', 'F', 'A', 'I', 'Z', 'Y'])\n",
        "ser = pd.Series(data)\n",
        "  \n",
        "  \n",
        "#retrieve the first element\n",
        "print(ser[-5:])"
      ],
      "execution_count": null,
      "outputs": [
        {
          "output_type": "stream",
          "text": [
            "4    F\n",
            "5    A\n",
            "6    I\n",
            "7    Z\n",
            "8    Y\n",
            "dtype: object\n"
          ],
          "name": "stdout"
        }
      ]
    },
    {
      "cell_type": "markdown",
      "metadata": {
        "id": "7sy9qePwvoG6",
        "colab_type": "text"
      },
      "source": [
        "__Using Label (index):__"
      ]
    },
    {
      "cell_type": "code",
      "metadata": {
        "id": "Vajv3N7GuwY4",
        "colab_type": "code",
        "colab": {
          "base_uri": "https://localhost:8080/",
          "height": 34
        },
        "outputId": "abd207b9-fe8b-4478-f5b8-1c06d6483cc5"
      },
      "source": [
        "# import pandas and numpy \n",
        "import pandas as pd\n",
        "import numpy as np\n",
        " \n",
        "# creating simple array\n",
        "data = np.array(['M', 'O', 'H', 'D', 'F', 'A', 'I', 'Z', 'Y'])\n",
        "ser = pd.Series(data,index=[10,11,12,13,14,15,16,17,18])\n",
        "  \n",
        "  \n",
        "# accessing a element using index element\n",
        "print(ser[14])"
      ],
      "execution_count": null,
      "outputs": [
        {
          "output_type": "stream",
          "text": [
            "F\n"
          ],
          "name": "stdout"
        }
      ]
    },
    {
      "cell_type": "markdown",
      "metadata": {
        "id": "PgHB3qabwI20",
        "colab_type": "text"
      },
      "source": [
        "#### __3. Indexing and Selecting Data in Series__"
      ]
    },
    {
      "cell_type": "code",
      "metadata": {
        "id": "40szF6aPuwTJ",
        "colab_type": "code",
        "colab": {
          "base_uri": "https://localhost:8080/",
          "height": 212
        },
        "outputId": "b5abb083-58d4-4796-cda3-692bbee1819a"
      },
      "source": [
        "# importing pandas module  \n",
        "import pandas as pd  \n",
        "     \n",
        "# making data frame  \n",
        "df = pd.read_csv(\"/content/nba.csv\")  \n",
        "   \n",
        "ser = pd.Series(df['Name']) \n",
        "data = ser.head(10)\n",
        "data "
      ],
      "execution_count": null,
      "outputs": [
        {
          "output_type": "execute_result",
          "data": {
            "text/plain": [
              "0    Avery Bradley\n",
              "1      Jae Crowder\n",
              "2     John Holland\n",
              "3      R.J. Hunter\n",
              "4    Jonas Jerebko\n",
              "5     Amir Johnson\n",
              "6    Jordan Mickey\n",
              "7     Kelly Olynyk\n",
              "8     Terry Rozier\n",
              "9     Marcus Smart\n",
              "Name: Name, dtype: object"
            ]
          },
          "metadata": {
            "tags": []
          },
          "execution_count": 23
        }
      ]
    },
    {
      "cell_type": "code",
      "metadata": {
        "id": "RGUs0cpjuwNm",
        "colab_type": "code",
        "colab": {
          "base_uri": "https://localhost:8080/",
          "height": 87
        },
        "outputId": "629b2d56-5684-4676-a5e5-8c26c7c25250"
      },
      "source": [
        "# using indexing operator\n",
        "data[3:6] "
      ],
      "execution_count": null,
      "outputs": [
        {
          "output_type": "execute_result",
          "data": {
            "text/plain": [
              "3      R.J. Hunter\n",
              "4    Jonas Jerebko\n",
              "5     Amir Johnson\n",
              "Name: Name, dtype: object"
            ]
          },
          "metadata": {
            "tags": []
          },
          "execution_count": 24
        }
      ]
    },
    {
      "cell_type": "markdown",
      "metadata": {
        "id": "gZ83VFMYw3dn",
        "colab_type": "text"
      },
      "source": [
        "__Indexing a Series using `.loc[]`:__"
      ]
    },
    {
      "cell_type": "code",
      "metadata": {
        "id": "m1QlGtlgxE1b",
        "colab_type": "code",
        "colab": {
          "base_uri": "https://localhost:8080/",
          "height": 105
        },
        "outputId": "7df0d017-7ffc-496b-ae54-121c77e7f0a6"
      },
      "source": [
        "# using .loc[] function\n",
        "data.loc[3:6]"
      ],
      "execution_count": null,
      "outputs": [
        {
          "output_type": "execute_result",
          "data": {
            "text/plain": [
              "3      R.J. Hunter\n",
              "4    Jonas Jerebko\n",
              "5     Amir Johnson\n",
              "6    Jordan Mickey\n",
              "Name: Name, dtype: object"
            ]
          },
          "metadata": {
            "tags": []
          },
          "execution_count": 25
        }
      ]
    },
    {
      "cell_type": "markdown",
      "metadata": {
        "id": "11Um1IL5w9eR",
        "colab_type": "text"
      },
      "source": [
        "__Indexing a Series using `.iloc[]`:__"
      ]
    },
    {
      "cell_type": "code",
      "metadata": {
        "id": "1795snRbuwCn",
        "colab_type": "code",
        "colab": {
          "base_uri": "https://localhost:8080/",
          "height": 87
        },
        "outputId": "0c4e088d-b724-4ed3-ec3c-7c7c3ca6348e"
      },
      "source": [
        "# using .iloc[] function\n",
        "data.iloc[3:6]"
      ],
      "execution_count": null,
      "outputs": [
        {
          "output_type": "execute_result",
          "data": {
            "text/plain": [
              "3      R.J. Hunter\n",
              "4    Jonas Jerebko\n",
              "5     Amir Johnson\n",
              "Name: Name, dtype: object"
            ]
          },
          "metadata": {
            "tags": []
          },
          "execution_count": 26
        }
      ]
    },
    {
      "cell_type": "markdown",
      "metadata": {
        "id": "P_0IpiCg75xn",
        "colab_type": "text"
      },
      "source": [
        "#### __4. **Binary** Operation on Series__"
      ]
    },
    {
      "cell_type": "code",
      "metadata": {
        "id": "JynDOQmUuv81",
        "colab_type": "code",
        "colab": {
          "base_uri": "https://localhost:8080/",
          "height": 212
        },
        "outputId": "520a514c-85b6-4b6e-9951-eec5395d8c6d"
      },
      "source": [
        "# importing pandas module  \n",
        "import pandas as pd  \n",
        " \n",
        "# creating a series\n",
        "data = pd.Series([5, 2, 3,7], index=['a', 'b', 'c', 'd'])\n",
        " \n",
        "# creating a series\n",
        "data1 = pd.Series([1, 6, 4, 9], index=['a', 'b', 'd', 'e'])\n",
        " \n",
        "print(data, \"\\n\\n\", data1)"
      ],
      "execution_count": null,
      "outputs": [
        {
          "output_type": "stream",
          "text": [
            "a    5\n",
            "b    2\n",
            "c    3\n",
            "d    7\n",
            "dtype: int64 \n",
            "\n",
            " a    1\n",
            "b    6\n",
            "d    4\n",
            "e    9\n",
            "dtype: int64\n"
          ],
          "name": "stdout"
        }
      ]
    },
    {
      "cell_type": "code",
      "metadata": {
        "id": "SRxIb_Z4GWe2",
        "colab_type": "code",
        "colab": {
          "base_uri": "https://localhost:8080/",
          "height": 123
        },
        "outputId": "cf08b4f7-a3ab-403c-db5c-23b29d1e9725"
      },
      "source": [
        "# adding two series using\n",
        "# .add\n",
        "data.add(data1, fill_value=0)"
      ],
      "execution_count": null,
      "outputs": [
        {
          "output_type": "execute_result",
          "data": {
            "text/plain": [
              "a     6.0\n",
              "b     8.0\n",
              "c     3.0\n",
              "d    11.0\n",
              "e     9.0\n",
              "dtype: float64"
            ]
          },
          "metadata": {
            "tags": []
          },
          "execution_count": 28
        }
      ]
    },
    {
      "cell_type": "markdown",
      "metadata": {
        "id": "mUwP4J_7Gdbx",
        "colab_type": "text"
      },
      "source": [
        "__Code #2:__"
      ]
    },
    {
      "cell_type": "code",
      "metadata": {
        "id": "fM_uuaAgGre3",
        "colab_type": "code",
        "colab": {
          "base_uri": "https://localhost:8080/",
          "height": 123
        },
        "outputId": "fe3c4ffb-0d5a-479d-e209-e678a801fcb9"
      },
      "source": [
        "# subtracting two series using\n",
        "# .sub\n",
        "data.sub(data1, fill_value=0)"
      ],
      "execution_count": null,
      "outputs": [
        {
          "output_type": "execute_result",
          "data": {
            "text/plain": [
              "a    4.0\n",
              "b   -4.0\n",
              "c    3.0\n",
              "d    3.0\n",
              "e   -9.0\n",
              "dtype: float64"
            ]
          },
          "metadata": {
            "tags": []
          },
          "execution_count": 30
        }
      ]
    },
    {
      "cell_type": "markdown",
      "metadata": {
        "id": "QMmumg7TGxk5",
        "colab_type": "text"
      },
      "source": [
        "#### __5. Conversion Operation on Series__"
      ]
    },
    {
      "cell_type": "code",
      "metadata": {
        "id": "QTGM_mzRGrXX",
        "colab_type": "code",
        "colab": {
          "base_uri": "https://localhost:8080/",
          "height": 443
        },
        "outputId": "e805811c-49be-4aae-91f6-d78bc1e58622"
      },
      "source": [
        "# Python program using astype\n",
        "# to convert a datatype of series\n",
        " \n",
        "# importing pandas module  \n",
        "import pandas as pd \n",
        "   \n",
        "# reading csv file from url  \n",
        "data = pd.read_csv(\"/content/nba.csv\") \n",
        "    \n",
        "# dropping null value columns to avoid errors \n",
        "data.dropna(inplace = True) \n",
        "   \n",
        "# storing dtype before converting \n",
        "before = data.dtypes \n",
        "   \n",
        "# converting dtypes using astype \n",
        "data[\"Salary\"]= data[\"Salary\"].astype(int) \n",
        "data[\"Number\"]= data[\"Number\"].astype(str) \n",
        "   \n",
        "# storing dtype after converting \n",
        "after = data.dtypes \n",
        "   \n",
        "# printing to compare \n",
        "print(\"BEFORE CONVERSION\\n\", before, \"\\n\") \n",
        "print(\"AFTER CONVERSION\\n\", after, \"\\n\")"
      ],
      "execution_count": null,
      "outputs": [
        {
          "output_type": "stream",
          "text": [
            "BEFORE CONVERSION\n",
            " Name         object\n",
            "Team         object\n",
            "Number      float64\n",
            "Position     object\n",
            "Age         float64\n",
            "Height       object\n",
            "Weight      float64\n",
            "College      object\n",
            "Salary      float64\n",
            "dtype: object \n",
            "\n",
            "AFTER CONVERSION\n",
            " Name         object\n",
            "Team         object\n",
            "Number       object\n",
            "Position     object\n",
            "Age         float64\n",
            "Height       object\n",
            "Weight      float64\n",
            "College      object\n",
            "Salary        int64\n",
            "dtype: object \n",
            "\n"
          ],
          "name": "stdout"
        }
      ]
    },
    {
      "cell_type": "code",
      "metadata": {
        "id": "ltqORaRGGrQC",
        "colab_type": "code",
        "colab": {
          "base_uri": "https://localhost:8080/",
          "height": 1000
        },
        "outputId": "f64bee93-351f-4c32-f3a4-28d70fffa0e7"
      },
      "source": [
        "# Python program converting\n",
        "# a series into list\n",
        " \n",
        "# importing pandas module  \n",
        "import pandas as pd  \n",
        "   \n",
        "# importing regex module \n",
        "import re \n",
        "     \n",
        "# making data frame  \n",
        "data = pd.read_csv(\"/content/nba.csv\")  \n",
        "     \n",
        "# removing null values to avoid errors  \n",
        "data.dropna(inplace = True)  \n",
        "   \n",
        "# storing dtype before operation \n",
        "dtype_before = type(data[\"Salary\"]) \n",
        "   \n",
        "# converting to list \n",
        "salary_list = data[\"Salary\"].tolist() \n",
        "   \n",
        "# storing dtype after operation \n",
        "dtype_after = type(salary_list) \n",
        "   \n",
        "# printing dtype \n",
        "print(\"Data type before converting = {}\\nData type after converting = {}\"\n",
        "      .format(dtype_before, dtype_after)) \n",
        "   \n",
        "# displaying list \n",
        "salary_list"
      ],
      "execution_count": null,
      "outputs": [
        {
          "output_type": "stream",
          "text": [
            "Data type before converting = <class 'pandas.core.series.Series'>\n",
            "Data type after converting = <class 'list'>\n"
          ],
          "name": "stdout"
        },
        {
          "output_type": "execute_result",
          "data": {
            "text/plain": [
              "[7730337.0,\n",
              " 6796117.0,\n",
              " 1148640.0,\n",
              " 1170960.0,\n",
              " 2165160.0,\n",
              " 1824360.0,\n",
              " 3431040.0,\n",
              " 2569260.0,\n",
              " 6912869.0,\n",
              " 3425510.0,\n",
              " 1749840.0,\n",
              " 2616975.0,\n",
              " 845059.0,\n",
              " 1500000.0,\n",
              " 1335480.0,\n",
              " 6300000.0,\n",
              " 134215.0,\n",
              " 1500000.0,\n",
              " 19689000.0,\n",
              " 1140240.0,\n",
              " 947276.0,\n",
              " 981348.0,\n",
              " 947276.0,\n",
              " 947276.0,\n",
              " 11235955.0,\n",
              " 8000000.0,\n",
              " 1635476.0,\n",
              " 22875000.0,\n",
              " 845059.0,\n",
              " 845059.0,\n",
              " 1572360.0,\n",
              " 12650000.0,\n",
              " 3750000.0,\n",
              " 1636842.0,\n",
              " 4000000.0,\n",
              " 167406.0,\n",
              " 947276.0,\n",
              " 1000000.0,\n",
              " 4626960.0,\n",
              " 845059.0,\n",
              " 1074169.0,\n",
              " 6500000.0,\n",
              " 2144772.0,\n",
              " 525093.0,\n",
              " 3457800.0,\n",
              " 4582680.0,\n",
              " 947276.0,\n",
              " 2869440.0,\n",
              " 947276.0,\n",
              " 525093.0,\n",
              " 13600000.0,\n",
              " 10050000.0,\n",
              " 2500000.0,\n",
              " 7000000.0,\n",
              " 12000000.0,\n",
              " 6268675.0,\n",
              " 650000.0,\n",
              " 3553917.0,\n",
              " 245177.0,\n",
              " 1509360.0,\n",
              " 3873398.0,\n",
              " 13800000.0,\n",
              " 947276.0,\n",
              " 11370786.0,\n",
              " 2008748.0,\n",
              " 14260870.0,\n",
              " 11710456.0,\n",
              " 1131960.0,\n",
              " 845059.0,\n",
              " 1270964.0,\n",
              " 3815000.0,\n",
              " 15501000.0,\n",
              " 1100602.0,\n",
              " 111444.0,\n",
              " 5675000.0,\n",
              " 525093.0,\n",
              " 9650000.0,\n",
              " 18907726.0,\n",
              " 1100602.0,\n",
              " 19689000.0,\n",
              " 947276.0,\n",
              " 21468695.0,\n",
              " 3376000.0,\n",
              " 7085000.0,\n",
              " 3110796.0,\n",
              " 1159680.0,\n",
              " 3000000.0,\n",
              " 845059.0,\n",
              " 700000.0,\n",
              " 845059.0,\n",
              " 15592217.0,\n",
              " 1724250.0,\n",
              " 1155600.0,\n",
              " 3132240.0,\n",
              " 5103120.0,\n",
              " 981348.0,\n",
              " 947276.0,\n",
              " 5219169.0,\n",
              " 13500000.0,\n",
              " 2127840.0,\n",
              " 206192.0,\n",
              " 1160160.0,\n",
              " 981348.0,\n",
              " 13500000.0,\n",
              " 3807120.0,\n",
              " 1035000.0,\n",
              " 55722.0,\n",
              " 947276.0,\n",
              " 5500000.0,\n",
              " 2041080.0,\n",
              " 83397.0,\n",
              " 981348.0,\n",
              " 1015421.0,\n",
              " 1449187.0,\n",
              " 3398280.0,\n",
              " 5013559.0,\n",
              " 15851950.0,\n",
              " 947276.0,\n",
              " 525093.0,\n",
              " 12403101.0,\n",
              " 7700000.0,\n",
              " 3156600.0,\n",
              " 845059.0,\n",
              " 9500000.0,\n",
              " 845059.0,\n",
              " 2250000.0,\n",
              " 16407500.0,\n",
              " 4500000.0,\n",
              " 8500000.0,\n",
              " 947276.0,\n",
              " 2380440.0,\n",
              " 1015421.0,\n",
              " 13400000.0,\n",
              " 1391160.0,\n",
              " 20093064.0,\n",
              " 1535880.0,\n",
              " 1147276.0,\n",
              " 8193029.0,\n",
              " 16407501.0,\n",
              " 947276.0,\n",
              " 947276.0,\n",
              " 1276000.0,\n",
              " 19689000.0,\n",
              " 111196.0,\n",
              " 8988765.0,\n",
              " 14260870.0,\n",
              " 2100000.0,\n",
              " 2500000.0,\n",
              " 6500000.0,\n",
              " 2170465.0,\n",
              " 111444.0,\n",
              " 1252440.0,\n",
              " 2891760.0,\n",
              " 845059.0,\n",
              " 3272091.0,\n",
              " 16000000.0,\n",
              " 600000.0,\n",
              " 13913044.0,\n",
              " 2841960.0,\n",
              " 6270000.0,\n",
              " 5000000.0,\n",
              " 3000000.0,\n",
              " 4050000.0,\n",
              " 1007026.0,\n",
              " 17120106.0,\n",
              " 8000000.0,\n",
              " 4000000.0,\n",
              " 1358880.0,\n",
              " 211744.0,\n",
              " 1100000.0,\n",
              " 7000000.0,\n",
              " 2357760.0,\n",
              " 845059.0,\n",
              " 1007026.0,\n",
              " 3000000.0,\n",
              " 2399040.0,\n",
              " 947276.0,\n",
              " 1662360.0,\n",
              " 2943221.0,\n",
              " 8000000.0,\n",
              " 14700000.0,\n",
              " 16407500.0,\n",
              " 295327.0,\n",
              " 845059.0,\n",
              " 5152440.0,\n",
              " 2109294.0,\n",
              " 6600000.0,\n",
              " 1733040.0,\n",
              " 1449000.0,\n",
              " 4290000.0,\n",
              " 1100602.0,\n",
              " 3950313.0,\n",
              " 4053446.0,\n",
              " 2085671.0,\n",
              " 16407500.0,\n",
              " 1270964.0,\n",
              " 15361500.0,\n",
              " 845059.0,\n",
              " 947276.0,\n",
              " 5378974.0,\n",
              " 8193030.0,\n",
              " 306527.0,\n",
              " 6486486.0,\n",
              " 8229375.0,\n",
              " 1646400.0,\n",
              " 200600.0,\n",
              " 15756438.0,\n",
              " 1000000.0,\n",
              " 2489530.0,\n",
              " 3189794.0,\n",
              " 947276.0,\n",
              " 1404600.0,\n",
              " 5158539.0,\n",
              " 5000000.0,\n",
              " 3542500.0,\n",
              " 4088019.0,\n",
              " 9588426.0,\n",
              " 700902.0,\n",
              " 845059.0,\n",
              " 1201440.0,\n",
              " 1230840.0,\n",
              " 9638555.0,\n",
              " 9000000.0,\n",
              " 5464000.0,\n",
              " 8500000.0,\n",
              " 1100602.0,\n",
              " 3036927.0,\n",
              " 2850000.0,\n",
              " 7070730.0,\n",
              " 169883.0,\n",
              " 1164858.0,\n",
              " 845059.0,\n",
              " 10734586.0,\n",
              " 845059.0,\n",
              " 1320000.0,\n",
              " 15514031.0,\n",
              " 1015421.0,\n",
              " 10595507.0,\n",
              " 55722.0,\n",
              " 3382023.0,\n",
              " 19689000.0,\n",
              " 1142880.0,\n",
              " 947276.0,\n",
              " 5250000.0,\n",
              " 10000000.0,\n",
              " 16407500.0,\n",
              " 200600.0,\n",
              " 250750.0,\n",
              " 3578947.0,\n",
              " 525093.0,\n",
              " 1499187.0,\n",
              " 2000000.0,\n",
              " 1304520.0,\n",
              " 2854940.0,\n",
              " 12000000.0,\n",
              " 1000000.0,\n",
              " 5746479.0,\n",
              " 18671659.0,\n",
              " 947276.0,\n",
              " 525093.0,\n",
              " 3333333.0,\n",
              " 8000000.0,\n",
              " 947276.0,\n",
              " 189455.0,\n",
              " 947276.0,\n",
              " 525093.0,\n",
              " 6110034.0,\n",
              " 2612520.0,\n",
              " 6331404.0,\n",
              " 3034356.0,\n",
              " 5675000.0,\n",
              " 2139000.0,\n",
              " 12000000.0,\n",
              " 7000000.0,\n",
              " 4204200.0,\n",
              " 22192730.0,\n",
              " 10151612.0,\n",
              " 2854940.0,\n",
              " 261894.0,\n",
              " 845059.0,\n",
              " 5543725.0,\n",
              " 525093.0,\n",
              " 20000000.0,\n",
              " 981348.0,\n",
              " 2481720.0,\n",
              " 947276.0,\n",
              " 4171680.0,\n",
              " 845059.0,\n",
              " 1294440.0,\n",
              " 2380593.0,\n",
              " 5192520.0,\n",
              " 2505720.0,\n",
              " 4300000.0,\n",
              " 11250000.0,\n",
              " 5000000.0,\n",
              " 4000000.0,\n",
              " 5694674.0,\n",
              " 4375000.0,\n",
              " 561716.0,\n",
              " 3300000.0,\n",
              " 273038.0,\n",
              " 8000000.0,\n",
              " 1920240.0,\n",
              " 4662960.0,\n",
              " 2170465.0,\n",
              " 1100602.0,\n",
              " 200600.0,\n",
              " 15851950.0,\n",
              " 2814000.0,\n",
              " 3000000.0,\n",
              " 3533333.0,\n",
              " 10449438.0,\n",
              " 11235955.0,\n",
              " 1584480.0,\n",
              " 947276.0,\n",
              " 4345000.0,\n",
              " 258489.0,\n",
              " 1474440.0,\n",
              " 1282080.0,\n",
              " 2148360.0,\n",
              " 2056920.0,\n",
              " 1938840.0,\n",
              " 947276.0,\n",
              " 5703600.0,\n",
              " 5758680.0,\n",
              " 2279040.0,\n",
              " 3750000.0,\n",
              " 20158622.0,\n",
              " 3135000.0,\n",
              " 1140240.0,\n",
              " 16407500.0,\n",
              " 1463040.0,\n",
              " 222888.0,\n",
              " 3344000.0,\n",
              " 2021520.0,\n",
              " 1210800.0,\n",
              " 4500000.0,\n",
              " 5138430.0,\n",
              " 16744218.0,\n",
              " 525093.0,\n",
              " 8042895.0,\n",
              " 625093.0,\n",
              " 947276.0,\n",
              " 6980802.0,\n",
              " 2894059.0,\n",
              " 6000000.0,\n",
              " 5016000.0,\n",
              " 3075880.0,\n",
              " 4236287.0,\n",
              " 2525160.0,\n",
              " 525093.0,\n",
              " 1415520.0,\n",
              " 2854940.0,\n",
              " 2637720.0,\n",
              " 4775000.0,\n",
              " 2658240.0,\n",
              " 9463484.0,\n",
              " 12000000.0,\n",
              " 15409570.0,\n",
              " 1348440.0,\n",
              " 981348.0,\n",
              " 2239800.0,\n",
              " 2433333.0,\n",
              " 947276.0]"
            ]
          },
          "metadata": {
            "tags": []
          },
          "execution_count": 34
        }
      ]
    },
    {
      "cell_type": "markdown",
      "metadata": {
        "id": "BXohE48GiN1h",
        "colab_type": "text"
      },
      "source": [
        "![alt text](https://scontent.fdel32-1.fna.fbcdn.net/v/t1.0-9/117176762_2992912790935596_3836520851615567592_o.jpg?_nc_cat=106&_nc_sid=0debeb&_nc_ohc=wU6EVSp7xxQAX_BugPZ&_nc_ht=scontent.fdel32-1.fna&oh=0e04c2c11bf28ad99af25f0a5693d079&oe=5F55DEE7)"
      ]
    },
    {
      "cell_type": "markdown",
      "metadata": {
        "id": "CTOIahrFMK6Y",
        "colab_type": "text"
      },
      "source": [
        "## __3. Viewing Data__"
      ]
    },
    {
      "cell_type": "markdown",
      "metadata": {
        "id": "_Xa5F-USNUn3",
        "colab_type": "text"
      },
      "source": [
        "#### __`.head( )` method__"
      ]
    },
    {
      "cell_type": "code",
      "metadata": {
        "id": "Rgg8ZJ_cRrei",
        "colab_type": "code",
        "colab": {
          "base_uri": "https://localhost:8080/",
          "height": 197
        },
        "outputId": "ab854777-5898-414c-a4f7-8b3f38366b75"
      },
      "source": [
        "data.head(5)"
      ],
      "execution_count": null,
      "outputs": [
        {
          "output_type": "execute_result",
          "data": {
            "text/html": [
              "<div>\n",
              "<style scoped>\n",
              "    .dataframe tbody tr th:only-of-type {\n",
              "        vertical-align: middle;\n",
              "    }\n",
              "\n",
              "    .dataframe tbody tr th {\n",
              "        vertical-align: top;\n",
              "    }\n",
              "\n",
              "    .dataframe thead th {\n",
              "        text-align: right;\n",
              "    }\n",
              "</style>\n",
              "<table border=\"1\" class=\"dataframe\">\n",
              "  <thead>\n",
              "    <tr style=\"text-align: right;\">\n",
              "      <th></th>\n",
              "      <th>Name</th>\n",
              "      <th>Team</th>\n",
              "      <th>Number</th>\n",
              "      <th>Position</th>\n",
              "      <th>Age</th>\n",
              "      <th>Height</th>\n",
              "      <th>Weight</th>\n",
              "      <th>College</th>\n",
              "      <th>Salary</th>\n",
              "    </tr>\n",
              "  </thead>\n",
              "  <tbody>\n",
              "    <tr>\n",
              "      <th>0</th>\n",
              "      <td>Avery Bradley</td>\n",
              "      <td>Boston Celtics</td>\n",
              "      <td>0.0</td>\n",
              "      <td>PG</td>\n",
              "      <td>25.0</td>\n",
              "      <td>6-2</td>\n",
              "      <td>180.0</td>\n",
              "      <td>Texas</td>\n",
              "      <td>7730337.0</td>\n",
              "    </tr>\n",
              "    <tr>\n",
              "      <th>1</th>\n",
              "      <td>Jae Crowder</td>\n",
              "      <td>Boston Celtics</td>\n",
              "      <td>99.0</td>\n",
              "      <td>SF</td>\n",
              "      <td>25.0</td>\n",
              "      <td>6-6</td>\n",
              "      <td>235.0</td>\n",
              "      <td>Marquette</td>\n",
              "      <td>6796117.0</td>\n",
              "    </tr>\n",
              "    <tr>\n",
              "      <th>2</th>\n",
              "      <td>John Holland</td>\n",
              "      <td>Boston Celtics</td>\n",
              "      <td>30.0</td>\n",
              "      <td>SG</td>\n",
              "      <td>27.0</td>\n",
              "      <td>6-5</td>\n",
              "      <td>205.0</td>\n",
              "      <td>Boston University</td>\n",
              "      <td>NaN</td>\n",
              "    </tr>\n",
              "    <tr>\n",
              "      <th>3</th>\n",
              "      <td>R.J. Hunter</td>\n",
              "      <td>Boston Celtics</td>\n",
              "      <td>28.0</td>\n",
              "      <td>SG</td>\n",
              "      <td>22.0</td>\n",
              "      <td>6-5</td>\n",
              "      <td>185.0</td>\n",
              "      <td>Georgia State</td>\n",
              "      <td>1148640.0</td>\n",
              "    </tr>\n",
              "    <tr>\n",
              "      <th>4</th>\n",
              "      <td>Jonas Jerebko</td>\n",
              "      <td>Boston Celtics</td>\n",
              "      <td>8.0</td>\n",
              "      <td>PF</td>\n",
              "      <td>29.0</td>\n",
              "      <td>6-10</td>\n",
              "      <td>231.0</td>\n",
              "      <td>NaN</td>\n",
              "      <td>5000000.0</td>\n",
              "    </tr>\n",
              "  </tbody>\n",
              "</table>\n",
              "</div>"
            ],
            "text/plain": [
              "            Name            Team  Number  ... Weight            College     Salary\n",
              "0  Avery Bradley  Boston Celtics     0.0  ...  180.0              Texas  7730337.0\n",
              "1    Jae Crowder  Boston Celtics    99.0  ...  235.0          Marquette  6796117.0\n",
              "2   John Holland  Boston Celtics    30.0  ...  205.0  Boston University        NaN\n",
              "3    R.J. Hunter  Boston Celtics    28.0  ...  185.0      Georgia State  1148640.0\n",
              "4  Jonas Jerebko  Boston Celtics     8.0  ...  231.0                NaN  5000000.0\n",
              "\n",
              "[5 rows x 9 columns]"
            ]
          },
          "metadata": {
            "tags": []
          },
          "execution_count": 45
        }
      ]
    },
    {
      "cell_type": "code",
      "metadata": {
        "id": "7ef9LU0oRDdb",
        "colab_type": "code",
        "colab": {
          "base_uri": "https://localhost:8080/",
          "height": 123
        },
        "outputId": "533442ab-78a2-4e9c-9661-f719233df6ba"
      },
      "source": [
        " data[\"Name\"].head(5) # Series"
      ],
      "execution_count": null,
      "outputs": [
        {
          "output_type": "execute_result",
          "data": {
            "text/plain": [
              "0    Avery Bradley\n",
              "1      Jae Crowder\n",
              "2     John Holland\n",
              "3      R.J. Hunter\n",
              "4    Jonas Jerebko\n",
              "Name: Name, dtype: object"
            ]
          },
          "metadata": {
            "tags": []
          },
          "execution_count": 43
        }
      ]
    },
    {
      "cell_type": "markdown",
      "metadata": {
        "id": "A1Cu-6l4RhLy",
        "colab_type": "text"
      },
      "source": [
        "#### __`.tail( )` method__"
      ]
    },
    {
      "cell_type": "code",
      "metadata": {
        "id": "aSSbm0quRIMz",
        "colab_type": "code",
        "colab": {
          "base_uri": "https://localhost:8080/",
          "height": 197
        },
        "outputId": "f53e946f-c35f-4301-d4ca-be0025b77d8a"
      },
      "source": [
        "data.tail(5)"
      ],
      "execution_count": null,
      "outputs": [
        {
          "output_type": "execute_result",
          "data": {
            "text/html": [
              "<div>\n",
              "<style scoped>\n",
              "    .dataframe tbody tr th:only-of-type {\n",
              "        vertical-align: middle;\n",
              "    }\n",
              "\n",
              "    .dataframe tbody tr th {\n",
              "        vertical-align: top;\n",
              "    }\n",
              "\n",
              "    .dataframe thead th {\n",
              "        text-align: right;\n",
              "    }\n",
              "</style>\n",
              "<table border=\"1\" class=\"dataframe\">\n",
              "  <thead>\n",
              "    <tr style=\"text-align: right;\">\n",
              "      <th></th>\n",
              "      <th>Name</th>\n",
              "      <th>Team</th>\n",
              "      <th>Number</th>\n",
              "      <th>Position</th>\n",
              "      <th>Age</th>\n",
              "      <th>Height</th>\n",
              "      <th>Weight</th>\n",
              "      <th>College</th>\n",
              "      <th>Salary</th>\n",
              "    </tr>\n",
              "  </thead>\n",
              "  <tbody>\n",
              "    <tr>\n",
              "      <th>453</th>\n",
              "      <td>Shelvin Mack</td>\n",
              "      <td>Utah Jazz</td>\n",
              "      <td>8.0</td>\n",
              "      <td>PG</td>\n",
              "      <td>26.0</td>\n",
              "      <td>6-3</td>\n",
              "      <td>203.0</td>\n",
              "      <td>Butler</td>\n",
              "      <td>2433333.0</td>\n",
              "    </tr>\n",
              "    <tr>\n",
              "      <th>454</th>\n",
              "      <td>Raul Neto</td>\n",
              "      <td>Utah Jazz</td>\n",
              "      <td>25.0</td>\n",
              "      <td>PG</td>\n",
              "      <td>24.0</td>\n",
              "      <td>6-1</td>\n",
              "      <td>179.0</td>\n",
              "      <td>NaN</td>\n",
              "      <td>900000.0</td>\n",
              "    </tr>\n",
              "    <tr>\n",
              "      <th>455</th>\n",
              "      <td>Tibor Pleiss</td>\n",
              "      <td>Utah Jazz</td>\n",
              "      <td>21.0</td>\n",
              "      <td>C</td>\n",
              "      <td>26.0</td>\n",
              "      <td>7-3</td>\n",
              "      <td>256.0</td>\n",
              "      <td>NaN</td>\n",
              "      <td>2900000.0</td>\n",
              "    </tr>\n",
              "    <tr>\n",
              "      <th>456</th>\n",
              "      <td>Jeff Withey</td>\n",
              "      <td>Utah Jazz</td>\n",
              "      <td>24.0</td>\n",
              "      <td>C</td>\n",
              "      <td>26.0</td>\n",
              "      <td>7-0</td>\n",
              "      <td>231.0</td>\n",
              "      <td>Kansas</td>\n",
              "      <td>947276.0</td>\n",
              "    </tr>\n",
              "    <tr>\n",
              "      <th>457</th>\n",
              "      <td>NaN</td>\n",
              "      <td>NaN</td>\n",
              "      <td>NaN</td>\n",
              "      <td>NaN</td>\n",
              "      <td>NaN</td>\n",
              "      <td>NaN</td>\n",
              "      <td>NaN</td>\n",
              "      <td>NaN</td>\n",
              "      <td>NaN</td>\n",
              "    </tr>\n",
              "  </tbody>\n",
              "</table>\n",
              "</div>"
            ],
            "text/plain": [
              "             Name       Team  Number Position  ...  Height Weight  College     Salary\n",
              "453  Shelvin Mack  Utah Jazz     8.0       PG  ...     6-3  203.0   Butler  2433333.0\n",
              "454     Raul Neto  Utah Jazz    25.0       PG  ...     6-1  179.0      NaN   900000.0\n",
              "455  Tibor Pleiss  Utah Jazz    21.0        C  ...     7-3  256.0      NaN  2900000.0\n",
              "456   Jeff Withey  Utah Jazz    24.0        C  ...     7-0  231.0   Kansas   947276.0\n",
              "457           NaN        NaN     NaN      NaN  ...     NaN    NaN      NaN        NaN\n",
              "\n",
              "[5 rows x 9 columns]"
            ]
          },
          "metadata": {
            "tags": []
          },
          "execution_count": 44
        }
      ]
    },
    {
      "cell_type": "markdown",
      "metadata": {
        "id": "0hnGwYOTTcJZ",
        "colab_type": "text"
      },
      "source": [
        "#### __`.describe( )` method__"
      ]
    },
    {
      "cell_type": "code",
      "metadata": {
        "id": "RoojT1M6TnCN",
        "colab_type": "code",
        "colab": {
          "base_uri": "https://localhost:8080/",
          "height": 454
        },
        "outputId": "9b15e79f-d4b3-448e-81f8-74f08b3d9f41"
      },
      "source": [
        "# importing pandas module \n",
        "import pandas as pd \n",
        "\n",
        "# importing regex module \n",
        "import re \n",
        "\t\n",
        "# making data frame \n",
        "data = pd.read_csv('/content/nba.csv') \n",
        "\t\n",
        "# removing null values to avoid errors \n",
        "data.dropna(inplace = True) \n",
        "\n",
        "# percentile list \n",
        "perc =[.20, .40, .60, .80] \n",
        "\n",
        "# list of dtypes to include \n",
        "include =['object', 'float', 'int'] \n",
        "\n",
        "# calling describe method \n",
        "desc = data.describe(percentiles = perc, include = include) \n",
        "\n",
        "# display \n",
        "desc "
      ],
      "execution_count": null,
      "outputs": [
        {
          "output_type": "execute_result",
          "data": {
            "text/html": [
              "<div>\n",
              "<style scoped>\n",
              "    .dataframe tbody tr th:only-of-type {\n",
              "        vertical-align: middle;\n",
              "    }\n",
              "\n",
              "    .dataframe tbody tr th {\n",
              "        vertical-align: top;\n",
              "    }\n",
              "\n",
              "    .dataframe thead th {\n",
              "        text-align: right;\n",
              "    }\n",
              "</style>\n",
              "<table border=\"1\" class=\"dataframe\">\n",
              "  <thead>\n",
              "    <tr style=\"text-align: right;\">\n",
              "      <th></th>\n",
              "      <th>Name</th>\n",
              "      <th>Team</th>\n",
              "      <th>Number</th>\n",
              "      <th>Position</th>\n",
              "      <th>Age</th>\n",
              "      <th>Height</th>\n",
              "      <th>Weight</th>\n",
              "      <th>College</th>\n",
              "      <th>Salary</th>\n",
              "    </tr>\n",
              "  </thead>\n",
              "  <tbody>\n",
              "    <tr>\n",
              "      <th>count</th>\n",
              "      <td>364</td>\n",
              "      <td>364</td>\n",
              "      <td>364.000000</td>\n",
              "      <td>364</td>\n",
              "      <td>364.000000</td>\n",
              "      <td>364</td>\n",
              "      <td>364.000000</td>\n",
              "      <td>364</td>\n",
              "      <td>3.640000e+02</td>\n",
              "    </tr>\n",
              "    <tr>\n",
              "      <th>unique</th>\n",
              "      <td>364</td>\n",
              "      <td>30</td>\n",
              "      <td>NaN</td>\n",
              "      <td>5</td>\n",
              "      <td>NaN</td>\n",
              "      <td>17</td>\n",
              "      <td>NaN</td>\n",
              "      <td>115</td>\n",
              "      <td>NaN</td>\n",
              "    </tr>\n",
              "    <tr>\n",
              "      <th>top</th>\n",
              "      <td>Rodney Hood</td>\n",
              "      <td>New Orleans Pelicans</td>\n",
              "      <td>NaN</td>\n",
              "      <td>SG</td>\n",
              "      <td>NaN</td>\n",
              "      <td>6-9</td>\n",
              "      <td>NaN</td>\n",
              "      <td>Kentucky</td>\n",
              "      <td>NaN</td>\n",
              "    </tr>\n",
              "    <tr>\n",
              "      <th>freq</th>\n",
              "      <td>1</td>\n",
              "      <td>16</td>\n",
              "      <td>NaN</td>\n",
              "      <td>87</td>\n",
              "      <td>NaN</td>\n",
              "      <td>49</td>\n",
              "      <td>NaN</td>\n",
              "      <td>22</td>\n",
              "      <td>NaN</td>\n",
              "    </tr>\n",
              "    <tr>\n",
              "      <th>mean</th>\n",
              "      <td>NaN</td>\n",
              "      <td>NaN</td>\n",
              "      <td>16.829670</td>\n",
              "      <td>NaN</td>\n",
              "      <td>26.615385</td>\n",
              "      <td>NaN</td>\n",
              "      <td>219.785714</td>\n",
              "      <td>NaN</td>\n",
              "      <td>4.620311e+06</td>\n",
              "    </tr>\n",
              "    <tr>\n",
              "      <th>std</th>\n",
              "      <td>NaN</td>\n",
              "      <td>NaN</td>\n",
              "      <td>14.994162</td>\n",
              "      <td>NaN</td>\n",
              "      <td>4.233591</td>\n",
              "      <td>NaN</td>\n",
              "      <td>24.793099</td>\n",
              "      <td>NaN</td>\n",
              "      <td>5.119716e+06</td>\n",
              "    </tr>\n",
              "    <tr>\n",
              "      <th>min</th>\n",
              "      <td>NaN</td>\n",
              "      <td>NaN</td>\n",
              "      <td>0.000000</td>\n",
              "      <td>NaN</td>\n",
              "      <td>19.000000</td>\n",
              "      <td>NaN</td>\n",
              "      <td>161.000000</td>\n",
              "      <td>NaN</td>\n",
              "      <td>5.572200e+04</td>\n",
              "    </tr>\n",
              "    <tr>\n",
              "      <th>20%</th>\n",
              "      <td>NaN</td>\n",
              "      <td>NaN</td>\n",
              "      <td>4.000000</td>\n",
              "      <td>NaN</td>\n",
              "      <td>23.000000</td>\n",
              "      <td>NaN</td>\n",
              "      <td>195.000000</td>\n",
              "      <td>NaN</td>\n",
              "      <td>9.472760e+05</td>\n",
              "    </tr>\n",
              "    <tr>\n",
              "      <th>40%</th>\n",
              "      <td>NaN</td>\n",
              "      <td>NaN</td>\n",
              "      <td>9.000000</td>\n",
              "      <td>NaN</td>\n",
              "      <td>25.000000</td>\n",
              "      <td>NaN</td>\n",
              "      <td>212.000000</td>\n",
              "      <td>NaN</td>\n",
              "      <td>1.638754e+06</td>\n",
              "    </tr>\n",
              "    <tr>\n",
              "      <th>50%</th>\n",
              "      <td>NaN</td>\n",
              "      <td>NaN</td>\n",
              "      <td>12.000000</td>\n",
              "      <td>NaN</td>\n",
              "      <td>26.000000</td>\n",
              "      <td>NaN</td>\n",
              "      <td>220.000000</td>\n",
              "      <td>NaN</td>\n",
              "      <td>2.515440e+06</td>\n",
              "    </tr>\n",
              "    <tr>\n",
              "      <th>60%</th>\n",
              "      <td>NaN</td>\n",
              "      <td>NaN</td>\n",
              "      <td>17.000000</td>\n",
              "      <td>NaN</td>\n",
              "      <td>27.000000</td>\n",
              "      <td>NaN</td>\n",
              "      <td>228.000000</td>\n",
              "      <td>NaN</td>\n",
              "      <td>3.429934e+06</td>\n",
              "    </tr>\n",
              "    <tr>\n",
              "      <th>80%</th>\n",
              "      <td>NaN</td>\n",
              "      <td>NaN</td>\n",
              "      <td>30.000000</td>\n",
              "      <td>NaN</td>\n",
              "      <td>30.000000</td>\n",
              "      <td>NaN</td>\n",
              "      <td>242.400000</td>\n",
              "      <td>NaN</td>\n",
              "      <td>7.838202e+06</td>\n",
              "    </tr>\n",
              "    <tr>\n",
              "      <th>max</th>\n",
              "      <td>NaN</td>\n",
              "      <td>NaN</td>\n",
              "      <td>99.000000</td>\n",
              "      <td>NaN</td>\n",
              "      <td>40.000000</td>\n",
              "      <td>NaN</td>\n",
              "      <td>279.000000</td>\n",
              "      <td>NaN</td>\n",
              "      <td>2.287500e+07</td>\n",
              "    </tr>\n",
              "  </tbody>\n",
              "</table>\n",
              "</div>"
            ],
            "text/plain": [
              "               Name                  Team  ...   College        Salary\n",
              "count           364                   364  ...       364  3.640000e+02\n",
              "unique          364                    30  ...       115           NaN\n",
              "top     Rodney Hood  New Orleans Pelicans  ...  Kentucky           NaN\n",
              "freq              1                    16  ...        22           NaN\n",
              "mean            NaN                   NaN  ...       NaN  4.620311e+06\n",
              "std             NaN                   NaN  ...       NaN  5.119716e+06\n",
              "min             NaN                   NaN  ...       NaN  5.572200e+04\n",
              "20%             NaN                   NaN  ...       NaN  9.472760e+05\n",
              "40%             NaN                   NaN  ...       NaN  1.638754e+06\n",
              "50%             NaN                   NaN  ...       NaN  2.515440e+06\n",
              "60%             NaN                   NaN  ...       NaN  3.429934e+06\n",
              "80%             NaN                   NaN  ...       NaN  7.838202e+06\n",
              "max             NaN                   NaN  ...       NaN  2.287500e+07\n",
              "\n",
              "[13 rows x 9 columns]"
            ]
          },
          "metadata": {
            "tags": []
          },
          "execution_count": 47
        }
      ]
    },
    {
      "cell_type": "code",
      "metadata": {
        "id": "s6E0LSOLTm_n",
        "colab_type": "code",
        "colab": {
          "base_uri": "https://localhost:8080/",
          "height": 105
        },
        "outputId": "6a352271-895f-485a-f615-166a927ceb5e"
      },
      "source": [
        "# importing pandas module \n",
        "import pandas as pd \n",
        "\n",
        "# importing regex module \n",
        "import re \n",
        "\t\n",
        "# making data frame \n",
        "data = pd.read_csv('/content/nba.csv') \n",
        "\t\n",
        "# removing null values to avoid errors \n",
        "data.dropna(inplace = True) \n",
        "\n",
        "# calling describe method \n",
        "desc = data[\"Name\"].describe() \n",
        "\n",
        "# display \n",
        "desc "
      ],
      "execution_count": null,
      "outputs": [
        {
          "output_type": "execute_result",
          "data": {
            "text/plain": [
              "count             364\n",
              "unique            364\n",
              "top       Rodney Hood\n",
              "freq                1\n",
              "Name: Name, dtype: object"
            ]
          },
          "metadata": {
            "tags": []
          },
          "execution_count": 49
        }
      ]
    },
    {
      "cell_type": "markdown",
      "metadata": {
        "id": "dymBv071UJL8",
        "colab_type": "text"
      },
      "source": [
        "#### __`dataframe.to_numpy`__"
      ]
    },
    {
      "cell_type": "code",
      "metadata": {
        "id": "D05obyJmUMEs",
        "colab_type": "code",
        "colab": {
          "base_uri": "https://localhost:8080/",
          "height": 105
        },
        "outputId": "6169ab88-4587-4cc0-dfbc-cd39ff703a45"
      },
      "source": [
        "# importing pandas \n",
        "import pandas as pd  \n",
        "   \n",
        "# reading the csv   \n",
        "data = pd.read_csv('/content/nba.csv')  \n",
        "      \n",
        "data.dropna(inplace = True) \n",
        "   \n",
        "# creating DataFrame form weight column \n",
        "df = pd.DataFrame(data['Weight'].head()) \n",
        "   \n",
        "# using to_numpy() function \n",
        "df.to_numpy()"
      ],
      "execution_count": null,
      "outputs": [
        {
          "output_type": "execute_result",
          "data": {
            "text/plain": [
              "array([[180.],\n",
              "       [235.],\n",
              "       [185.],\n",
              "       [235.],\n",
              "       [238.]])"
            ]
          },
          "metadata": {
            "tags": []
          },
          "execution_count": 52
        }
      ]
    },
    {
      "cell_type": "code",
      "metadata": {
        "id": "xOi-_WSRWAqN",
        "colab_type": "code",
        "colab": {
          "base_uri": "https://localhost:8080/",
          "height": 105
        },
        "outputId": "39e0c5da-60ec-42f3-fc87-5aa36f3120b4"
      },
      "source": [
        "# providing dtype \n",
        "df.to_numpy(dtype ='float32')"
      ],
      "execution_count": null,
      "outputs": [
        {
          "output_type": "execute_result",
          "data": {
            "text/plain": [
              "array([[180.],\n",
              "       [235.],\n",
              "       [185.],\n",
              "       [235.],\n",
              "       [238.]], dtype=float32)"
            ]
          },
          "metadata": {
            "tags": []
          },
          "execution_count": 53
        }
      ]
    },
    {
      "cell_type": "code",
      "metadata": {
        "id": "RaXu3Cl1WZCB",
        "colab_type": "code",
        "colab": {
          "base_uri": "https://localhost:8080/",
          "height": 34
        },
        "outputId": "6a1e85e8-f1ef-4636-a063-65f32209d73b"
      },
      "source": [
        "type(df.to_numpy())"
      ],
      "execution_count": null,
      "outputs": [
        {
          "output_type": "execute_result",
          "data": {
            "text/plain": [
              "numpy.ndarray"
            ]
          },
          "metadata": {
            "tags": []
          },
          "execution_count": 54
        }
      ]
    },
    {
      "cell_type": "markdown",
      "metadata": {
        "id": "t4TPlvHcWwwN",
        "colab_type": "text"
      },
      "source": [
        "#### __`Series.to_numpy( )`__"
      ]
    },
    {
      "cell_type": "code",
      "metadata": {
        "id": "g2n-O_oDXKgZ",
        "colab_type": "code",
        "colab": {
          "base_uri": "https://localhost:8080/",
          "height": 34
        },
        "outputId": "92908143-c146-4201-c3b6-dbac61bcaa03"
      },
      "source": [
        "# creating series form weight column  \n",
        "df = pd.Series(data['Weight'].head()) \n",
        "  \n",
        "# using to_numpy() function \n",
        "df.to_numpy()"
      ],
      "execution_count": null,
      "outputs": [
        {
          "output_type": "execute_result",
          "data": {
            "text/plain": [
              "array([180., 235., 185., 235., 238.])"
            ]
          },
          "metadata": {
            "tags": []
          },
          "execution_count": 59
        }
      ]
    },
    {
      "cell_type": "code",
      "metadata": {
        "id": "QRepJ_9DX0RY",
        "colab_type": "code",
        "colab": {
          "base_uri": "https://localhost:8080/",
          "height": 34
        },
        "outputId": "4ac1d52c-1958-4bcc-9cbf-f6b1b22c66c1"
      },
      "source": [
        "# creating series form weight column  \n",
        "df = pd.Series(data['Weight'].head()) \n",
        "  \n",
        "# using to_numpy() function \n",
        "df.to_numpy(dtype ='float32')"
      ],
      "execution_count": null,
      "outputs": [
        {
          "output_type": "execute_result",
          "data": {
            "text/plain": [
              "array([180., 235., 185., 235., 238.], dtype=float32)"
            ]
          },
          "metadata": {
            "tags": []
          },
          "execution_count": 60
        }
      ]
    },
    {
      "cell_type": "markdown",
      "metadata": {
        "id": "UXJ3fIchYQAN",
        "colab_type": "text"
      },
      "source": [
        "#### __`Series.as_matrix( )`__ _Deprecated_"
      ]
    },
    {
      "cell_type": "markdown",
      "metadata": {
        "id": "ziFSF5wvZyQD",
        "colab_type": "text"
      },
      "source": [
        "$\\color{red}{\\text{NOTE}}$\n",
        "\n",
        "The purpose of `.as_matrix` method is to Convert the frame to its __Numpy-array__ representation.\n",
        "\n",
        "`as_matrix` method is deprecated __since `0.23.0`__\n",
        "\n",
        "\n",
        "`0.25.1` documentation says : Deprecated since version `0.23.0`: Use DataFrame.values() instead\n",
        "\n",
        "The two alternatives are\n",
        "\n",
        "- `.values()` : Returns numpy.ndarray\n",
        "\n",
        "- `.to_numpy()` : Returns numpy.ndarray"
      ]
    },
    {
      "cell_type": "markdown",
      "metadata": {
        "id": "i3VG5xjdbysM",
        "colab_type": "text"
      },
      "source": [
        "__The error TypeError__ `'numpy.ndarray' object is not callable` means that you tried to call a numpy array as a function."
      ]
    },
    {
      "cell_type": "code",
      "metadata": {
        "id": "oMJfP8QqYT22",
        "colab_type": "code",
        "colab": {
          "base_uri": "https://localhost:8080/",
          "height": 123
        },
        "outputId": "0b9d6e09-608b-4e0e-8468-fa6f94070f3d"
      },
      "source": [
        "# importing pandas as pd \n",
        "import pandas as pd \n",
        "  \n",
        "# Creating the Series \n",
        "sr = pd.Series(['New York', 'Chicago', 'Toronto', 'Lisbon', 'Rio']) \n",
        "  \n",
        "# Create the Index \n",
        "index_ = ['City 1', 'City 2', 'City 3', 'City 4', 'City 5']  \n",
        "  \n",
        "# set the index \n",
        "sr.index = index_ \n",
        "  \n",
        "# Print the series \n",
        "print(sr) "
      ],
      "execution_count": null,
      "outputs": [
        {
          "output_type": "stream",
          "text": [
            "City 1    New York\n",
            "City 2     Chicago\n",
            "City 3     Toronto\n",
            "City 4      Lisbon\n",
            "City 5         Rio\n",
            "dtype: object\n"
          ],
          "name": "stdout"
        }
      ]
    },
    {
      "cell_type": "markdown",
      "metadata": {
        "id": "MwB07UODcjfX",
        "colab_type": "text"
      },
      "source": [
        "#### __`DataFrame.values`__"
      ]
    },
    {
      "cell_type": "markdown",
      "metadata": {
        "id": "VS7Pv_f3cwAh",
        "colab_type": "text"
      },
      "source": [
        "`DataFrame.values` attribute return a Numpy representation of the given DataFrame."
      ]
    },
    {
      "cell_type": "code",
      "metadata": {
        "id": "8qOcoNHucpLS",
        "colab_type": "code",
        "colab": {
          "base_uri": "https://localhost:8080/",
          "height": 197
        },
        "outputId": "68d9df36-aa1b-43c9-9ec0-6f903fa5f56b"
      },
      "source": [
        "# importing pandas as pd \n",
        "import pandas as pd \n",
        "\n",
        "# Creating the DataFrame \n",
        "df = pd.DataFrame({'Weight':[45, 88, 56, 15, 71], \n",
        "\t\t\t\t'Name':['Sam', 'Andrea', 'Alex', 'Robin', 'Kia'], \n",
        "\t\t\t\t'Age':[14, 25, 55, 8, 21]}) \n",
        "\n",
        "# Print the DataFrame \n",
        "df.head()"
      ],
      "execution_count": null,
      "outputs": [
        {
          "output_type": "execute_result",
          "data": {
            "text/html": [
              "<div>\n",
              "<style scoped>\n",
              "    .dataframe tbody tr th:only-of-type {\n",
              "        vertical-align: middle;\n",
              "    }\n",
              "\n",
              "    .dataframe tbody tr th {\n",
              "        vertical-align: top;\n",
              "    }\n",
              "\n",
              "    .dataframe thead th {\n",
              "        text-align: right;\n",
              "    }\n",
              "</style>\n",
              "<table border=\"1\" class=\"dataframe\">\n",
              "  <thead>\n",
              "    <tr style=\"text-align: right;\">\n",
              "      <th></th>\n",
              "      <th>Weight</th>\n",
              "      <th>Name</th>\n",
              "      <th>Age</th>\n",
              "    </tr>\n",
              "  </thead>\n",
              "  <tbody>\n",
              "    <tr>\n",
              "      <th>0</th>\n",
              "      <td>45</td>\n",
              "      <td>Sam</td>\n",
              "      <td>14</td>\n",
              "    </tr>\n",
              "    <tr>\n",
              "      <th>1</th>\n",
              "      <td>88</td>\n",
              "      <td>Andrea</td>\n",
              "      <td>25</td>\n",
              "    </tr>\n",
              "    <tr>\n",
              "      <th>2</th>\n",
              "      <td>56</td>\n",
              "      <td>Alex</td>\n",
              "      <td>55</td>\n",
              "    </tr>\n",
              "    <tr>\n",
              "      <th>3</th>\n",
              "      <td>15</td>\n",
              "      <td>Robin</td>\n",
              "      <td>8</td>\n",
              "    </tr>\n",
              "    <tr>\n",
              "      <th>4</th>\n",
              "      <td>71</td>\n",
              "      <td>Kia</td>\n",
              "      <td>21</td>\n",
              "    </tr>\n",
              "  </tbody>\n",
              "</table>\n",
              "</div>"
            ],
            "text/plain": [
              "   Weight    Name  Age\n",
              "0      45     Sam   14\n",
              "1      88  Andrea   25\n",
              "2      56    Alex   55\n",
              "3      15   Robin    8\n",
              "4      71     Kia   21"
            ]
          },
          "metadata": {
            "tags": []
          },
          "execution_count": 73
        }
      ]
    },
    {
      "cell_type": "code",
      "metadata": {
        "id": "9H1g8rU-dIki",
        "colab_type": "code",
        "colab": {
          "base_uri": "https://localhost:8080/",
          "height": 105
        },
        "outputId": "41e6809d-2e45-478e-bdc9-58ba12cf1a34"
      },
      "source": [
        "# return the numpy representation of this dataframe \n",
        "df.values"
      ],
      "execution_count": null,
      "outputs": [
        {
          "output_type": "execute_result",
          "data": {
            "text/plain": [
              "array([[45, 'Sam', 14],\n",
              "       [88, 'Andrea', 25],\n",
              "       [56, 'Alex', 55],\n",
              "       [15, 'Robin', 8],\n",
              "       [71, 'Kia', 21]], dtype=object)"
            ]
          },
          "metadata": {
            "tags": []
          },
          "execution_count": 74
        }
      ]
    },
    {
      "cell_type": "code",
      "metadata": {
        "id": "YBdiUDmFdWrz",
        "colab_type": "code",
        "colab": {
          "base_uri": "https://localhost:8080/",
          "height": 197
        },
        "outputId": "1e62a561-25ea-4d3f-aa96-df1ec9912506"
      },
      "source": [
        "# importing pandas as pd \n",
        "import pandas as pd \n",
        "\n",
        "# Creating the DataFrame \n",
        "df = pd.DataFrame({\"A\":[12, 4, 5, None, 1], \n",
        "\t\t\t\t\"B\":[7, 2, 54, 3, None], \n",
        "\t\t\t\t\"C\":[20, 16, 11, 3, 8], \n",
        "\t\t\t\t\"D\":[14, 3, None, 2, 6]}) \n",
        "\n",
        "# Print the DataFrame \n",
        "df.head()"
      ],
      "execution_count": null,
      "outputs": [
        {
          "output_type": "execute_result",
          "data": {
            "text/html": [
              "<div>\n",
              "<style scoped>\n",
              "    .dataframe tbody tr th:only-of-type {\n",
              "        vertical-align: middle;\n",
              "    }\n",
              "\n",
              "    .dataframe tbody tr th {\n",
              "        vertical-align: top;\n",
              "    }\n",
              "\n",
              "    .dataframe thead th {\n",
              "        text-align: right;\n",
              "    }\n",
              "</style>\n",
              "<table border=\"1\" class=\"dataframe\">\n",
              "  <thead>\n",
              "    <tr style=\"text-align: right;\">\n",
              "      <th></th>\n",
              "      <th>A</th>\n",
              "      <th>B</th>\n",
              "      <th>C</th>\n",
              "      <th>D</th>\n",
              "    </tr>\n",
              "  </thead>\n",
              "  <tbody>\n",
              "    <tr>\n",
              "      <th>0</th>\n",
              "      <td>12.0</td>\n",
              "      <td>7.0</td>\n",
              "      <td>20</td>\n",
              "      <td>14.0</td>\n",
              "    </tr>\n",
              "    <tr>\n",
              "      <th>1</th>\n",
              "      <td>4.0</td>\n",
              "      <td>2.0</td>\n",
              "      <td>16</td>\n",
              "      <td>3.0</td>\n",
              "    </tr>\n",
              "    <tr>\n",
              "      <th>2</th>\n",
              "      <td>5.0</td>\n",
              "      <td>54.0</td>\n",
              "      <td>11</td>\n",
              "      <td>NaN</td>\n",
              "    </tr>\n",
              "    <tr>\n",
              "      <th>3</th>\n",
              "      <td>NaN</td>\n",
              "      <td>3.0</td>\n",
              "      <td>3</td>\n",
              "      <td>2.0</td>\n",
              "    </tr>\n",
              "    <tr>\n",
              "      <th>4</th>\n",
              "      <td>1.0</td>\n",
              "      <td>NaN</td>\n",
              "      <td>8</td>\n",
              "      <td>6.0</td>\n",
              "    </tr>\n",
              "  </tbody>\n",
              "</table>\n",
              "</div>"
            ],
            "text/plain": [
              "      A     B   C     D\n",
              "0  12.0   7.0  20  14.0\n",
              "1   4.0   2.0  16   3.0\n",
              "2   5.0  54.0  11   NaN\n",
              "3   NaN   3.0   3   2.0\n",
              "4   1.0   NaN   8   6.0"
            ]
          },
          "metadata": {
            "tags": []
          },
          "execution_count": 75
        }
      ]
    },
    {
      "cell_type": "code",
      "metadata": {
        "id": "NeVBKVTDdhJA",
        "colab_type": "code",
        "colab": {
          "base_uri": "https://localhost:8080/",
          "height": 105
        },
        "outputId": "d6f2e059-951d-43ad-deac-2b2466c3bd71"
      },
      "source": [
        "df.values\n"
      ],
      "execution_count": null,
      "outputs": [
        {
          "output_type": "execute_result",
          "data": {
            "text/plain": [
              "array([[12.,  7., 20., 14.],\n",
              "       [ 4.,  2., 16.,  3.],\n",
              "       [ 5., 54., 11., nan],\n",
              "       [nan,  3.,  3.,  2.],\n",
              "       [ 1., nan,  8.,  6.]])"
            ]
          },
          "metadata": {
            "tags": []
          },
          "execution_count": 76
        }
      ]
    },
    {
      "cell_type": "markdown",
      "metadata": {
        "id": "Dyi9zJBrb_g9",
        "colab_type": "text"
      },
      "source": [
        "## __4. Selection__"
      ]
    },
    {
      "cell_type": "markdown",
      "metadata": {
        "id": "vc1TSfa9j045",
        "colab_type": "text"
      },
      "source": [
        "### __4.1 Dealing with Columns:__"
      ]
    },
    {
      "cell_type": "markdown",
      "metadata": {
        "id": "a7ERQ2hMhcAH",
        "colab_type": "text"
      },
      "source": [
        "#### __a. Column Selection:__ "
      ]
    },
    {
      "cell_type": "code",
      "metadata": {
        "id": "OzR_BRCLb-29",
        "colab_type": "code",
        "colab": {
          "base_uri": "https://localhost:8080/",
          "height": 105
        },
        "outputId": "7f6a5d0c-80ac-4c0b-c4b8-ff41e4528d2c"
      },
      "source": [
        "# Import pandas package \n",
        "import pandas as pd \n",
        "  \n",
        "# Define a dictionary containing employee data \n",
        "data = {'Name':['Jai', 'Princi', 'Gaurav', 'Anuj'], \n",
        "        'Age':[27, 24, 22, 32], \n",
        "        'Address':['Delhi', 'Kanpur', 'Allahabad', 'Kannauj'], \n",
        "        'Qualification':['Msc', 'MA', 'MCA', 'Phd']} \n",
        "  \n",
        "# Convert the dictionary into DataFrame  \n",
        "df = pd.DataFrame(data) \n",
        "  \n",
        "# select two columns \n",
        "print(df[['Name', 'Qualification']]) "
      ],
      "execution_count": null,
      "outputs": [
        {
          "output_type": "stream",
          "text": [
            "     Name Qualification\n",
            "0     Jai           Msc\n",
            "1  Princi            MA\n",
            "2  Gaurav           MCA\n",
            "3    Anuj           Phd\n"
          ],
          "name": "stdout"
        }
      ]
    },
    {
      "cell_type": "markdown",
      "metadata": {
        "id": "hwFhr9ywh1Ir",
        "colab_type": "text"
      },
      "source": [
        "#### __b. Column Addition:__"
      ]
    },
    {
      "cell_type": "code",
      "metadata": {
        "id": "-9K2p4GYh01s",
        "colab_type": "code",
        "colab": {
          "base_uri": "https://localhost:8080/",
          "height": 105
        },
        "outputId": "109d1143-d7f3-455d-db07-507ed7be5d65"
      },
      "source": [
        "# Import pandas package  \n",
        "import pandas as pd \n",
        "  \n",
        "# Define a dictionary containing Students data \n",
        "data = {'Name': ['Jai', 'Princi', 'Gaurav', 'Anuj'], \n",
        "        'Height': [5.1, 6.2, 5.1, 5.2], \n",
        "        'Qualification': ['Msc', 'MA', 'Msc', 'Msc']} \n",
        "  \n",
        "# Convert the dictionary into DataFrame \n",
        "df = pd.DataFrame(data) \n",
        "  \n",
        "# Declare a list that is to be converted into a column \n",
        "address = ['Delhi', 'Bangalore', 'Chennai', 'Patna'] \n",
        "  \n",
        "# Using 'Address' as the column name \n",
        "# and equating it to the list \n",
        "df['Address'] = address \n",
        "  \n",
        "# Observe the result \n",
        "print(df) \n"
      ],
      "execution_count": null,
      "outputs": [
        {
          "output_type": "stream",
          "text": [
            "     Name  Height Qualification    Address\n",
            "0     Jai     5.1           Msc      Delhi\n",
            "1  Princi     6.2            MA  Bangalore\n",
            "2  Gaurav     5.1           Msc    Chennai\n",
            "3    Anuj     5.2           Msc      Patna\n"
          ],
          "name": "stdout"
        }
      ]
    },
    {
      "cell_type": "markdown",
      "metadata": {
        "id": "LVJVWL8wiJNl",
        "colab_type": "text"
      },
      "source": [
        "#### __c. Column Deletion:__"
      ]
    },
    {
      "cell_type": "code",
      "metadata": {
        "id": "zjTlh0nHa55R",
        "colab_type": "code",
        "colab": {
          "base_uri": "https://localhost:8080/",
          "height": 70
        },
        "outputId": "fadc7a94-9d2b-44db-f6a6-c1e0fd4e9616"
      },
      "source": [
        "# importing pandas module \n",
        "import pandas as pd \n",
        "  \n",
        "# making data frame from csv file \n",
        "data = pd.read_csv(\"nba.csv\", index_col =\"Name\" ) \n",
        "  \n",
        "data.columns"
      ],
      "execution_count": null,
      "outputs": [
        {
          "output_type": "execute_result",
          "data": {
            "text/plain": [
              "Index(['Team', 'Number', 'Position', 'Age', 'Height', 'Weight', 'College',\n",
              "       'Salary'],\n",
              "      dtype='object')"
            ]
          },
          "metadata": {
            "tags": []
          },
          "execution_count": 2
        }
      ]
    },
    {
      "cell_type": "code",
      "metadata": {
        "id": "hTD_AuUfisQm",
        "colab_type": "code",
        "colab": {
          "base_uri": "https://localhost:8080/",
          "height": 54
        },
        "outputId": "ae5f16aa-d70c-4e52-c9a9-8bba5e14c59b"
      },
      "source": [
        "# dropping passed columns \n",
        "data.drop([\"Team\", \"Weight\"], axis = 1, inplace = True) \n",
        "  \n",
        "data.columns"
      ],
      "execution_count": null,
      "outputs": [
        {
          "output_type": "execute_result",
          "data": {
            "text/plain": [
              "Index(['Number', 'Position', 'Age', 'Height', 'College', 'Salary'], dtype='object')"
            ]
          },
          "metadata": {
            "tags": []
          },
          "execution_count": 3
        }
      ]
    },
    {
      "cell_type": "markdown",
      "metadata": {
        "id": "uvK-Ge6tjszi",
        "colab_type": "text"
      },
      "source": [
        "### __4.2 Dealing with Rows:__"
      ]
    },
    {
      "cell_type": "markdown",
      "metadata": {
        "id": "JNWuikx2kwAN",
        "colab_type": "text"
      },
      "source": [
        "#### __a. Row Selection:__\n",
        "\n",
        "\n",
        "\n"
      ]
    },
    {
      "cell_type": "code",
      "metadata": {
        "id": "LhZx11Hzi_R7",
        "colab_type": "code",
        "colab": {
          "base_uri": "https://localhost:8080/",
          "height": 372
        },
        "outputId": "2757db7e-1bd1-4bb4-993e-cd439461abc2"
      },
      "source": [
        "# importing pandas package \n",
        "import pandas as pd \n",
        "  \n",
        "# making data frame from csv file \n",
        "data = pd.read_csv(\"nba.csv\", index_col =\"Name\") \n",
        "  \n",
        "# retrieving row by loc method \n",
        "first = data.loc[\"Avery Bradley\"] \n",
        "second = data.loc[\"R.J. Hunter\"] \n",
        "  \n",
        "  \n",
        "print(first, \"\\n\\n\\n\", second)"
      ],
      "execution_count": null,
      "outputs": [
        {
          "output_type": "stream",
          "text": [
            "Team        Boston Celtics\n",
            "Number                   0\n",
            "Position                PG\n",
            "Age                     25\n",
            "Height                 6-2\n",
            "Weight                 180\n",
            "College              Texas\n",
            "Salary         7.73034e+06\n",
            "Name: Avery Bradley, dtype: object \n",
            "\n",
            "\n",
            " Team        Boston Celtics\n",
            "Number                  28\n",
            "Position                SG\n",
            "Age                     22\n",
            "Height                 6-5\n",
            "Weight                 185\n",
            "College      Georgia State\n",
            "Salary         1.14864e+06\n",
            "Name: R.J. Hunter, dtype: object\n"
          ],
          "name": "stdout"
        }
      ]
    },
    {
      "cell_type": "markdown",
      "metadata": {
        "id": "8UuOqRchlGuz",
        "colab_type": "text"
      },
      "source": [
        "#### __b. Row Addition:__"
      ]
    },
    {
      "cell_type": "code",
      "metadata": {
        "id": "sedmDCzSlGTW",
        "colab_type": "code",
        "colab": {
          "base_uri": "https://localhost:8080/",
          "height": 473
        },
        "outputId": "7b6e2e00-2315-412c-c2fc-9e5089293109"
      },
      "source": [
        "# importing pandas module  \n",
        "import pandas as pd  \n",
        "    \n",
        "# making data frame  \n",
        "df = pd.read_csv(\"nba.csv\", index_col =\"Name\")  \n",
        "  \n",
        "df.head(10) \n",
        "  \n",
        "new_row = pd.DataFrame({'Name':'jhon', 'Team':'Boston', 'Number':3, \n",
        "                        'Position':'PG', 'Age':33, 'Height':'6-2', \n",
        "                        'Weight':189, 'College':'MIT', 'Salary':99999}, \n",
        "                                                            index =[0]) \n",
        "# simply concatenate both dataframes \n",
        "df = pd.concat([new_row, df]).reset_index(drop = True) \n",
        "df.head(-5)"
      ],
      "execution_count": null,
      "outputs": [
        {
          "output_type": "execute_result",
          "data": {
            "text/html": [
              "<div>\n",
              "<style scoped>\n",
              "    .dataframe tbody tr th:only-of-type {\n",
              "        vertical-align: middle;\n",
              "    }\n",
              "\n",
              "    .dataframe tbody tr th {\n",
              "        vertical-align: top;\n",
              "    }\n",
              "\n",
              "    .dataframe thead th {\n",
              "        text-align: right;\n",
              "    }\n",
              "</style>\n",
              "<table border=\"1\" class=\"dataframe\">\n",
              "  <thead>\n",
              "    <tr style=\"text-align: right;\">\n",
              "      <th></th>\n",
              "      <th>Name</th>\n",
              "      <th>Team</th>\n",
              "      <th>Number</th>\n",
              "      <th>Position</th>\n",
              "      <th>Age</th>\n",
              "      <th>Height</th>\n",
              "      <th>Weight</th>\n",
              "      <th>College</th>\n",
              "      <th>Salary</th>\n",
              "    </tr>\n",
              "  </thead>\n",
              "  <tbody>\n",
              "    <tr>\n",
              "      <th>0</th>\n",
              "      <td>jhon</td>\n",
              "      <td>Boston</td>\n",
              "      <td>3.0</td>\n",
              "      <td>PG</td>\n",
              "      <td>33.0</td>\n",
              "      <td>6-2</td>\n",
              "      <td>189.0</td>\n",
              "      <td>MIT</td>\n",
              "      <td>99999.0</td>\n",
              "    </tr>\n",
              "    <tr>\n",
              "      <th>1</th>\n",
              "      <td>NaN</td>\n",
              "      <td>Boston Celtics</td>\n",
              "      <td>0.0</td>\n",
              "      <td>PG</td>\n",
              "      <td>25.0</td>\n",
              "      <td>6-2</td>\n",
              "      <td>180.0</td>\n",
              "      <td>Texas</td>\n",
              "      <td>7730337.0</td>\n",
              "    </tr>\n",
              "    <tr>\n",
              "      <th>2</th>\n",
              "      <td>NaN</td>\n",
              "      <td>Boston Celtics</td>\n",
              "      <td>99.0</td>\n",
              "      <td>SF</td>\n",
              "      <td>25.0</td>\n",
              "      <td>6-6</td>\n",
              "      <td>235.0</td>\n",
              "      <td>Marquette</td>\n",
              "      <td>6796117.0</td>\n",
              "    </tr>\n",
              "    <tr>\n",
              "      <th>3</th>\n",
              "      <td>NaN</td>\n",
              "      <td>Boston Celtics</td>\n",
              "      <td>30.0</td>\n",
              "      <td>SG</td>\n",
              "      <td>27.0</td>\n",
              "      <td>6-5</td>\n",
              "      <td>205.0</td>\n",
              "      <td>Boston University</td>\n",
              "      <td>NaN</td>\n",
              "    </tr>\n",
              "    <tr>\n",
              "      <th>4</th>\n",
              "      <td>NaN</td>\n",
              "      <td>Boston Celtics</td>\n",
              "      <td>28.0</td>\n",
              "      <td>SG</td>\n",
              "      <td>22.0</td>\n",
              "      <td>6-5</td>\n",
              "      <td>185.0</td>\n",
              "      <td>Georgia State</td>\n",
              "      <td>1148640.0</td>\n",
              "    </tr>\n",
              "    <tr>\n",
              "      <th>...</th>\n",
              "      <td>...</td>\n",
              "      <td>...</td>\n",
              "      <td>...</td>\n",
              "      <td>...</td>\n",
              "      <td>...</td>\n",
              "      <td>...</td>\n",
              "      <td>...</td>\n",
              "      <td>...</td>\n",
              "      <td>...</td>\n",
              "    </tr>\n",
              "    <tr>\n",
              "      <th>449</th>\n",
              "      <td>NaN</td>\n",
              "      <td>Utah Jazz</td>\n",
              "      <td>20.0</td>\n",
              "      <td>SF</td>\n",
              "      <td>26.0</td>\n",
              "      <td>6-8</td>\n",
              "      <td>226.0</td>\n",
              "      <td>Butler</td>\n",
              "      <td>15409570.0</td>\n",
              "    </tr>\n",
              "    <tr>\n",
              "      <th>450</th>\n",
              "      <td>NaN</td>\n",
              "      <td>Utah Jazz</td>\n",
              "      <td>5.0</td>\n",
              "      <td>SG</td>\n",
              "      <td>23.0</td>\n",
              "      <td>6-8</td>\n",
              "      <td>206.0</td>\n",
              "      <td>Duke</td>\n",
              "      <td>1348440.0</td>\n",
              "    </tr>\n",
              "    <tr>\n",
              "      <th>451</th>\n",
              "      <td>NaN</td>\n",
              "      <td>Utah Jazz</td>\n",
              "      <td>2.0</td>\n",
              "      <td>SF</td>\n",
              "      <td>28.0</td>\n",
              "      <td>6-8</td>\n",
              "      <td>226.0</td>\n",
              "      <td>NaN</td>\n",
              "      <td>2050000.0</td>\n",
              "    </tr>\n",
              "    <tr>\n",
              "      <th>452</th>\n",
              "      <td>NaN</td>\n",
              "      <td>Utah Jazz</td>\n",
              "      <td>23.0</td>\n",
              "      <td>SF</td>\n",
              "      <td>26.0</td>\n",
              "      <td>6-6</td>\n",
              "      <td>206.0</td>\n",
              "      <td>Dayton</td>\n",
              "      <td>981348.0</td>\n",
              "    </tr>\n",
              "    <tr>\n",
              "      <th>453</th>\n",
              "      <td>NaN</td>\n",
              "      <td>Utah Jazz</td>\n",
              "      <td>41.0</td>\n",
              "      <td>PF</td>\n",
              "      <td>20.0</td>\n",
              "      <td>6-10</td>\n",
              "      <td>234.0</td>\n",
              "      <td>Kentucky</td>\n",
              "      <td>2239800.0</td>\n",
              "    </tr>\n",
              "  </tbody>\n",
              "</table>\n",
              "<p>454 rows × 9 columns</p>\n",
              "</div>"
            ],
            "text/plain": [
              "     Name            Team  Number  ... Weight            College      Salary\n",
              "0    jhon          Boston     3.0  ...  189.0                MIT     99999.0\n",
              "1     NaN  Boston Celtics     0.0  ...  180.0              Texas   7730337.0\n",
              "2     NaN  Boston Celtics    99.0  ...  235.0          Marquette   6796117.0\n",
              "3     NaN  Boston Celtics    30.0  ...  205.0  Boston University         NaN\n",
              "4     NaN  Boston Celtics    28.0  ...  185.0      Georgia State   1148640.0\n",
              "..    ...             ...     ...  ...    ...                ...         ...\n",
              "449   NaN       Utah Jazz    20.0  ...  226.0             Butler  15409570.0\n",
              "450   NaN       Utah Jazz     5.0  ...  206.0               Duke   1348440.0\n",
              "451   NaN       Utah Jazz     2.0  ...  226.0                NaN   2050000.0\n",
              "452   NaN       Utah Jazz    23.0  ...  206.0             Dayton    981348.0\n",
              "453   NaN       Utah Jazz    41.0  ...  234.0           Kentucky   2239800.0\n",
              "\n",
              "[454 rows x 9 columns]"
            ]
          },
          "metadata": {
            "tags": []
          },
          "execution_count": 10
        }
      ]
    },
    {
      "cell_type": "markdown",
      "metadata": {
        "id": "AyN7BAkztfLX",
        "colab_type": "text"
      },
      "source": [
        "#### __c. Row Deletion:__"
      ]
    },
    {
      "cell_type": "code",
      "metadata": {
        "id": "YmwF7rC8teqk",
        "colab_type": "code",
        "colab": {
          "base_uri": "https://localhost:8080/",
          "height": 553
        },
        "outputId": "350f22d5-6f53-4a8f-85b7-308968c59dbf"
      },
      "source": [
        "# importing pandas module \n",
        "import pandas as pd \n",
        "  \n",
        "# making data frame from csv file \n",
        "data = pd.read_csv(\"nba.csv\", index_col =\"Name\" ) \n",
        "  \n",
        "# dropping passed values \n",
        "data.drop([\"Avery Bradley\", \"John Holland\", \"R.J. Hunter\", \n",
        "                            \"R.J. Hunter\"], inplace = True) \n",
        "  \n",
        "# display \n",
        "data "
      ],
      "execution_count": null,
      "outputs": [
        {
          "output_type": "execute_result",
          "data": {
            "text/html": [
              "<div>\n",
              "<style scoped>\n",
              "    .dataframe tbody tr th:only-of-type {\n",
              "        vertical-align: middle;\n",
              "    }\n",
              "\n",
              "    .dataframe tbody tr th {\n",
              "        vertical-align: top;\n",
              "    }\n",
              "\n",
              "    .dataframe thead th {\n",
              "        text-align: right;\n",
              "    }\n",
              "</style>\n",
              "<table border=\"1\" class=\"dataframe\">\n",
              "  <thead>\n",
              "    <tr style=\"text-align: right;\">\n",
              "      <th></th>\n",
              "      <th>Team</th>\n",
              "      <th>Number</th>\n",
              "      <th>Position</th>\n",
              "      <th>Age</th>\n",
              "      <th>Height</th>\n",
              "      <th>Weight</th>\n",
              "      <th>College</th>\n",
              "      <th>Salary</th>\n",
              "    </tr>\n",
              "    <tr>\n",
              "      <th>Name</th>\n",
              "      <th></th>\n",
              "      <th></th>\n",
              "      <th></th>\n",
              "      <th></th>\n",
              "      <th></th>\n",
              "      <th></th>\n",
              "      <th></th>\n",
              "      <th></th>\n",
              "    </tr>\n",
              "  </thead>\n",
              "  <tbody>\n",
              "    <tr>\n",
              "      <th>Jae Crowder</th>\n",
              "      <td>Boston Celtics</td>\n",
              "      <td>99.0</td>\n",
              "      <td>SF</td>\n",
              "      <td>25.0</td>\n",
              "      <td>6-6</td>\n",
              "      <td>235.0</td>\n",
              "      <td>Marquette</td>\n",
              "      <td>6796117.0</td>\n",
              "    </tr>\n",
              "    <tr>\n",
              "      <th>Jonas Jerebko</th>\n",
              "      <td>Boston Celtics</td>\n",
              "      <td>8.0</td>\n",
              "      <td>PF</td>\n",
              "      <td>29.0</td>\n",
              "      <td>6-10</td>\n",
              "      <td>231.0</td>\n",
              "      <td>NaN</td>\n",
              "      <td>5000000.0</td>\n",
              "    </tr>\n",
              "    <tr>\n",
              "      <th>Amir Johnson</th>\n",
              "      <td>Boston Celtics</td>\n",
              "      <td>90.0</td>\n",
              "      <td>PF</td>\n",
              "      <td>29.0</td>\n",
              "      <td>6-9</td>\n",
              "      <td>240.0</td>\n",
              "      <td>NaN</td>\n",
              "      <td>12000000.0</td>\n",
              "    </tr>\n",
              "    <tr>\n",
              "      <th>Jordan Mickey</th>\n",
              "      <td>Boston Celtics</td>\n",
              "      <td>55.0</td>\n",
              "      <td>PF</td>\n",
              "      <td>21.0</td>\n",
              "      <td>6-8</td>\n",
              "      <td>235.0</td>\n",
              "      <td>LSU</td>\n",
              "      <td>1170960.0</td>\n",
              "    </tr>\n",
              "    <tr>\n",
              "      <th>Kelly Olynyk</th>\n",
              "      <td>Boston Celtics</td>\n",
              "      <td>41.0</td>\n",
              "      <td>C</td>\n",
              "      <td>25.0</td>\n",
              "      <td>7-0</td>\n",
              "      <td>238.0</td>\n",
              "      <td>Gonzaga</td>\n",
              "      <td>2165160.0</td>\n",
              "    </tr>\n",
              "    <tr>\n",
              "      <th>...</th>\n",
              "      <td>...</td>\n",
              "      <td>...</td>\n",
              "      <td>...</td>\n",
              "      <td>...</td>\n",
              "      <td>...</td>\n",
              "      <td>...</td>\n",
              "      <td>...</td>\n",
              "      <td>...</td>\n",
              "    </tr>\n",
              "    <tr>\n",
              "      <th>Shelvin Mack</th>\n",
              "      <td>Utah Jazz</td>\n",
              "      <td>8.0</td>\n",
              "      <td>PG</td>\n",
              "      <td>26.0</td>\n",
              "      <td>6-3</td>\n",
              "      <td>203.0</td>\n",
              "      <td>Butler</td>\n",
              "      <td>2433333.0</td>\n",
              "    </tr>\n",
              "    <tr>\n",
              "      <th>Raul Neto</th>\n",
              "      <td>Utah Jazz</td>\n",
              "      <td>25.0</td>\n",
              "      <td>PG</td>\n",
              "      <td>24.0</td>\n",
              "      <td>6-1</td>\n",
              "      <td>179.0</td>\n",
              "      <td>NaN</td>\n",
              "      <td>900000.0</td>\n",
              "    </tr>\n",
              "    <tr>\n",
              "      <th>Tibor Pleiss</th>\n",
              "      <td>Utah Jazz</td>\n",
              "      <td>21.0</td>\n",
              "      <td>C</td>\n",
              "      <td>26.0</td>\n",
              "      <td>7-3</td>\n",
              "      <td>256.0</td>\n",
              "      <td>NaN</td>\n",
              "      <td>2900000.0</td>\n",
              "    </tr>\n",
              "    <tr>\n",
              "      <th>Jeff Withey</th>\n",
              "      <td>Utah Jazz</td>\n",
              "      <td>24.0</td>\n",
              "      <td>C</td>\n",
              "      <td>26.0</td>\n",
              "      <td>7-0</td>\n",
              "      <td>231.0</td>\n",
              "      <td>Kansas</td>\n",
              "      <td>947276.0</td>\n",
              "    </tr>\n",
              "    <tr>\n",
              "      <th>NaN</th>\n",
              "      <td>NaN</td>\n",
              "      <td>NaN</td>\n",
              "      <td>NaN</td>\n",
              "      <td>NaN</td>\n",
              "      <td>NaN</td>\n",
              "      <td>NaN</td>\n",
              "      <td>NaN</td>\n",
              "      <td>NaN</td>\n",
              "    </tr>\n",
              "  </tbody>\n",
              "</table>\n",
              "<p>455 rows × 8 columns</p>\n",
              "</div>"
            ],
            "text/plain": [
              "                         Team  Number Position  ...  Weight    College      Salary\n",
              "Name                                            ...                               \n",
              "Jae Crowder    Boston Celtics    99.0       SF  ...   235.0  Marquette   6796117.0\n",
              "Jonas Jerebko  Boston Celtics     8.0       PF  ...   231.0        NaN   5000000.0\n",
              "Amir Johnson   Boston Celtics    90.0       PF  ...   240.0        NaN  12000000.0\n",
              "Jordan Mickey  Boston Celtics    55.0       PF  ...   235.0        LSU   1170960.0\n",
              "Kelly Olynyk   Boston Celtics    41.0        C  ...   238.0    Gonzaga   2165160.0\n",
              "...                       ...     ...      ...  ...     ...        ...         ...\n",
              "Shelvin Mack        Utah Jazz     8.0       PG  ...   203.0     Butler   2433333.0\n",
              "Raul Neto           Utah Jazz    25.0       PG  ...   179.0        NaN    900000.0\n",
              "Tibor Pleiss        Utah Jazz    21.0        C  ...   256.0        NaN   2900000.0\n",
              "Jeff Withey         Utah Jazz    24.0        C  ...   231.0     Kansas    947276.0\n",
              "NaN                       NaN     NaN      NaN  ...     NaN        NaN         NaN\n",
              "\n",
              "[455 rows x 8 columns]"
            ]
          },
          "metadata": {
            "tags": []
          },
          "execution_count": 11
        }
      ]
    },
    {
      "cell_type": "markdown",
      "metadata": {
        "id": "mMNXk80iuHt0",
        "colab_type": "text"
      },
      "source": [
        "### __4.3 Extracting rows using `.loc[]`__"
      ]
    },
    {
      "cell_type": "markdown",
      "metadata": {
        "id": "C1nrdtEIuWBA",
        "colab_type": "text"
      },
      "source": [
        "#### __a. Extracting single Row__"
      ]
    },
    {
      "cell_type": "code",
      "metadata": {
        "id": "Q5ypjY16lyEG",
        "colab_type": "code",
        "colab": {
          "base_uri": "https://localhost:8080/",
          "height": 372
        },
        "outputId": "9a9a08fe-137f-4586-effe-044bb1f92d16"
      },
      "source": [
        "# importing pandas package \n",
        "import pandas as pd \n",
        "  \n",
        "# making data frame from csv file \n",
        "data = pd.read_csv(\"nba.csv\", index_col =\"Name\") \n",
        "  \n",
        "# retrieving row by loc method \n",
        "first = data.loc[\"Avery Bradley\"] \n",
        "second = data.loc[\"R.J. Hunter\"] \n",
        "  \n",
        "  \n",
        "print(first, \"\\n\\n\\n\", second) "
      ],
      "execution_count": null,
      "outputs": [
        {
          "output_type": "stream",
          "text": [
            "Team        Boston Celtics\n",
            "Number                   0\n",
            "Position                PG\n",
            "Age                     25\n",
            "Height                 6-2\n",
            "Weight                 180\n",
            "College              Texas\n",
            "Salary         7.73034e+06\n",
            "Name: Avery Bradley, dtype: object \n",
            "\n",
            "\n",
            " Team        Boston Celtics\n",
            "Number                  28\n",
            "Position                SG\n",
            "Age                     22\n",
            "Height                 6-5\n",
            "Weight                 185\n",
            "College      Georgia State\n",
            "Salary         1.14864e+06\n",
            "Name: R.J. Hunter, dtype: object\n"
          ],
          "name": "stdout"
        }
      ]
    },
    {
      "cell_type": "markdown",
      "metadata": {
        "id": "FvrrgOLnwxM0",
        "colab_type": "text"
      },
      "source": [
        "#### __b. Multiple parameters__"
      ]
    },
    {
      "cell_type": "code",
      "metadata": {
        "id": "E-t48BS0wwyL",
        "colab_type": "code",
        "colab": {
          "base_uri": "https://localhost:8080/",
          "height": 188
        },
        "outputId": "0208a7b1-6d67-408c-a516-716ae7174ac8"
      },
      "source": [
        "# importing pandas package \n",
        "import pandas as pd \n",
        "  \n",
        "# making data frame from csv file \n",
        "data = pd.read_csv(\"nba.csv\", index_col =\"Name\") \n",
        "  \n",
        "# retrieving rows by loc method \n",
        "rows = data.loc[[\"Avery Bradley\", \"R.J. Hunter\"]] \n",
        "  \n",
        "# checking data type of rows \n",
        "print(type(rows)) \n",
        "  \n",
        "# display \n",
        "rows "
      ],
      "execution_count": null,
      "outputs": [
        {
          "output_type": "stream",
          "text": [
            "<class 'pandas.core.frame.DataFrame'>\n"
          ],
          "name": "stdout"
        },
        {
          "output_type": "execute_result",
          "data": {
            "text/html": [
              "<div>\n",
              "<style scoped>\n",
              "    .dataframe tbody tr th:only-of-type {\n",
              "        vertical-align: middle;\n",
              "    }\n",
              "\n",
              "    .dataframe tbody tr th {\n",
              "        vertical-align: top;\n",
              "    }\n",
              "\n",
              "    .dataframe thead th {\n",
              "        text-align: right;\n",
              "    }\n",
              "</style>\n",
              "<table border=\"1\" class=\"dataframe\">\n",
              "  <thead>\n",
              "    <tr style=\"text-align: right;\">\n",
              "      <th></th>\n",
              "      <th>Team</th>\n",
              "      <th>Number</th>\n",
              "      <th>Position</th>\n",
              "      <th>Age</th>\n",
              "      <th>Height</th>\n",
              "      <th>Weight</th>\n",
              "      <th>College</th>\n",
              "      <th>Salary</th>\n",
              "    </tr>\n",
              "    <tr>\n",
              "      <th>Name</th>\n",
              "      <th></th>\n",
              "      <th></th>\n",
              "      <th></th>\n",
              "      <th></th>\n",
              "      <th></th>\n",
              "      <th></th>\n",
              "      <th></th>\n",
              "      <th></th>\n",
              "    </tr>\n",
              "  </thead>\n",
              "  <tbody>\n",
              "    <tr>\n",
              "      <th>Avery Bradley</th>\n",
              "      <td>Boston Celtics</td>\n",
              "      <td>0.0</td>\n",
              "      <td>PG</td>\n",
              "      <td>25.0</td>\n",
              "      <td>6-2</td>\n",
              "      <td>180.0</td>\n",
              "      <td>Texas</td>\n",
              "      <td>7730337.0</td>\n",
              "    </tr>\n",
              "    <tr>\n",
              "      <th>R.J. Hunter</th>\n",
              "      <td>Boston Celtics</td>\n",
              "      <td>28.0</td>\n",
              "      <td>SG</td>\n",
              "      <td>22.0</td>\n",
              "      <td>6-5</td>\n",
              "      <td>185.0</td>\n",
              "      <td>Georgia State</td>\n",
              "      <td>1148640.0</td>\n",
              "    </tr>\n",
              "  </tbody>\n",
              "</table>\n",
              "</div>"
            ],
            "text/plain": [
              "                         Team  Number  ...        College     Salary\n",
              "Name                                   ...                          \n",
              "Avery Bradley  Boston Celtics     0.0  ...          Texas  7730337.0\n",
              "R.J. Hunter    Boston Celtics    28.0  ...  Georgia State  1148640.0\n",
              "\n",
              "[2 rows x 8 columns]"
            ]
          },
          "metadata": {
            "tags": []
          },
          "execution_count": 13
        }
      ]
    },
    {
      "cell_type": "markdown",
      "metadata": {
        "id": "q61FxRpXxAwI",
        "colab_type": "text"
      },
      "source": [
        "#### __c. multiple rows with same index__"
      ]
    },
    {
      "cell_type": "code",
      "metadata": {
        "id": "H_qMBtQoxWQK",
        "colab_type": "code",
        "colab": {
          "base_uri": "https://localhost:8080/",
          "height": 795
        },
        "outputId": "0d36aae0-7385-4883-faf4-dc690aadedce"
      },
      "source": [
        "# importing pandas package \n",
        "import pandas as pd \n",
        "  \n",
        "# making data frame from csv file \n",
        "data = pd.read_csv(\"nba.csv\", index_col =\"Team\") \n",
        "  \n",
        "# retrieving rows by loc method \n",
        "rows = data.loc[\"Utah Jazz\"] \n",
        "  \n",
        "# checking data type of rows \n",
        "print(type(rows)) \n",
        "  \n",
        "# display \n",
        "rows "
      ],
      "execution_count": null,
      "outputs": [
        {
          "output_type": "stream",
          "text": [
            "<class 'pandas.core.frame.DataFrame'>\n"
          ],
          "name": "stdout"
        },
        {
          "output_type": "execute_result",
          "data": {
            "text/html": [
              "<div>\n",
              "<style scoped>\n",
              "    .dataframe tbody tr th:only-of-type {\n",
              "        vertical-align: middle;\n",
              "    }\n",
              "\n",
              "    .dataframe tbody tr th {\n",
              "        vertical-align: top;\n",
              "    }\n",
              "\n",
              "    .dataframe thead th {\n",
              "        text-align: right;\n",
              "    }\n",
              "</style>\n",
              "<table border=\"1\" class=\"dataframe\">\n",
              "  <thead>\n",
              "    <tr style=\"text-align: right;\">\n",
              "      <th></th>\n",
              "      <th>Name</th>\n",
              "      <th>Number</th>\n",
              "      <th>Position</th>\n",
              "      <th>Age</th>\n",
              "      <th>Height</th>\n",
              "      <th>Weight</th>\n",
              "      <th>College</th>\n",
              "      <th>Salary</th>\n",
              "    </tr>\n",
              "    <tr>\n",
              "      <th>Team</th>\n",
              "      <th></th>\n",
              "      <th></th>\n",
              "      <th></th>\n",
              "      <th></th>\n",
              "      <th></th>\n",
              "      <th></th>\n",
              "      <th></th>\n",
              "      <th></th>\n",
              "    </tr>\n",
              "  </thead>\n",
              "  <tbody>\n",
              "    <tr>\n",
              "      <th>Utah Jazz</th>\n",
              "      <td>Trevor Booker</td>\n",
              "      <td>33.0</td>\n",
              "      <td>PF</td>\n",
              "      <td>28.0</td>\n",
              "      <td>6-8</td>\n",
              "      <td>228.0</td>\n",
              "      <td>Clemson</td>\n",
              "      <td>4775000.0</td>\n",
              "    </tr>\n",
              "    <tr>\n",
              "      <th>Utah Jazz</th>\n",
              "      <td>Trey Burke</td>\n",
              "      <td>3.0</td>\n",
              "      <td>PG</td>\n",
              "      <td>23.0</td>\n",
              "      <td>6-1</td>\n",
              "      <td>191.0</td>\n",
              "      <td>Michigan</td>\n",
              "      <td>2658240.0</td>\n",
              "    </tr>\n",
              "    <tr>\n",
              "      <th>Utah Jazz</th>\n",
              "      <td>Alec Burks</td>\n",
              "      <td>10.0</td>\n",
              "      <td>SG</td>\n",
              "      <td>24.0</td>\n",
              "      <td>6-6</td>\n",
              "      <td>214.0</td>\n",
              "      <td>Colorado</td>\n",
              "      <td>9463484.0</td>\n",
              "    </tr>\n",
              "    <tr>\n",
              "      <th>Utah Jazz</th>\n",
              "      <td>Dante Exum</td>\n",
              "      <td>11.0</td>\n",
              "      <td>PG</td>\n",
              "      <td>20.0</td>\n",
              "      <td>6-6</td>\n",
              "      <td>190.0</td>\n",
              "      <td>NaN</td>\n",
              "      <td>3777720.0</td>\n",
              "    </tr>\n",
              "    <tr>\n",
              "      <th>Utah Jazz</th>\n",
              "      <td>Derrick Favors</td>\n",
              "      <td>15.0</td>\n",
              "      <td>PF</td>\n",
              "      <td>24.0</td>\n",
              "      <td>6-10</td>\n",
              "      <td>265.0</td>\n",
              "      <td>Georgia Tech</td>\n",
              "      <td>12000000.0</td>\n",
              "    </tr>\n",
              "    <tr>\n",
              "      <th>Utah Jazz</th>\n",
              "      <td>Rudy Gobert</td>\n",
              "      <td>27.0</td>\n",
              "      <td>C</td>\n",
              "      <td>23.0</td>\n",
              "      <td>7-1</td>\n",
              "      <td>245.0</td>\n",
              "      <td>NaN</td>\n",
              "      <td>1175880.0</td>\n",
              "    </tr>\n",
              "    <tr>\n",
              "      <th>Utah Jazz</th>\n",
              "      <td>Gordon Hayward</td>\n",
              "      <td>20.0</td>\n",
              "      <td>SF</td>\n",
              "      <td>26.0</td>\n",
              "      <td>6-8</td>\n",
              "      <td>226.0</td>\n",
              "      <td>Butler</td>\n",
              "      <td>15409570.0</td>\n",
              "    </tr>\n",
              "    <tr>\n",
              "      <th>Utah Jazz</th>\n",
              "      <td>Rodney Hood</td>\n",
              "      <td>5.0</td>\n",
              "      <td>SG</td>\n",
              "      <td>23.0</td>\n",
              "      <td>6-8</td>\n",
              "      <td>206.0</td>\n",
              "      <td>Duke</td>\n",
              "      <td>1348440.0</td>\n",
              "    </tr>\n",
              "    <tr>\n",
              "      <th>Utah Jazz</th>\n",
              "      <td>Joe Ingles</td>\n",
              "      <td>2.0</td>\n",
              "      <td>SF</td>\n",
              "      <td>28.0</td>\n",
              "      <td>6-8</td>\n",
              "      <td>226.0</td>\n",
              "      <td>NaN</td>\n",
              "      <td>2050000.0</td>\n",
              "    </tr>\n",
              "    <tr>\n",
              "      <th>Utah Jazz</th>\n",
              "      <td>Chris Johnson</td>\n",
              "      <td>23.0</td>\n",
              "      <td>SF</td>\n",
              "      <td>26.0</td>\n",
              "      <td>6-6</td>\n",
              "      <td>206.0</td>\n",
              "      <td>Dayton</td>\n",
              "      <td>981348.0</td>\n",
              "    </tr>\n",
              "    <tr>\n",
              "      <th>Utah Jazz</th>\n",
              "      <td>Trey Lyles</td>\n",
              "      <td>41.0</td>\n",
              "      <td>PF</td>\n",
              "      <td>20.0</td>\n",
              "      <td>6-10</td>\n",
              "      <td>234.0</td>\n",
              "      <td>Kentucky</td>\n",
              "      <td>2239800.0</td>\n",
              "    </tr>\n",
              "    <tr>\n",
              "      <th>Utah Jazz</th>\n",
              "      <td>Shelvin Mack</td>\n",
              "      <td>8.0</td>\n",
              "      <td>PG</td>\n",
              "      <td>26.0</td>\n",
              "      <td>6-3</td>\n",
              "      <td>203.0</td>\n",
              "      <td>Butler</td>\n",
              "      <td>2433333.0</td>\n",
              "    </tr>\n",
              "    <tr>\n",
              "      <th>Utah Jazz</th>\n",
              "      <td>Raul Neto</td>\n",
              "      <td>25.0</td>\n",
              "      <td>PG</td>\n",
              "      <td>24.0</td>\n",
              "      <td>6-1</td>\n",
              "      <td>179.0</td>\n",
              "      <td>NaN</td>\n",
              "      <td>900000.0</td>\n",
              "    </tr>\n",
              "    <tr>\n",
              "      <th>Utah Jazz</th>\n",
              "      <td>Tibor Pleiss</td>\n",
              "      <td>21.0</td>\n",
              "      <td>C</td>\n",
              "      <td>26.0</td>\n",
              "      <td>7-3</td>\n",
              "      <td>256.0</td>\n",
              "      <td>NaN</td>\n",
              "      <td>2900000.0</td>\n",
              "    </tr>\n",
              "    <tr>\n",
              "      <th>Utah Jazz</th>\n",
              "      <td>Jeff Withey</td>\n",
              "      <td>24.0</td>\n",
              "      <td>C</td>\n",
              "      <td>26.0</td>\n",
              "      <td>7-0</td>\n",
              "      <td>231.0</td>\n",
              "      <td>Kansas</td>\n",
              "      <td>947276.0</td>\n",
              "    </tr>\n",
              "  </tbody>\n",
              "</table>\n",
              "</div>"
            ],
            "text/plain": [
              "                     Name  Number Position  ...  Weight       College      Salary\n",
              "Team                                        ...                                  \n",
              "Utah Jazz   Trevor Booker    33.0       PF  ...   228.0       Clemson   4775000.0\n",
              "Utah Jazz      Trey Burke     3.0       PG  ...   191.0      Michigan   2658240.0\n",
              "Utah Jazz      Alec Burks    10.0       SG  ...   214.0      Colorado   9463484.0\n",
              "Utah Jazz      Dante Exum    11.0       PG  ...   190.0           NaN   3777720.0\n",
              "Utah Jazz  Derrick Favors    15.0       PF  ...   265.0  Georgia Tech  12000000.0\n",
              "Utah Jazz     Rudy Gobert    27.0        C  ...   245.0           NaN   1175880.0\n",
              "Utah Jazz  Gordon Hayward    20.0       SF  ...   226.0        Butler  15409570.0\n",
              "Utah Jazz     Rodney Hood     5.0       SG  ...   206.0          Duke   1348440.0\n",
              "Utah Jazz      Joe Ingles     2.0       SF  ...   226.0           NaN   2050000.0\n",
              "Utah Jazz   Chris Johnson    23.0       SF  ...   206.0        Dayton    981348.0\n",
              "Utah Jazz      Trey Lyles    41.0       PF  ...   234.0      Kentucky   2239800.0\n",
              "Utah Jazz    Shelvin Mack     8.0       PG  ...   203.0        Butler   2433333.0\n",
              "Utah Jazz       Raul Neto    25.0       PG  ...   179.0           NaN    900000.0\n",
              "Utah Jazz    Tibor Pleiss    21.0        C  ...   256.0           NaN   2900000.0\n",
              "Utah Jazz     Jeff Withey    24.0        C  ...   231.0        Kansas    947276.0\n",
              "\n",
              "[15 rows x 8 columns]"
            ]
          },
          "metadata": {
            "tags": []
          },
          "execution_count": 14
        }
      ]
    },
    {
      "cell_type": "markdown",
      "metadata": {
        "id": "n8bua6NjxhI-",
        "colab_type": "text"
      },
      "source": [
        "#### __d. rows between two index labels__"
      ]
    },
    {
      "cell_type": "code",
      "metadata": {
        "id": "EKbkq3F4xm5i",
        "colab_type": "code",
        "colab": {
          "base_uri": "https://localhost:8080/",
          "height": 655
        },
        "outputId": "c4db6b4a-d775-48b0-f188-b463fbef808b"
      },
      "source": [
        "# importing pandas package \n",
        "import pandas as pd \n",
        "  \n",
        "# making data frame from csv file \n",
        "data = pd.read_csv(\"nba.csv\", index_col =\"Name\") \n",
        "  \n",
        "# retrieving rows by loc method \n",
        "rows = data.loc[\"Avery Bradley\":\"Isaiah Thomas\"] \n",
        "  \n",
        "# checking data type of rows \n",
        "print(type(rows)) \n",
        "  \n",
        "# display \n",
        "rows "
      ],
      "execution_count": null,
      "outputs": [
        {
          "output_type": "stream",
          "text": [
            "<class 'pandas.core.frame.DataFrame'>\n"
          ],
          "name": "stdout"
        },
        {
          "output_type": "execute_result",
          "data": {
            "text/html": [
              "<div>\n",
              "<style scoped>\n",
              "    .dataframe tbody tr th:only-of-type {\n",
              "        vertical-align: middle;\n",
              "    }\n",
              "\n",
              "    .dataframe tbody tr th {\n",
              "        vertical-align: top;\n",
              "    }\n",
              "\n",
              "    .dataframe thead th {\n",
              "        text-align: right;\n",
              "    }\n",
              "</style>\n",
              "<table border=\"1\" class=\"dataframe\">\n",
              "  <thead>\n",
              "    <tr style=\"text-align: right;\">\n",
              "      <th></th>\n",
              "      <th>Team</th>\n",
              "      <th>Number</th>\n",
              "      <th>Position</th>\n",
              "      <th>Age</th>\n",
              "      <th>Height</th>\n",
              "      <th>Weight</th>\n",
              "      <th>College</th>\n",
              "      <th>Salary</th>\n",
              "    </tr>\n",
              "    <tr>\n",
              "      <th>Name</th>\n",
              "      <th></th>\n",
              "      <th></th>\n",
              "      <th></th>\n",
              "      <th></th>\n",
              "      <th></th>\n",
              "      <th></th>\n",
              "      <th></th>\n",
              "      <th></th>\n",
              "    </tr>\n",
              "  </thead>\n",
              "  <tbody>\n",
              "    <tr>\n",
              "      <th>Avery Bradley</th>\n",
              "      <td>Boston Celtics</td>\n",
              "      <td>0.0</td>\n",
              "      <td>PG</td>\n",
              "      <td>25.0</td>\n",
              "      <td>6-2</td>\n",
              "      <td>180.0</td>\n",
              "      <td>Texas</td>\n",
              "      <td>7730337.0</td>\n",
              "    </tr>\n",
              "    <tr>\n",
              "      <th>Jae Crowder</th>\n",
              "      <td>Boston Celtics</td>\n",
              "      <td>99.0</td>\n",
              "      <td>SF</td>\n",
              "      <td>25.0</td>\n",
              "      <td>6-6</td>\n",
              "      <td>235.0</td>\n",
              "      <td>Marquette</td>\n",
              "      <td>6796117.0</td>\n",
              "    </tr>\n",
              "    <tr>\n",
              "      <th>John Holland</th>\n",
              "      <td>Boston Celtics</td>\n",
              "      <td>30.0</td>\n",
              "      <td>SG</td>\n",
              "      <td>27.0</td>\n",
              "      <td>6-5</td>\n",
              "      <td>205.0</td>\n",
              "      <td>Boston University</td>\n",
              "      <td>NaN</td>\n",
              "    </tr>\n",
              "    <tr>\n",
              "      <th>R.J. Hunter</th>\n",
              "      <td>Boston Celtics</td>\n",
              "      <td>28.0</td>\n",
              "      <td>SG</td>\n",
              "      <td>22.0</td>\n",
              "      <td>6-5</td>\n",
              "      <td>185.0</td>\n",
              "      <td>Georgia State</td>\n",
              "      <td>1148640.0</td>\n",
              "    </tr>\n",
              "    <tr>\n",
              "      <th>Jonas Jerebko</th>\n",
              "      <td>Boston Celtics</td>\n",
              "      <td>8.0</td>\n",
              "      <td>PF</td>\n",
              "      <td>29.0</td>\n",
              "      <td>6-10</td>\n",
              "      <td>231.0</td>\n",
              "      <td>NaN</td>\n",
              "      <td>5000000.0</td>\n",
              "    </tr>\n",
              "    <tr>\n",
              "      <th>Amir Johnson</th>\n",
              "      <td>Boston Celtics</td>\n",
              "      <td>90.0</td>\n",
              "      <td>PF</td>\n",
              "      <td>29.0</td>\n",
              "      <td>6-9</td>\n",
              "      <td>240.0</td>\n",
              "      <td>NaN</td>\n",
              "      <td>12000000.0</td>\n",
              "    </tr>\n",
              "    <tr>\n",
              "      <th>Jordan Mickey</th>\n",
              "      <td>Boston Celtics</td>\n",
              "      <td>55.0</td>\n",
              "      <td>PF</td>\n",
              "      <td>21.0</td>\n",
              "      <td>6-8</td>\n",
              "      <td>235.0</td>\n",
              "      <td>LSU</td>\n",
              "      <td>1170960.0</td>\n",
              "    </tr>\n",
              "    <tr>\n",
              "      <th>Kelly Olynyk</th>\n",
              "      <td>Boston Celtics</td>\n",
              "      <td>41.0</td>\n",
              "      <td>C</td>\n",
              "      <td>25.0</td>\n",
              "      <td>7-0</td>\n",
              "      <td>238.0</td>\n",
              "      <td>Gonzaga</td>\n",
              "      <td>2165160.0</td>\n",
              "    </tr>\n",
              "    <tr>\n",
              "      <th>Terry Rozier</th>\n",
              "      <td>Boston Celtics</td>\n",
              "      <td>12.0</td>\n",
              "      <td>PG</td>\n",
              "      <td>22.0</td>\n",
              "      <td>6-2</td>\n",
              "      <td>190.0</td>\n",
              "      <td>Louisville</td>\n",
              "      <td>1824360.0</td>\n",
              "    </tr>\n",
              "    <tr>\n",
              "      <th>Marcus Smart</th>\n",
              "      <td>Boston Celtics</td>\n",
              "      <td>36.0</td>\n",
              "      <td>PG</td>\n",
              "      <td>22.0</td>\n",
              "      <td>6-4</td>\n",
              "      <td>220.0</td>\n",
              "      <td>Oklahoma State</td>\n",
              "      <td>3431040.0</td>\n",
              "    </tr>\n",
              "    <tr>\n",
              "      <th>Jared Sullinger</th>\n",
              "      <td>Boston Celtics</td>\n",
              "      <td>7.0</td>\n",
              "      <td>C</td>\n",
              "      <td>24.0</td>\n",
              "      <td>6-9</td>\n",
              "      <td>260.0</td>\n",
              "      <td>Ohio State</td>\n",
              "      <td>2569260.0</td>\n",
              "    </tr>\n",
              "    <tr>\n",
              "      <th>Isaiah Thomas</th>\n",
              "      <td>Boston Celtics</td>\n",
              "      <td>4.0</td>\n",
              "      <td>PG</td>\n",
              "      <td>27.0</td>\n",
              "      <td>5-9</td>\n",
              "      <td>185.0</td>\n",
              "      <td>Washington</td>\n",
              "      <td>6912869.0</td>\n",
              "    </tr>\n",
              "  </tbody>\n",
              "</table>\n",
              "</div>"
            ],
            "text/plain": [
              "                           Team  Number  ...            College      Salary\n",
              "Name                                     ...                               \n",
              "Avery Bradley    Boston Celtics     0.0  ...              Texas   7730337.0\n",
              "Jae Crowder      Boston Celtics    99.0  ...          Marquette   6796117.0\n",
              "John Holland     Boston Celtics    30.0  ...  Boston University         NaN\n",
              "R.J. Hunter      Boston Celtics    28.0  ...      Georgia State   1148640.0\n",
              "Jonas Jerebko    Boston Celtics     8.0  ...                NaN   5000000.0\n",
              "Amir Johnson     Boston Celtics    90.0  ...                NaN  12000000.0\n",
              "Jordan Mickey    Boston Celtics    55.0  ...                LSU   1170960.0\n",
              "Kelly Olynyk     Boston Celtics    41.0  ...            Gonzaga   2165160.0\n",
              "Terry Rozier     Boston Celtics    12.0  ...         Louisville   1824360.0\n",
              "Marcus Smart     Boston Celtics    36.0  ...     Oklahoma State   3431040.0\n",
              "Jared Sullinger  Boston Celtics     7.0  ...         Ohio State   2569260.0\n",
              "Isaiah Thomas    Boston Celtics     4.0  ...         Washington   6912869.0\n",
              "\n",
              "[12 rows x 8 columns]"
            ]
          },
          "metadata": {
            "tags": []
          },
          "execution_count": 15
        }
      ]
    },
    {
      "cell_type": "markdown",
      "metadata": {
        "id": "IKox0sMXy7FP",
        "colab_type": "text"
      },
      "source": [
        "### __4.4 Extracting rows using `.iloc[]`__"
      ]
    },
    {
      "cell_type": "markdown",
      "metadata": {
        "id": "N_z2kkH31KzE",
        "colab_type": "text"
      },
      "source": [
        "#### __a. Extracting single row and comparing with `.loc[]`__"
      ]
    },
    {
      "cell_type": "code",
      "metadata": {
        "id": "uEjC9RoBzMfh",
        "colab_type": "code",
        "colab": {
          "base_uri": "https://localhost:8080/",
          "height": 194
        },
        "outputId": "67f79ce0-515a-4b5d-fa24-36a8815c7967"
      },
      "source": [
        "# importing pandas package \n",
        "import pandas as pd \n",
        "  \n",
        "# making data frame from csv file  \n",
        "data = pd.read_csv(\"nba.csv\") \n",
        "  \n",
        "# retrieving rows by loc method  \n",
        "row1 = data.loc[3] \n",
        "  \n",
        "# retrieving rows by iloc method \n",
        "row2 = data.iloc[3] \n",
        "  \n",
        "# checking if values are equal \n",
        "row1 == row2"
      ],
      "execution_count": null,
      "outputs": [
        {
          "output_type": "execute_result",
          "data": {
            "text/plain": [
              "Name        True\n",
              "Team        True\n",
              "Number      True\n",
              "Position    True\n",
              "Age         True\n",
              "Height      True\n",
              "Weight      True\n",
              "College     True\n",
              "Salary      True\n",
              "Name: 3, dtype: bool"
            ]
          },
          "metadata": {
            "tags": []
          },
          "execution_count": 16
        }
      ]
    },
    {
      "cell_type": "markdown",
      "metadata": {
        "id": "Khuh84P11XAc",
        "colab_type": "text"
      },
      "source": [
        "#### __b. Extracting multiple rows with index__"
      ]
    },
    {
      "cell_type": "code",
      "metadata": {
        "id": "ohiFhP0d0_qW",
        "colab_type": "code",
        "colab": {
          "base_uri": "https://localhost:8080/",
          "height": 167
        },
        "outputId": "2cb1b762-328f-4efc-bae2-98cf15752a70"
      },
      "source": [
        "# importing pandas package \n",
        "import pandas as pd \n",
        "  \n",
        "# making data frame from csv file  \n",
        "data = pd.read_csv(\"nba.csv\") \n",
        "  \n",
        "# retrieving rows by loc method  \n",
        "row1 = data.iloc[[4, 5, 6, 7]] \n",
        "  \n",
        "# retrieving rows by loc method  \n",
        "row2 = data.iloc[4:8] \n",
        "  \n",
        "# comparing values \n",
        "row1 == row2 "
      ],
      "execution_count": null,
      "outputs": [
        {
          "output_type": "execute_result",
          "data": {
            "text/html": [
              "<div>\n",
              "<style scoped>\n",
              "    .dataframe tbody tr th:only-of-type {\n",
              "        vertical-align: middle;\n",
              "    }\n",
              "\n",
              "    .dataframe tbody tr th {\n",
              "        vertical-align: top;\n",
              "    }\n",
              "\n",
              "    .dataframe thead th {\n",
              "        text-align: right;\n",
              "    }\n",
              "</style>\n",
              "<table border=\"1\" class=\"dataframe\">\n",
              "  <thead>\n",
              "    <tr style=\"text-align: right;\">\n",
              "      <th></th>\n",
              "      <th>Name</th>\n",
              "      <th>Team</th>\n",
              "      <th>Number</th>\n",
              "      <th>Position</th>\n",
              "      <th>Age</th>\n",
              "      <th>Height</th>\n",
              "      <th>Weight</th>\n",
              "      <th>College</th>\n",
              "      <th>Salary</th>\n",
              "    </tr>\n",
              "  </thead>\n",
              "  <tbody>\n",
              "    <tr>\n",
              "      <th>4</th>\n",
              "      <td>True</td>\n",
              "      <td>True</td>\n",
              "      <td>True</td>\n",
              "      <td>True</td>\n",
              "      <td>True</td>\n",
              "      <td>True</td>\n",
              "      <td>True</td>\n",
              "      <td>False</td>\n",
              "      <td>True</td>\n",
              "    </tr>\n",
              "    <tr>\n",
              "      <th>5</th>\n",
              "      <td>True</td>\n",
              "      <td>True</td>\n",
              "      <td>True</td>\n",
              "      <td>True</td>\n",
              "      <td>True</td>\n",
              "      <td>True</td>\n",
              "      <td>True</td>\n",
              "      <td>False</td>\n",
              "      <td>True</td>\n",
              "    </tr>\n",
              "    <tr>\n",
              "      <th>6</th>\n",
              "      <td>True</td>\n",
              "      <td>True</td>\n",
              "      <td>True</td>\n",
              "      <td>True</td>\n",
              "      <td>True</td>\n",
              "      <td>True</td>\n",
              "      <td>True</td>\n",
              "      <td>True</td>\n",
              "      <td>True</td>\n",
              "    </tr>\n",
              "    <tr>\n",
              "      <th>7</th>\n",
              "      <td>True</td>\n",
              "      <td>True</td>\n",
              "      <td>True</td>\n",
              "      <td>True</td>\n",
              "      <td>True</td>\n",
              "      <td>True</td>\n",
              "      <td>True</td>\n",
              "      <td>True</td>\n",
              "      <td>True</td>\n",
              "    </tr>\n",
              "  </tbody>\n",
              "</table>\n",
              "</div>"
            ],
            "text/plain": [
              "   Name  Team  Number  Position   Age  Height  Weight  College  Salary\n",
              "4  True  True    True      True  True    True    True    False    True\n",
              "5  True  True    True      True  True    True    True    False    True\n",
              "6  True  True    True      True  True    True    True     True    True\n",
              "7  True  True    True      True  True    True    True     True    True"
            ]
          },
          "metadata": {
            "tags": []
          },
          "execution_count": 17
        }
      ]
    },
    {
      "cell_type": "markdown",
      "metadata": {
        "id": "e1INu32P2DXW",
        "colab_type": "text"
      },
      "source": [
        "### __4.5 Indexing and Selecting Data with Pandas__"
      ]
    },
    {
      "cell_type": "code",
      "metadata": {
        "id": "ffXxt7eI2o-P",
        "colab_type": "code",
        "colab": {
          "base_uri": "https://localhost:8080/",
          "height": 176
        },
        "outputId": "9e66ab20-e5db-428e-e423-169f24107445"
      },
      "source": [
        "import pandas as pd \n",
        "  \n",
        "# making data frame from csv file \n",
        "data = pd.read_csv(\"nba.csv\", index_col =\"Name\") \n",
        "  \n",
        "  \n",
        "# retrieving rows by iloc method  \n",
        "row2 = data.iloc[3] \n",
        "\n",
        "row2"
      ],
      "execution_count": null,
      "outputs": [
        {
          "output_type": "execute_result",
          "data": {
            "text/plain": [
              "Team        Boston Celtics\n",
              "Number                  28\n",
              "Position                SG\n",
              "Age                     22\n",
              "Height                 6-5\n",
              "Weight                 185\n",
              "College      Georgia State\n",
              "Salary         1.14864e+06\n",
              "Name: R.J. Hunter, dtype: object"
            ]
          },
          "metadata": {
            "tags": []
          },
          "execution_count": 22
        }
      ]
    },
    {
      "cell_type": "code",
      "metadata": {
        "id": "aGm1SaBm22zb",
        "colab_type": "code",
        "colab": {
          "base_uri": "https://localhost:8080/",
          "height": 217
        },
        "outputId": "cf85dc87-138c-4e29-e225-046f97d20b95"
      },
      "source": [
        "import pandas as pd \n",
        "  \n",
        "# making data frame from csv file \n",
        "data = pd.read_csv(\"nba.csv\", index_col =\"Name\") \n",
        "  \n",
        "  \n",
        "# retrieving multiple rows by iloc method  \n",
        "row2 = data.iloc [[3, 5, 7]] \n",
        "\n",
        "# Display\n",
        "row2 "
      ],
      "execution_count": null,
      "outputs": [
        {
          "output_type": "execute_result",
          "data": {
            "text/html": [
              "<div>\n",
              "<style scoped>\n",
              "    .dataframe tbody tr th:only-of-type {\n",
              "        vertical-align: middle;\n",
              "    }\n",
              "\n",
              "    .dataframe tbody tr th {\n",
              "        vertical-align: top;\n",
              "    }\n",
              "\n",
              "    .dataframe thead th {\n",
              "        text-align: right;\n",
              "    }\n",
              "</style>\n",
              "<table border=\"1\" class=\"dataframe\">\n",
              "  <thead>\n",
              "    <tr style=\"text-align: right;\">\n",
              "      <th></th>\n",
              "      <th>Team</th>\n",
              "      <th>Number</th>\n",
              "      <th>Position</th>\n",
              "      <th>Age</th>\n",
              "      <th>Height</th>\n",
              "      <th>Weight</th>\n",
              "      <th>College</th>\n",
              "      <th>Salary</th>\n",
              "    </tr>\n",
              "    <tr>\n",
              "      <th>Name</th>\n",
              "      <th></th>\n",
              "      <th></th>\n",
              "      <th></th>\n",
              "      <th></th>\n",
              "      <th></th>\n",
              "      <th></th>\n",
              "      <th></th>\n",
              "      <th></th>\n",
              "    </tr>\n",
              "  </thead>\n",
              "  <tbody>\n",
              "    <tr>\n",
              "      <th>R.J. Hunter</th>\n",
              "      <td>Boston Celtics</td>\n",
              "      <td>28.0</td>\n",
              "      <td>SG</td>\n",
              "      <td>22.0</td>\n",
              "      <td>6-5</td>\n",
              "      <td>185.0</td>\n",
              "      <td>Georgia State</td>\n",
              "      <td>1148640.0</td>\n",
              "    </tr>\n",
              "    <tr>\n",
              "      <th>Amir Johnson</th>\n",
              "      <td>Boston Celtics</td>\n",
              "      <td>90.0</td>\n",
              "      <td>PF</td>\n",
              "      <td>29.0</td>\n",
              "      <td>6-9</td>\n",
              "      <td>240.0</td>\n",
              "      <td>NaN</td>\n",
              "      <td>12000000.0</td>\n",
              "    </tr>\n",
              "    <tr>\n",
              "      <th>Kelly Olynyk</th>\n",
              "      <td>Boston Celtics</td>\n",
              "      <td>41.0</td>\n",
              "      <td>C</td>\n",
              "      <td>25.0</td>\n",
              "      <td>7-0</td>\n",
              "      <td>238.0</td>\n",
              "      <td>Gonzaga</td>\n",
              "      <td>2165160.0</td>\n",
              "    </tr>\n",
              "  </tbody>\n",
              "</table>\n",
              "</div>"
            ],
            "text/plain": [
              "                        Team  Number  ...        College      Salary\n",
              "Name                                  ...                           \n",
              "R.J. Hunter   Boston Celtics    28.0  ...  Georgia State   1148640.0\n",
              "Amir Johnson  Boston Celtics    90.0  ...            NaN  12000000.0\n",
              "Kelly Olynyk  Boston Celtics    41.0  ...        Gonzaga   2165160.0\n",
              "\n",
              "[3 rows x 8 columns]"
            ]
          },
          "metadata": {
            "tags": []
          },
          "execution_count": 21
        }
      ]
    },
    {
      "cell_type": "code",
      "metadata": {
        "id": "IM2pBSFg0_Lp",
        "colab_type": "code",
        "colab": {
          "base_uri": "https://localhost:8080/",
          "height": 87
        },
        "outputId": "84cc7b44-3cef-4829-b401-4efdaf1e3979"
      },
      "source": [
        "import pandas as pd \n",
        "  \n",
        "# making data frame from csv file \n",
        "data = pd.read_csv(\"nba.csv\", index_col =\"Name\") \n",
        "  \n",
        "# retrieving two rows and two columns by iloc method  \n",
        "row2 = data.iloc [[3, 4], [1, 2]] \n",
        "  \n",
        "print(row2) "
      ],
      "execution_count": null,
      "outputs": [
        {
          "output_type": "stream",
          "text": [
            "               Number Position\n",
            "Name                          \n",
            "R.J. Hunter      28.0       SG\n",
            "Jonas Jerebko     8.0       PF\n"
          ],
          "name": "stdout"
        }
      ]
    },
    {
      "cell_type": "code",
      "metadata": {
        "id": "hZbK5nNt0_Ie",
        "colab_type": "code",
        "colab": {
          "base_uri": "https://localhost:8080/",
          "height": 283
        },
        "outputId": "20fe3f42-508b-495d-af48-f49aa9c1fdb2"
      },
      "source": [
        "import pandas as pd \n",
        "  \n",
        "# making data frame from csv file \n",
        "data = pd.read_csv(\"nba.csv\", index_col =\"Name\") \n",
        "    \n",
        "# retrieving all rows and some columns by iloc method  \n",
        "row2 = data.iloc [:, [1, 2]] \n",
        "    \n",
        "print(row2)"
      ],
      "execution_count": null,
      "outputs": [
        {
          "output_type": "stream",
          "text": [
            "               Number Position\n",
            "Name                          \n",
            "Avery Bradley     0.0       PG\n",
            "Jae Crowder      99.0       SF\n",
            "John Holland     30.0       SG\n",
            "R.J. Hunter      28.0       SG\n",
            "Jonas Jerebko     8.0       PF\n",
            "...               ...      ...\n",
            "Shelvin Mack      8.0       PG\n",
            "Raul Neto        25.0       PG\n",
            "Tibor Pleiss     21.0        C\n",
            "Jeff Withey      24.0        C\n",
            "NaN               NaN      NaN\n",
            "\n",
            "[458 rows x 2 columns]\n"
          ],
          "name": "stdout"
        }
      ]
    },
    {
      "cell_type": "markdown",
      "metadata": {
        "id": "y2JBRiJm4-BS",
        "colab_type": "text"
      },
      "source": [
        "![3_Pandas](https://scontent.fdel32-1.fna.fbcdn.net/v/t1.0-9/117726099_2996142360612639_1118972370572821058_n.jpg?_nc_cat=108&_nc_sid=730e14&_nc_ohc=zJr7vBJdbLMAX886dTx&_nc_ht=scontent.fdel32-1.fna&oh=254817a243dec176341d66ebb3c6a486&oe=5F5B1434)"
      ]
    },
    {
      "cell_type": "markdown",
      "metadata": {
        "id": "S24z0CkS5SEs",
        "colab_type": "text"
      },
      "source": [
        "### __4.6 Boolean Indexing in Pandas__"
      ]
    },
    {
      "cell_type": "code",
      "metadata": {
        "id": "54KOhDnB5rvr",
        "colab_type": "code",
        "colab": {
          "base_uri": "https://localhost:8080/",
          "height": 105
        },
        "outputId": "ca081c8e-e4b2-439b-db0d-288c9e0ea6b0"
      },
      "source": [
        "# importing pandas as pd \n",
        "import pandas as pd \n",
        "   \n",
        "# dictionary of lists \n",
        "dict = {'name':[\"aparna\", \"pankaj\", \"sudhir\", \"Geeku\"], \n",
        "        'degree': [\"MBA\", \"BCA\", \"M.Tech\", \"MBA\"], \n",
        "        'score':[90, 40, 80, 98]} \n",
        "   \n",
        "df = pd.DataFrame(dict, index = [True, False, True, False]) \n",
        "   \n",
        "print(df) "
      ],
      "execution_count": null,
      "outputs": [
        {
          "output_type": "stream",
          "text": [
            "         name  degree  score\n",
            "True   aparna     MBA     90\n",
            "False  pankaj     BCA     40\n",
            "True   sudhir  M.Tech     80\n",
            "False   Geeku     MBA     98\n"
          ],
          "name": "stdout"
        }
      ]
    },
    {
      "cell_type": "code",
      "metadata": {
        "id": "6gJyb11_5xgs",
        "colab_type": "code",
        "colab": {
          "base_uri": "https://localhost:8080/",
          "height": 70
        },
        "outputId": "028d0795-e6f2-424e-bac8-b768cf219a03"
      },
      "source": [
        "# accessing a dataframe using .loc[] function  \n",
        "print(df.loc[True]) "
      ],
      "execution_count": null,
      "outputs": [
        {
          "output_type": "stream",
          "text": [
            "        name  degree  score\n",
            "True  aparna     MBA     90\n",
            "True  sudhir  M.Tech     80\n"
          ],
          "name": "stdout"
        }
      ]
    },
    {
      "cell_type": "code",
      "metadata": {
        "id": "ZPnztcaf5-md",
        "colab_type": "code",
        "colab": {}
      },
      "source": [
        "# accessing a dataframe using .iloc[] function  \n",
        "print(df.iloc[True]) # TypeError"
      ],
      "execution_count": null,
      "outputs": []
    },
    {
      "cell_type": "code",
      "metadata": {
        "id": "2lfrCUx16BTa",
        "colab_type": "code",
        "colab": {
          "base_uri": "https://localhost:8080/",
          "height": 87
        },
        "outputId": "0b3af065-ad94-4500-cdb3-86b11b7412fd"
      },
      "source": [
        "# accessing a dataframe using .iloc[] function \n",
        "print(df.iloc[1]) "
      ],
      "execution_count": null,
      "outputs": [
        {
          "output_type": "stream",
          "text": [
            "name      pankaj\n",
            "degree       BCA\n",
            "score         40\n",
            "dtype: object\n"
          ],
          "name": "stdout"
        }
      ]
    },
    {
      "cell_type": "code",
      "metadata": {
        "id": "c9rSgmO26K1g",
        "colab_type": "code",
        "colab": {
          "base_uri": "https://localhost:8080/",
          "height": 70
        },
        "outputId": "e57afbbd-1a60-49db-d092-b4bd711a39d6"
      },
      "source": [
        "# Applying a boolean mask to a dataframe :\n",
        "df = pd.DataFrame(dict, index = [0, 1, 2, 3]) \n",
        "\n",
        "print(df[[True, False, True, False]]) "
      ],
      "execution_count": null,
      "outputs": [
        {
          "output_type": "stream",
          "text": [
            "     name  degree  score\n",
            "0  aparna     MBA     90\n",
            "2  sudhir  M.Tech     80\n"
          ],
          "name": "stdout"
        }
      ]
    },
    {
      "cell_type": "code",
      "metadata": {
        "id": "iqHM8siV6c9k",
        "colab_type": "code",
        "colab": {
          "base_uri": "https://localhost:8080/",
          "height": 105
        },
        "outputId": "21cafbd3-5b18-4e13-a339-d1ef09b8a8df"
      },
      "source": [
        "#Masking data based on column value :\n",
        "df = pd.DataFrame(dict) \n",
        "   \n",
        "# using a comparison operator for filtering of data \n",
        "print(df['degree'] == 'BCA') "
      ],
      "execution_count": null,
      "outputs": [
        {
          "output_type": "stream",
          "text": [
            "0    False\n",
            "1     True\n",
            "2    False\n",
            "3    False\n",
            "Name: degree, dtype: bool\n"
          ],
          "name": "stdout"
        }
      ]
    },
    {
      "cell_type": "code",
      "metadata": {
        "id": "FMeDhq8U6qjm",
        "colab_type": "code",
        "colab": {
          "base_uri": "https://localhost:8080/",
          "height": 52
        },
        "outputId": "71e212ff-defa-41fc-f7d1-520c56929fb2"
      },
      "source": [
        "# Masking data based on index value :\n",
        "df = pd.DataFrame(dict, index = [0, 1, 2, 3]) \n",
        "  \n",
        "mask = df.index == 0\n",
        "  \n",
        "print(df[mask]) "
      ],
      "execution_count": null,
      "outputs": [
        {
          "output_type": "stream",
          "text": [
            "     name degree  score\n",
            "0  aparna    MBA     90\n"
          ],
          "name": "stdout"
        }
      ]
    },
    {
      "cell_type": "code",
      "metadata": {
        "id": "u8Jtjcix6nk7",
        "colab_type": "code",
        "colab": {
          "base_uri": "https://localhost:8080/",
          "height": 247
        },
        "outputId": "7a6cf710-d044-4542-fa16-5c1d38fdfcd1"
      },
      "source": [
        "# importing pandas package \n",
        "import pandas as pd \n",
        "   \n",
        "# making data frame from csv file \n",
        "data = pd.read_csv(\"nba.csv\", index_col =\"Name\") \n",
        "   \n",
        "# using greater than operator for filtering of data \n",
        "print(data['Age'] > 25) "
      ],
      "execution_count": null,
      "outputs": [
        {
          "output_type": "stream",
          "text": [
            "Name\n",
            "Avery Bradley    False\n",
            "Jae Crowder      False\n",
            "John Holland      True\n",
            "R.J. Hunter      False\n",
            "Jonas Jerebko     True\n",
            "                 ...  \n",
            "Shelvin Mack      True\n",
            "Raul Neto        False\n",
            "Tibor Pleiss      True\n",
            "Jeff Withey       True\n",
            "NaN              False\n",
            "Name: Age, Length: 458, dtype: bool\n"
          ],
          "name": "stdout"
        }
      ]
    },
    {
      "cell_type": "markdown",
      "metadata": {
        "id": "fVlyLJsI7rkq",
        "colab_type": "text"
      },
      "source": [
        "### __4.7 `DataFrame.ix[ ]`__"
      ]
    },
    {
      "cell_type": "markdown",
      "metadata": {
        "id": "W_TGj0Ol8LFc",
        "colab_type": "text"
      },
      "source": [
        "$\\color{red}{\\text{Note:}}$ __new version of Pandas use `.loc` instead of `.ix`__"
      ]
    }
  ]
}